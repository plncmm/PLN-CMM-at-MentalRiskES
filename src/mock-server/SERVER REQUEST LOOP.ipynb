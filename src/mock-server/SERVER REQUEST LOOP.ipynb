{
 "cells": [
  {
   "cell_type": "code",
   "execution_count": 1,
   "id": "665d6b67",
   "metadata": {},
   "outputs": [],
   "source": [
    "import pickle"
   ]
  },
  {
   "cell_type": "code",
   "execution_count": 2,
   "id": "ab71efc3",
   "metadata": {},
   "outputs": [],
   "source": [
    "from sklearn.preprocessing import FunctionTransformer"
   ]
  },
  {
   "cell_type": "code",
   "execution_count": 3,
   "id": "29f75eee",
   "metadata": {},
   "outputs": [],
   "source": [
    "import requests, zipfile, io\n",
    "from typing import List, Dict\n",
    "from requests.adapters import HTTPAdapter, Retry\n",
    "import random\n",
    "import json\n",
    "import os\n",
    "import pandas as pd\n",
    "from codecarbon import EmissionsTracker\n",
    "from collections import defaultdict\n",
    "\n",
    "URL = \"http://127.0.0.1:5000/\"  ## VERIFICAR QUE ESTO CALCE CON LO ENTREGADO POR LA API!!\n",
    "TOKEN = \"789c16fe57f3bc7f0108525b1ea89a0bb4a4952b\" \n",
    "\n",
    "# Trial endpoints\n",
    "ENDPOINT_GET_MESSAGES_TRIAL = URL+\"{TASK}/getmessages_trial/{TOKEN}\"\n",
    "ENDPOINT_SUBMIT_DECISIONS_TRIAL = URL+\"{SUBTASK}/submit_trial/{TOKEN}/{RUN}\"\n",
    "\n",
    "# Test endpoints\n",
    "#ENDPOINT_GET_MESSAGES = URL+\"{TASK}/getmessages/{TOKEN}\"\n",
    "#ENDPOINT_SUBMIT_DECISIONS = URL+\"{SUBTASK}/submit/{TOKEN}/{RUN}\"\n",
    "\n",
    "class Client_taskX:\n",
    "    def __init__(self, task: str, subtasks: List[str], token: str, number_of_runs: int, tracker: EmissionsTracker):\n",
    "        # Task in which you participate\n",
    "        self.task = task\n",
    "        # Subtasks in which you participate\n",
    "        self.subtasks = subtasks\n",
    "        # Token identifier\n",
    "        self.token = token\n",
    "        # Number of runs (Max: 3)\n",
    "        self.number_of_runs = number_of_runs\n",
    "        self.nicks = []\n",
    "        # Object to calculate CO2 emissions\n",
    "        self.tracker = tracker\n",
    "        self.relevant_cols = ['duration', 'emissions', 'cpu_energy', 'gpu_energy', 'ram_energy', \n",
    "            'energy_consumed', 'cpu_count', 'gpu_count', 'cpu_model', 'gpu_model', 'ram_total_size']\n",
    "        \n",
    "        self.df_data = []\n",
    "        self.pipelines = []\n",
    "        \n",
    "\n",
    "    # Here a GET request is sent to the server to extract the data.\n",
    "    def get_messages(self, retries: int, backoff: float) -> Dict:\n",
    "        session = requests.Session()\n",
    "        retries = Retry( \n",
    "                        total = retries,\n",
    "                        backoff_factor = backoff,\n",
    "                        status_forcelist = [500, 502, 503, 504]\n",
    "                        )\n",
    "        session.mount('http://', HTTPAdapter(max_retries=retries))\n",
    "        response = session.get(ENDPOINT_GET_MESSAGES_TRIAL.format(TASK=self.task, TOKEN=self.token))\n",
    "        if response.status_code != 200:\n",
    "          print(\"GET - Status Code \" + self.task + \": \" + str(response.status_code) + \" - Error: \" + str(response.text))\n",
    "          return []\n",
    "        else:\n",
    "          #print(response.content)\n",
    "          return json.loads(response.content)\n",
    "\n",
    "    \n",
    "        \n",
    "    def calculate_decision(self, subtask: int, run=0):\n",
    "        if self.task == \"task1\":\n",
    "            if subtask == 0:\n",
    "                return self.pipelines[0].predict(self.df_data.text)\n",
    "            elif subtask == 1:\n",
    "                return [elem[1] for elem in self.pipelines[1].predict_proba(self.df_data.text)]\n",
    "        elif self.task == \"task2\":\n",
    "            if subtask == 0:\n",
    "                return self.pipelines[0].predict(self.df_data.text)\n",
    "            elif subtask == 1:\n",
    "                return [elem[1] for elem in self.pipelines[1].predict_proba(self.df_data.text)]\n",
    "            elif subtask == 2:\n",
    "                return self.pipelines[2].predict(self.df_data.text)\n",
    "            elif subtask == 3:\n",
    "                return self.pipelines[3].predict(self.df_data.text)\n",
    "    \n",
    "    \n",
    "    # The POST requests are sent to the server to send predictions and carbon emission data\n",
    "    def submit_decision(self, subtask: int, messages: List[Dict], emissions:Dict, retries, backoff):\n",
    "        for run in range(0,self.number_of_runs):\n",
    "            predictions = self.calculate_decision(subtask, run=run)\n",
    "\n",
    "            # You must create the appropriate structure to send the predictions according to each subtask\n",
    "            decisions = pd.Series(predictions,index=self.df_data.nick).to_dict()\n",
    "            \n",
    "            #print(\"las decisiones son:\", decisions)\n",
    "\n",
    "\n",
    "            data = {\n",
    "                \"predictions\": decisions,\n",
    "                \"emissions\": emissions\n",
    "            }\n",
    "\n",
    "            # Session to POST request\n",
    "            session = requests.Session()\n",
    "            retries = Retry(\n",
    "                            total = retries,\n",
    "                            backoff_factor = backoff,\n",
    "                            status_forcelist = [500, 502, 503, 504]\n",
    "                            )\n",
    "            session.mount('http://', HTTPAdapter(max_retries=retries))\n",
    "\n",
    "\n",
    "            # For each run, new decisions\n",
    "            response = session.post(ENDPOINT_SUBMIT_DECISIONS_TRIAL.format(SUBTASK=self.subtasks[subtask], TOKEN=self.token, RUN=run), json=[data])\n",
    "            if response.status_code != 200:\n",
    "                print(\"POST - Status Code \" + self.task + \": \" + str(response.status_code) + \" - Error: \" + str(response.text))\n",
    "            else:\n",
    "                print(\"Subtask {}: - run {}\".format(self.subtasks[subtask], run))\n",
    "        \n",
    "\n",
    "    # Main thread\n",
    "    def run_taskX(self, retries: int, backoff: float):\n",
    "        # Get messages for taskX\n",
    "        messages = self.get_messages(retries, backoff)\n",
    "        if len(messages) > 0: # cargamos los msges iniciales y lematizamos\n",
    "            self.df_data = pd.DataFrame.from_dict(messages).drop(columns=[\"date\", \"id_message\", \"round\"]).rename(columns={\"message\": \"text\"})\n",
    "            self.df_data = lemmatize_df(self.df_data)\n",
    "            self.nicks = [message[\"nick\"] for message in messages]\n",
    "        # If there are no messages\n",
    "        if len(messages) == 0:\n",
    "            print(\"All rounds processed\")\n",
    "            return\n",
    "        \n",
    "        while len(messages) > 0:\n",
    "            print(\"------------------- Processing round {}\".format(messages[0][\"round\"]))\n",
    "            # Save subjects\n",
    "            with open('./data/rounds_trial/round{}.json'.format(messages[0][\"round\"]), 'w+', encoding='utf8') as json_file:\n",
    "                json.dump(messages, json_file, ensure_ascii=False)\n",
    "\n",
    "            # Calculate emissions for each prediction\n",
    "            self.tracker.start()\n",
    "\n",
    "            \n",
    "            emissions = self.tracker.stop()\n",
    "            df = pd.read_csv(\"emissions.csv\")\n",
    "            measurements = df.iloc[-1][self.relevant_cols].to_dict()\n",
    "\n",
    "            self.submit_decision(0, messages, measurements, retries, backoff) # taskXa\n",
    "            self.submit_decision(1, messages, measurements, retries, backoff) # taskXb\n",
    "            #self.submit_decision(2, messages, measurements, retries, backoff) # taskXc\n",
    "            #self.submit_decision(3, messages, measurements, retries, backoff) # taskXd\n",
    "\n",
    "            # Only one GET request for each round\n",
    "            messages = self.get_messages(retries, backoff)\n",
    "            \n",
    "            # ahora vamos a concatenar los nuevos msges lematizados al dataframe con los textos\n",
    "            new_texts = []\n",
    "            nicks = []\n",
    "            for msg in messages:\n",
    "                nicks.append(msg[\"nick\"])\n",
    "                new_texts.append(msg[\"message\"])\n",
    "            lemmatized_new_texts = lemmatize_docs(new_texts)\n",
    "            \n",
    "            new_data = dict(zip(nicks, lemmatized_new_texts))\n",
    "            self.df_data[\"text\"] = self.df_data.apply(lambda row: (row[\"text\"] + \" \" + new_data.setdefault(row[\"nick\"], \"\")).strip(), axis=1)\n",
    "\n",
    "    \n",
    "        print(\"All rounds processed\")"
   ]
  },
  {
   "cell_type": "code",
   "execution_count": 4,
   "id": "05c82a9c",
   "metadata": {
    "scrolled": true
   },
   "outputs": [
    {
     "name": "stderr",
     "output_type": "stream",
     "text": [
      "[codecarbon INFO @ 10:05:45] [setup] RAM Tracking...\n",
      "[codecarbon INFO @ 10:05:45] [setup] GPU Tracking...\n",
      "[codecarbon INFO @ 10:05:46] Tracking Nvidia GPU via pynvml\n",
      "[codecarbon INFO @ 10:05:46] [setup] CPU Tracking...\n",
      "[codecarbon DEBUG @ 10:05:46] Not using PowerGadget, an exception occurred while instantiating IntelPowerGadget : Intel Power Gadget executable not found on win32\n",
      "[codecarbon DEBUG @ 10:05:46] Not using the RAPL interface, an exception occurred while instantiating IntelRAPL : Platform not supported by Intel RAPL Interface\n",
      "[codecarbon WARNING @ 10:05:46] No CPU tracking mode found. Falling back on CPU constant mode.\n",
      "[codecarbon DEBUG @ 10:05:48] CPU : We detect a AMD Ryzen 5 4600H with Radeon Graphics with a TDP of 54 W\n",
      "[codecarbon INFO @ 10:05:48] CPU Model on constant consumption mode: AMD Ryzen 5 4600H with Radeon Graphics\n",
      "[codecarbon INFO @ 10:05:48] >>> Tracker's metadata:\n",
      "[codecarbon INFO @ 10:05:48]   Platform system: Windows-10-10.0.19045-SP0\n",
      "[codecarbon INFO @ 10:05:48]   Python version: 3.10.10\n",
      "[codecarbon INFO @ 10:05:48]   Available RAM : 15.372 GB\n",
      "[codecarbon INFO @ 10:05:48]   CPU count: 12\n",
      "[codecarbon INFO @ 10:05:48]   CPU model: AMD Ryzen 5 4600H with Radeon Graphics\n",
      "[codecarbon INFO @ 10:05:48]   GPU count: 1\n",
      "[codecarbon INFO @ 10:05:48]   GPU model: 1 x NVIDIA GeForce GTX 1650\n",
      "[codecarbon DEBUG @ 10:05:48] Not running on AWS, couldn't retrieve metadata: ConnectionError(MaxRetryError(\"HTTPConnectionPool(host='169.254.169.254', port=80): Max retries exceeded with url: /latest/dynamic/instance-identity/document (Caused by NewConnectionError('<urllib3.connection.HTTPConnection object at 0x00000274FF9F5C90>: Failed to establish a new connection: [WinError 10051] A socket operation was attempted to an unreachable network'))\"))\n",
      "[codecarbon DEBUG @ 10:05:48] Not running on Azure, couldn't retrieve metadata: ConnectionError(MaxRetryError(\"HTTPConnectionPool(host='169.254.169.254', port=80): Max retries exceeded with url: /metadata/instance?api-version=2019-08-15 (Caused by NewConnectionError('<urllib3.connection.HTTPConnection object at 0x00000274FF9F6EF0>: Failed to establish a new connection: [WinError 10051] A socket operation was attempted to an unreachable network'))\"))\n",
      "[codecarbon DEBUG @ 10:05:48] Not running on GCP, couldn't retrieve metadata: ConnectionError(MaxRetryError(\"HTTPConnectionPool(host='169.254.169.254', port=80): Max retries exceeded with url: /computeMetadata/v1/instance/?recursive=true&alt=json (Caused by NewConnectionError('<urllib3.connection.HTTPConnection object at 0x00000274FF9F75E0>: Failed to establish a new connection: [WinError 10051] A socket operation was attempted to an unreachable network'))\"))\n"
     ]
    }
   ],
   "source": [
    "\n",
    "# Emissions Tracker Config\n",
    "config = {\n",
    "    \"save_to_file\": True,\n",
    "    \"log_level\": \"DEBUG\",\n",
    "    \"tracking_mode\": \"process\",\n",
    "    \"output_dir\": \".\", \n",
    "}\n",
    "tracker = EmissionsTracker(**config)\n",
    "\n",
    "\n"
   ]
  },
  {
   "cell_type": "markdown",
   "id": "6e3a8008",
   "metadata": {},
   "source": [
    "# Requisitos para poder usar pickle en el modelo"
   ]
  },
  {
   "cell_type": "code",
   "execution_count": 5,
   "id": "08d712fe",
   "metadata": {},
   "outputs": [
    {
     "name": "stderr",
     "output_type": "stream",
     "text": [
      "[nltk_data] Downloading package punkt to\n",
      "[nltk_data]     C:\\Users\\Benja\\AppData\\Roaming\\nltk_data...\n",
      "[nltk_data]   Package punkt is already up-to-date!\n",
      "[nltk_data] Downloading package stopwords to\n",
      "[nltk_data]     C:\\Users\\Benja\\AppData\\Roaming\\nltk_data...\n",
      "[nltk_data]   Package stopwords is already up-to-date!\n"
     ]
    }
   ],
   "source": [
    "# Data processing\n",
    "import pandas as pd\n",
    "import numpy as np\n",
    "import nltk\n",
    "\n",
    "# Modeling\n",
    "#import tensorflow as tf\n",
    "\n",
    "#Pipeline\n",
    "from sklearn.compose import ColumnTransformer\n",
    "from sklearn.preprocessing import FunctionTransformer\n",
    "from sklearn.base import BaseEstimator, TransformerMixin\n",
    "from sklearn.pipeline import Pipeline\n",
    "from sklearn.model_selection import train_test_split\n",
    "\n",
    "#Results\n",
    "from sklearn.metrics import classification_report\n",
    "from sklearn.metrics import accuracy_score\n",
    "from sklearn.metrics import f1_score\n",
    "\n",
    "#Features\n",
    "from sklearn.feature_extraction.text import TfidfVectorizer\n",
    "\n",
    "#CLF\n",
    "from sklearn.tree import DecisionTreeClassifier\n",
    "from sklearn.naive_bayes import MultinomialNB\n",
    "from sklearn.svm import SVC\n",
    "from sklearn.neighbors import KNeighborsClassifier\n",
    "import xgboost as xgb\n",
    "# from sklearn.linear_model import LinearRegression\n",
    "\n",
    "#time xd\n",
    "from time import time\n",
    "\n",
    "# text processing\n",
    "from nltk.tokenize import word_tokenize\n",
    "from nltk.tokenize import sent_tokenize\n",
    "import re\n",
    "import string\n",
    "from nltk.corpus import stopwords\n",
    "\n",
    "#graficar\n",
    "import matplotlib.pyplot as plt\n",
    "\n",
    "import locale\n",
    "locale.getpreferredencoding = lambda: \"UTF-8\"\n",
    "#stopwords and lemmatizer\n",
    "nltk.download('punkt')\n",
    "nltk.download('stopwords')\n",
    "import spacy"
   ]
  },
  {
   "cell_type": "code",
   "execution_count": 6,
   "id": "a126cd10",
   "metadata": {},
   "outputs": [
    {
     "name": "stdout",
     "output_type": "stream",
     "text": [
      "List of stopwords in spanish:\n",
      "313\n",
      "\n",
      "Omit - 'mía':\n",
      "\n",
      "List of fresh stopwords in spanish:\n",
      "312\n"
     ]
    }
   ],
   "source": [
    "# stopwords (sacando mia)\n",
    "result = set(stopwords.words('spanish'))\n",
    "print(\"List of stopwords in spanish:\")\n",
    "print (len(result))\n",
    "print(\"\\nOmit - 'mía':\")\n",
    "stop_words = set(stopwords.words('spanish')) - set(['mía'])\n",
    "print(\"\\nList of fresh stopwords in spanish:\")\n",
    "print (len(stop_words))\n",
    "\n",
    "# lemmatizer\n",
    "nlp = spacy.load(\"es_core_news_sm\")"
   ]
  },
  {
   "cell_type": "code",
   "execution_count": 7,
   "id": "e562e02c",
   "metadata": {},
   "outputs": [],
   "source": [
    "def lemmatize_df(dF):\n",
    "    '''\n",
    "    Lemmatize column 'text' of a dataframe\n",
    "    '''\n",
    "    nlp = spacy.load(\"es_core_news_sm\")\n",
    "    lemma_text_list = []\n",
    "    for doc in nlp.pipe(dF[\"text\"], disable=[\"parser\", \"ner\", \"ents\"]):\n",
    "        lemma_text_list.append(\" \".join(token.lemma_ for token in doc))\n",
    "\n",
    "    dF.loc[dF.index,\"text\"] = lemma_text_list\n",
    "    print(\"El df lematizado es: \", dF)\n",
    "    return dF"
   ]
  },
  {
   "cell_type": "code",
   "execution_count": 8,
   "id": "9dd63e7f",
   "metadata": {},
   "outputs": [],
   "source": [
    "def lemmatize_docs(docs):\n",
    "    nlp = spacy.load(\"es_core_news_sm\")\n",
    "    lemma_text_list = []\n",
    "    for doc in nlp.pipe(docs, disable=[\"parser\", \"ner\", \"ents\"]):\n",
    "        lemma_text_list.append(\" \".join(token.lemma_ for token in doc))\n",
    "    return lemma_text_list\n"
   ]
  },
  {
   "cell_type": "code",
   "execution_count": 9,
   "id": "be79134f",
   "metadata": {},
   "outputs": [],
   "source": [
    "def lemmatize_list(list_to_lem):\n",
    "  '''\n",
    "  Lemmatize column 'text' of a dataframe\n",
    "  '''\n",
    "  nlp = spacy.load(\"es_core_news_sm\")\n",
    "  lemma_text_list = []\n",
    "  for doc in nlp.pipe(list_to_lem):\n",
    "      lemma_text_list.append(\" \".join(token.lemma_ for token in doc))\n",
    "\n",
    "  # dF.loc[dF.index,\"text\"] = lemma_text_list\n",
    "  return pd.DataFrame(lemma_text_list, columns = ['text'])"
   ]
  },
  {
   "cell_type": "markdown",
   "id": "b0a27e47",
   "metadata": {},
   "source": [
    "# SOLO SE NECESITAN CAMBIAR LAS VARIABLES DE LAS CELDAS POSTERIORES A ESTA"
   ]
  },
  {
   "cell_type": "code",
   "execution_count": 10,
   "id": "c11c254f",
   "metadata": {},
   "outputs": [],
   "source": [
    "# cargamos el modelo y le quitamos el lematizador\n",
    "pickled_model = pickle.load(open('multiNB_2a.pkl', 'rb'))\n",
    "new_model = Pipeline(pickled_model.steps[1:3])\n",
    "new_model.steps.insert(0,['filler', FunctionTransformer(lambda x: pd.DataFrame(x, columns = ['text']))])"
   ]
  },
  {
   "cell_type": "markdown",
   "id": "5017fc06",
   "metadata": {},
   "source": [
    "## Recordar correr el servidor local apropiado para la task a realizar"
   ]
  },
  {
   "cell_type": "code",
   "execution_count": 11,
   "id": "06903281",
   "metadata": {},
   "outputs": [],
   "source": [
    "# definimos las tasks y los pipelines a usar, recuerda correr el servidor que corresponde a la task a realizar antes de seguir\n",
    "TASK = \"task2\"\n",
    "SUBTASKS = [\"task2a\", \"task2b\"]\n",
    "PIPELINES_PER_SUBTASK = [new_model, new_model]"
   ]
  },
  {
   "cell_type": "code",
   "execution_count": 12,
   "id": "3c188710",
   "metadata": {},
   "outputs": [
    {
     "name": "stderr",
     "output_type": "stream",
     "text": [
      "[codecarbon INFO @ 10:05:53] Energy consumed for RAM : 0.000000 kWh. RAM Power : 0.12357044219970705 W\n",
      "[codecarbon DEBUG @ 10:05:53] RAM : 0.12 W during 0.00 s [measurement time: 0.0070]\n"
     ]
    },
    {
     "name": "stdout",
     "output_type": "stream",
     "text": [
      "El df lematizado es:                                                  text        nick\n",
      "0  bien ... técnicamente deber ir yo a dormir car...    subject1\n",
      "1             umm pues como tú explico ... mal : ´ (   subject10\n",
      "2  Hola , estar realmente mal , no él que hacer c...  subject100\n",
      "3                        ¿ Cuanto tiempo durar así ?  subject102\n",
      "4     haber ser día confuso , de momento bien y tú ?  subject103\n",
      "5            pues el 4 y 20 de el tarde por supuesto  subject105\n",
      "6  quiza ser mejor que habl con él y él cuentser ...  subject107\n",
      "7  Holaa a todo cara feliz con ojo sonrient ver q...  subject120\n",
      "8  uno amigo mío padecer de adicción a ese y él s...  subject206\n",
      "9                               con depre y ansiedad  subject210\n",
      "------------------- Processing round 0\n"
     ]
    },
    {
     "name": "stderr",
     "output_type": "stream",
     "text": [
      "[codecarbon INFO @ 10:05:53] Energy consumed for all GPUs : 0.000000 kWh. All GPUs Power : 1.0 W\n",
      "[codecarbon DEBUG @ 10:05:53] GPU : 3.28 W during 0.02 s [measurement time: 0.3985]\n",
      "[codecarbon INFO @ 10:05:53] Energy consumed for all CPUs : 0.000003 kWh. All CPUs Power : 27.0 W\n",
      "[codecarbon DEBUG @ 10:05:53] CPU : 27.00 W during 0.42 s [measurement time: 0.0000]\n",
      "[codecarbon INFO @ 10:05:53] 0.000003 kWh of electricity used since the begining.\n",
      "[codecarbon DEBUG @ 10:05:53] last_duration=0.42054319381713867\n",
      "------------------------\n",
      "[codecarbon DEBUG @ 10:05:53] We apply an energy mix of 363 g.CO2eq/kWh for Chile\n",
      "[codecarbon DEBUG @ 10:05:53] EmissionsData(timestamp='2023-04-25T10:05:53', project_name='codecarbon', run_id='cbcdde9b-da5f-4b0a-8c6b-7636ca066156', duration=0.4225451946258545, emissions=1.1467599471177633e-06, emissions_rate=0.002713934418620403, cpu_power=27.0, gpu_power=1.0, ram_power=0.12357044219970705, cpu_energy=3.15407395362854e-06, gpu_energy=4.451142417060004e-09, ram_energy=3.460088237261516e-11, energy_consumed=3.1585596969279725e-06, country_name='Chile', country_iso_code='CHL', region='santiago metropolitan', cloud_provider='', cloud_region='', os='Windows-10-10.0.19045-SP0', python_version='3.10.10', cpu_count=12, cpu_model='AMD Ryzen 5 4600H with Radeon Graphics', gpu_count=1, gpu_model='1 x NVIDIA GeForce GTX 1650', longitude=-70.5937, latitude=-33.4653, ram_total_size=15.372379302978516, tracking_mode='process', on_cloud='N')\n"
     ]
    },
    {
     "name": "stdout",
     "output_type": "stream",
     "text": [
      "las decisiones son: {'subject1': 0, 'subject10': 0, 'subject100': 1, 'subject102': 1, 'subject103': 0, 'subject105': 1, 'subject107': 1, 'subject120': 0, 'subject206': 0, 'subject210': 1}\n",
      "Subtask task2a: - run 0\n",
      "las decisiones son: {'subject1': 0.19504637982440148, 'subject10': 0.4705461739610953, 'subject100': 0.7829069183938828, 'subject102': 0.623873966188895, 'subject103': 0.2292773111882453, 'subject105': 0.6117726528248979, 'subject107': 0.6585563122127713, 'subject120': 0.31840805084519097, 'subject206': 0.34281849531028097, 'subject210': 0.8629230429868868}\n",
      "Subtask task2b: - run 0\n"
     ]
    },
    {
     "name": "stderr",
     "output_type": "stream",
     "text": [
      "[codecarbon WARNING @ 10:05:54] Already started tracking\n",
      "[codecarbon INFO @ 10:05:54] Energy consumed for RAM : 0.000000 kWh. RAM Power : 0.12622976303100586 W\n",
      "[codecarbon DEBUG @ 10:05:54] RAM : 0.13 W during 0.65 s [measurement time: 0.0080]\n",
      "[codecarbon INFO @ 10:05:54] Energy consumed for all GPUs : 0.000000 kWh. All GPUs Power : 1.006 W\n",
      "[codecarbon DEBUG @ 10:05:54] GPU : 1.01 W during 0.67 s [measurement time: 0.0070]\n",
      "[codecarbon INFO @ 10:05:54] Energy consumed for all CPUs : 0.000008 kWh. All CPUs Power : 27.0 W\n",
      "[codecarbon DEBUG @ 10:05:54] CPU : 27.00 W during 0.68 s [measurement time: 0.0010]\n",
      "[codecarbon INFO @ 10:05:54] 0.000008 kWh of electricity used since the begining.\n",
      "[codecarbon DEBUG @ 10:05:54] last_duration=0.6801576614379883\n",
      "------------------------\n",
      "[codecarbon DEBUG @ 10:05:54] We apply an energy mix of 363 g.CO2eq/kWh for Chile\n",
      "[codecarbon DEBUG @ 10:05:54] EmissionsData(timestamp='2023-04-25T10:05:54', project_name='codecarbon', run_id='cbcdde9b-da5f-4b0a-8c6b-7636ca066156', duration=1.105710744857788, emissions=3.074919141824775e-06, emissions_rate=0.0027809435298743147, cpu_power=27.0, gpu_power=1.006, ram_power=0.12622976303100586, cpu_energy=8.255256414413453e-06, gpu_energy=1.9116106735335454e-07, ram_energy=2.2936280623279497e-08, energy_consumed=8.469353762390085e-06, country_name='Chile', country_iso_code='CHL', region='santiago metropolitan', cloud_provider='', cloud_region='', os='Windows-10-10.0.19045-SP0', python_version='3.10.10', cpu_count=12, cpu_model='AMD Ryzen 5 4600H with Radeon Graphics', gpu_count=1, gpu_model='1 x NVIDIA GeForce GTX 1650', longitude=-70.5937, latitude=-33.4653, ram_total_size=15.372379302978516, tracking_mode='process', on_cloud='N')\n"
     ]
    },
    {
     "name": "stdout",
     "output_type": "stream",
     "text": [
      "------------------- Processing round 1\n",
      "las decisiones son: {'subject1': 0, 'subject10': 1, 'subject100': 1, 'subject102': 1, 'subject103': 1, 'subject105': 1, 'subject107': 0, 'subject120': 0, 'subject206': 0, 'subject210': 1}\n",
      "Subtask task2a: - run 0\n",
      "las decisiones son: {'subject1': 0.0627210502026609, 'subject10': 0.826960447047198, 'subject100': 0.7897991697835441, 'subject102': 0.966594426178786, 'subject103': 0.838653632178246, 'subject105': 0.648201710859434, 'subject107': 0.49078879370369, 'subject120': 0.20076992810140054, 'subject206': 0.41889422410573396, 'subject210': 0.8752212983821552}\n",
      "Subtask task2b: - run 0\n"
     ]
    },
    {
     "name": "stderr",
     "output_type": "stream",
     "text": [
      "[codecarbon WARNING @ 10:05:54] Already started tracking\n",
      "[codecarbon INFO @ 10:05:54] Energy consumed for RAM : 0.000000 kWh. RAM Power : 0.13891839981079102 W\n",
      "[codecarbon DEBUG @ 10:05:54] RAM : 0.14 W during 0.62 s [measurement time: 0.0070]\n",
      "[codecarbon INFO @ 10:05:54] Energy consumed for all GPUs : 0.000000 kWh. All GPUs Power : 1.043 W\n",
      "[codecarbon DEBUG @ 10:05:54] GPU : 1.04 W during 0.64 s [measurement time: 0.0090]\n",
      "[codecarbon INFO @ 10:05:54] Energy consumed for all CPUs : 0.000013 kWh. All CPUs Power : 27.0 W\n",
      "[codecarbon DEBUG @ 10:05:54] CPU : 27.00 W during 0.65 s [measurement time: 0.0010]\n",
      "[codecarbon INFO @ 10:05:54] 0.000014 kWh of electricity used since the begining.\n",
      "[codecarbon DEBUG @ 10:05:54] last_duration=0.6530179977416992\n",
      "------------------------\n",
      "[codecarbon DEBUG @ 10:05:54] We apply an energy mix of 363 g.CO2eq/kWh for Chile\n",
      "[codecarbon DEBUG @ 10:05:54] EmissionsData(timestamp='2023-04-25T10:05:54', project_name='codecarbon', run_id='cbcdde9b-da5f-4b0a-8c6b-7636ca066156', duration=1.7627370357513428, emissions=4.9289303204603745e-06, emissions_rate=0.002796180156480053, cpu_power=27.0, gpu_power=1.043, ram_power=0.13891839981079102, cpu_energy=1.3152891397476197e-05, gpu_energy=3.760121374660068e-07, ram_energy=4.7015905130175876e-08, energy_consumed=1.3575919440072378e-05, country_name='Chile', country_iso_code='CHL', region='santiago metropolitan', cloud_provider='', cloud_region='', os='Windows-10-10.0.19045-SP0', python_version='3.10.10', cpu_count=12, cpu_model='AMD Ryzen 5 4600H with Radeon Graphics', gpu_count=1, gpu_model='1 x NVIDIA GeForce GTX 1650', longitude=-70.5937, latitude=-33.4653, ram_total_size=15.372379302978516, tracking_mode='process', on_cloud='N')\n"
     ]
    },
    {
     "name": "stdout",
     "output_type": "stream",
     "text": [
      "------------------- Processing round 2\n",
      "las decisiones son: {'subject1': 0, 'subject10': 1, 'subject100': 1, 'subject102': 1, 'subject103': 1, 'subject105': 1, 'subject107': 0, 'subject120': 0, 'subject206': 0, 'subject210': 1}\n",
      "Subtask task2a: - run 0\n",
      "las decisiones son: {'subject1': 0.2912222083287667, 'subject10': 0.9822677001907766, 'subject100': 0.8832759506723907, 'subject102': 0.95200573780653, 'subject103': 0.8287963038941066, 'subject105': 0.7310914322812491, 'subject107': 0.3392193277893336, 'subject120': 0.023722308175791497, 'subject206': 0.4337504940169835, 'subject210': 0.890159664070254}\n",
      "Subtask task2b: - run 0\n"
     ]
    },
    {
     "name": "stderr",
     "output_type": "stream",
     "text": [
      "[codecarbon WARNING @ 10:05:55] Already started tracking\n",
      "[codecarbon INFO @ 10:05:55] Energy consumed for RAM : 0.000000 kWh. RAM Power : 0.1513481140136719 W\n",
      "[codecarbon DEBUG @ 10:05:55] RAM : 0.15 W during 0.61 s [measurement time: 0.0090]\n",
      "[codecarbon INFO @ 10:05:55] Energy consumed for all GPUs : 0.000001 kWh. All GPUs Power : 1.01 W\n",
      "[codecarbon DEBUG @ 10:05:55] GPU : 1.01 W during 0.63 s [measurement time: 0.0070]\n",
      "[codecarbon INFO @ 10:05:55] Energy consumed for all CPUs : 0.000018 kWh. All CPUs Power : 27.0 W\n",
      "[codecarbon DEBUG @ 10:05:55] CPU : 27.00 W during 0.64 s [measurement time: 0.0010]\n",
      "[codecarbon INFO @ 10:05:55] 0.000019 kWh of electricity used since the begining.\n",
      "[codecarbon DEBUG @ 10:05:55] last_duration=0.641791582107544\n",
      "------------------------\n",
      "[codecarbon DEBUG @ 10:05:55] We apply an energy mix of 363 g.CO2eq/kWh for Chile\n",
      "[codecarbon DEBUG @ 10:05:55] EmissionsData(timestamp='2023-04-25T10:05:55', project_name='codecarbon', run_id='cbcdde9b-da5f-4b0a-8c6b-7636ca066156', duration=2.4055211544036865, emissions=6.750020679876616e-06, emissions_rate=0.0028060533442076105, cpu_power=27.0, gpu_power=1.01, ram_power=0.1513481140136719, cpu_energy=1.7966328263282778e-05, gpu_energy=5.527033066749573e-07, ram_energy=7.27786222927307e-08, energy_consumed=1.8591810192250463e-05, country_name='Chile', country_iso_code='CHL', region='santiago metropolitan', cloud_provider='', cloud_region='', os='Windows-10-10.0.19045-SP0', python_version='3.10.10', cpu_count=12, cpu_model='AMD Ryzen 5 4600H with Radeon Graphics', gpu_count=1, gpu_model='1 x NVIDIA GeForce GTX 1650', longitude=-70.5937, latitude=-33.4653, ram_total_size=15.372379302978516, tracking_mode='process', on_cloud='N')\n"
     ]
    },
    {
     "name": "stdout",
     "output_type": "stream",
     "text": [
      "------------------- Processing round 3\n",
      "las decisiones son: {'subject1': 0, 'subject10': 1, 'subject100': 1, 'subject102': 1, 'subject103': 1, 'subject105': 0, 'subject107': 0, 'subject120': 0, 'subject206': 0, 'subject210': 1}\n",
      "Subtask task2a: - run 0\n",
      "las decisiones son: {'subject1': 0.3307647788575836, 'subject10': 0.9604554536408503, 'subject100': 0.7807188396558135, 'subject102': 0.9627698280366894, 'subject103': 0.8446252755761562, 'subject105': 0.46269518421089467, 'subject107': 0.3344220965332645, 'subject120': 0.012074396189909485, 'subject206': 0.48895603225567086, 'subject210': 0.7759382763284979}\n",
      "Subtask task2b: - run 0\n"
     ]
    },
    {
     "name": "stderr",
     "output_type": "stream",
     "text": [
      "[codecarbon WARNING @ 10:05:56] Already started tracking\n",
      "[codecarbon INFO @ 10:05:56] Energy consumed for RAM : 0.000000 kWh. RAM Power : 0.152435302734375 W\n",
      "[codecarbon DEBUG @ 10:05:56] RAM : 0.15 W during 0.62 s [measurement time: 0.0070]\n",
      "[codecarbon INFO @ 10:05:56] Energy consumed for all GPUs : 0.000001 kWh. All GPUs Power : 1.0050000000000001 W\n",
      "[codecarbon DEBUG @ 10:05:56] GPU : 1.01 W during 0.64 s [measurement time: 0.0080]\n",
      "[codecarbon INFO @ 10:05:56] Energy consumed for all CPUs : 0.000023 kWh. All CPUs Power : 27.0 W\n",
      "[codecarbon DEBUG @ 10:05:56] CPU : 27.00 W during 0.65 s [measurement time: 0.0010]\n",
      "[codecarbon INFO @ 10:05:56] 0.000024 kWh of electricity used since the begining.\n",
      "[codecarbon DEBUG @ 10:05:56] last_duration=0.6495847702026367\n",
      "------------------------\n",
      "[codecarbon DEBUG @ 10:05:56] We apply an energy mix of 363 g.CO2eq/kWh for Chile\n",
      "[codecarbon DEBUG @ 10:05:56] EmissionsData(timestamp='2023-04-25T10:05:56', project_name='codecarbon', run_id='cbcdde9b-da5f-4b0a-8c6b-7636ca066156', duration=3.0571072101593018, emissions=8.592788024883176e-06, emissions_rate=0.002810757828946214, cpu_power=27.0, gpu_power=1.0050000000000001, ram_power=0.152435302734375, cpu_energy=2.2838214039802552e-05, gpu_energy=7.301366732517879e-07, ram_energy=9.90558857341739e-08, energy_consumed=2.3667406598788515e-05, country_name='Chile', country_iso_code='CHL', region='santiago metropolitan', cloud_provider='', cloud_region='', os='Windows-10-10.0.19045-SP0', python_version='3.10.10', cpu_count=12, cpu_model='AMD Ryzen 5 4600H with Radeon Graphics', gpu_count=1, gpu_model='1 x NVIDIA GeForce GTX 1650', longitude=-70.5937, latitude=-33.4653, ram_total_size=15.372379302978516, tracking_mode='process', on_cloud='N')\n"
     ]
    },
    {
     "name": "stdout",
     "output_type": "stream",
     "text": [
      "------------------- Processing round 4\n",
      "las decisiones son: {'subject1': 0, 'subject10': 1, 'subject100': 1, 'subject102': 1, 'subject103': 1, 'subject105': 0, 'subject107': 0, 'subject120': 0, 'subject206': 1, 'subject210': 1}\n",
      "Subtask task2a: - run 0\n",
      "las decisiones son: {'subject1': 0.28971434132801943, 'subject10': 0.9818142530063139, 'subject100': 0.7807188396558135, 'subject102': 0.9758696079554666, 'subject103': 0.9519301369762058, 'subject105': 0.3891091333410861, 'subject107': 0.25185225044821047, 'subject120': 0.02793105061558154, 'subject206': 0.5583681087224153, 'subject210': 0.8529389744142875}\n",
      "Subtask task2b: - run 0\n"
     ]
    },
    {
     "name": "stderr",
     "output_type": "stream",
     "text": [
      "[codecarbon WARNING @ 10:05:56] Already started tracking\n",
      "[codecarbon INFO @ 10:05:56] Energy consumed for RAM : 0.000000 kWh. RAM Power : 0.16468048095703125 W\n",
      "[codecarbon DEBUG @ 10:05:56] RAM : 0.16 W during 0.60 s [measurement time: 0.0070]\n",
      "[codecarbon INFO @ 10:05:56] Energy consumed for all GPUs : 0.000001 kWh. All GPUs Power : 1.008 W\n",
      "[codecarbon DEBUG @ 10:05:56] GPU : 1.02 W during 0.62 s [measurement time: 0.0080]\n",
      "[codecarbon INFO @ 10:05:56] Energy consumed for all CPUs : 0.000028 kWh. All CPUs Power : 27.0 W\n",
      "[codecarbon DEBUG @ 10:05:56] CPU : 27.00 W during 0.63 s [measurement time: 0.0010]\n",
      "[codecarbon INFO @ 10:05:56] 0.000029 kWh of electricity used since the begining.\n",
      "[codecarbon DEBUG @ 10:05:56] last_duration=0.6294310092926025\n",
      "------------------------\n",
      "[codecarbon DEBUG @ 10:05:56] We apply an energy mix of 363 g.CO2eq/kWh for Chile\n",
      "[codecarbon DEBUG @ 10:05:56] EmissionsData(timestamp='2023-04-25T10:05:56', project_name='codecarbon', run_id='cbcdde9b-da5f-4b0a-8c6b-7636ca066156', duration=3.689546823501587, emissions=1.0379386406619814e-05, emissions_rate=0.002813187337942277, cpu_power=27.0, gpu_power=1.008, ram_power=0.16468048095703125, cpu_energy=2.755894660949707e-05, gpu_energy=9.027344153324764e-07, ram_energy=1.266139057613221e-07, energy_consumed=2.8588294930590866e-05, country_name='Chile', country_iso_code='CHL', region='santiago metropolitan', cloud_provider='', cloud_region='', os='Windows-10-10.0.19045-SP0', python_version='3.10.10', cpu_count=12, cpu_model='AMD Ryzen 5 4600H with Radeon Graphics', gpu_count=1, gpu_model='1 x NVIDIA GeForce GTX 1650', longitude=-70.5937, latitude=-33.4653, ram_total_size=15.372379302978516, tracking_mode='process', on_cloud='N')\n"
     ]
    },
    {
     "name": "stdout",
     "output_type": "stream",
     "text": [
      "------------------- Processing round 5\n",
      "las decisiones son: {'subject1': 0, 'subject10': 1, 'subject100': 1, 'subject102': 1, 'subject103': 1, 'subject105': 0, 'subject107': 1, 'subject120': 0, 'subject206': 1, 'subject210': 1}\n",
      "Subtask task2a: - run 0\n",
      "las decisiones son: {'subject1': 0.30077922451454503, 'subject10': 0.988549863643486, 'subject100': 0.7048568265956822, 'subject102': 0.9802867347976055, 'subject103': 0.6091049487260575, 'subject105': 0.40244914569065376, 'subject107': 0.630771571448457, 'subject120': 0.04877562701279477, 'subject206': 0.5908477930499076, 'subject210': 0.9412816869891256}\n",
      "Subtask task2b: - run 0\n"
     ]
    },
    {
     "name": "stderr",
     "output_type": "stream",
     "text": [
      "[codecarbon WARNING @ 10:05:57] Already started tracking\n",
      "[codecarbon INFO @ 10:05:57] Energy consumed for RAM : 0.000000 kWh. RAM Power : 0.17665529251098633 W\n",
      "[codecarbon DEBUG @ 10:05:57] RAM : 0.18 W during 0.59 s [measurement time: 0.0080]\n",
      "[codecarbon INFO @ 10:05:57] Energy consumed for all GPUs : 0.000001 kWh. All GPUs Power : 1.0090000000000001 W\n",
      "[codecarbon DEBUG @ 10:05:57] GPU : 1.01 W during 0.61 s [measurement time: 0.0070]\n",
      "[codecarbon INFO @ 10:05:57] Energy consumed for all CPUs : 0.000032 kWh. All CPUs Power : 27.0 W\n",
      "[codecarbon DEBUG @ 10:05:57] CPU : 27.00 W during 0.62 s [measurement time: 0.0010]\n",
      "[codecarbon INFO @ 10:05:57] 0.000033 kWh of electricity used since the begining.\n",
      "[codecarbon DEBUG @ 10:05:57] last_duration=0.6246354579925537\n",
      "------------------------\n",
      "[codecarbon DEBUG @ 10:05:57] We apply an energy mix of 363 g.CO2eq/kWh for Chile\n",
      "[codecarbon DEBUG @ 10:05:57] EmissionsData(timestamp='2023-04-25T10:05:57', project_name='codecarbon', run_id='cbcdde9b-da5f-4b0a-8c6b-7636ca066156', duration=4.3161725997924805, emissions=1.215297066897854e-05, emissions_rate=0.0028156822712703494, cpu_power=27.0, gpu_power=1.0090000000000001, ram_power=0.17665529251098633, cpu_energy=3.2243712544441225e-05, gpu_energy=1.0738816475205952e-06, ram_energy=1.5574384139161642e-07, energy_consumed=3.3473338033353434e-05, country_name='Chile', country_iso_code='CHL', region='santiago metropolitan', cloud_provider='', cloud_region='', os='Windows-10-10.0.19045-SP0', python_version='3.10.10', cpu_count=12, cpu_model='AMD Ryzen 5 4600H with Radeon Graphics', gpu_count=1, gpu_model='1 x NVIDIA GeForce GTX 1650', longitude=-70.5937, latitude=-33.4653, ram_total_size=15.372379302978516, tracking_mode='process', on_cloud='N')\n"
     ]
    },
    {
     "name": "stdout",
     "output_type": "stream",
     "text": [
      "------------------- Processing round 6\n",
      "las decisiones son: {'subject1': 0, 'subject10': 1, 'subject100': 1, 'subject102': 1, 'subject103': 1, 'subject105': 1, 'subject107': 1, 'subject120': 0, 'subject206': 1, 'subject210': 1}\n",
      "Subtask task2a: - run 0\n",
      "las decisiones son: {'subject1': 0.20080650316022652, 'subject10': 0.983780036332391, 'subject100': 0.763835223322545, 'subject102': 0.9913652938353671, 'subject103': 0.5606427411142785, 'subject105': 0.5225618839948685, 'subject107': 0.667869480388292, 'subject120': 0.03283070310876585, 'subject206': 0.6628262503502181, 'subject210': 0.8746600283213622}\n",
      "Subtask task2b: - run 0\n"
     ]
    },
    {
     "name": "stderr",
     "output_type": "stream",
     "text": [
      "[codecarbon WARNING @ 10:05:57] Already started tracking\n",
      "[codecarbon INFO @ 10:05:57] Energy consumed for RAM : 0.000000 kWh. RAM Power : 0.17798566818237307 W\n",
      "[codecarbon DEBUG @ 10:05:57] RAM : 0.18 W during 0.60 s [measurement time: 0.0080]\n",
      "[codecarbon INFO @ 10:05:57] Energy consumed for all GPUs : 0.000001 kWh. All GPUs Power : 1.0190000000000001 W\n",
      "[codecarbon DEBUG @ 10:05:57] GPU : 1.02 W during 0.62 s [measurement time: 0.0070]\n",
      "[codecarbon INFO @ 10:05:57] Energy consumed for all CPUs : 0.000037 kWh. All CPUs Power : 27.0 W\n",
      "[codecarbon DEBUG @ 10:05:57] CPU : 27.00 W during 0.63 s [measurement time: 0.0010]\n",
      "[codecarbon INFO @ 10:05:57] 0.000038 kWh of electricity used since the begining.\n",
      "[codecarbon DEBUG @ 10:05:57] last_duration=0.6336886882781982\n",
      "------------------------\n",
      "[codecarbon DEBUG @ 10:05:57] We apply an energy mix of 363 g.CO2eq/kWh for Chile\n",
      "[codecarbon DEBUG @ 10:05:57] EmissionsData(timestamp='2023-04-25T10:05:57', project_name='codecarbon', run_id='cbcdde9b-da5f-4b0a-8c6b-7636ca066156', duration=4.951868057250977, emissions=1.3953218670636958e-05, emissions_rate=0.0028177686701901083, cpu_power=27.0, gpu_power=1.0190000000000001, ram_power=0.17798566818237307, cpu_energy=3.699637770652771e-05, gpu_energy=1.249853588408894e-06, ram_energy=1.8559067989466864e-07, energy_consumed=3.843182197483127e-05, country_name='Chile', country_iso_code='CHL', region='santiago metropolitan', cloud_provider='', cloud_region='', os='Windows-10-10.0.19045-SP0', python_version='3.10.10', cpu_count=12, cpu_model='AMD Ryzen 5 4600H with Radeon Graphics', gpu_count=1, gpu_model='1 x NVIDIA GeForce GTX 1650', longitude=-70.5937, latitude=-33.4653, ram_total_size=15.372379302978516, tracking_mode='process', on_cloud='N')\n"
     ]
    },
    {
     "name": "stdout",
     "output_type": "stream",
     "text": [
      "------------------- Processing round 7\n",
      "las decisiones son: {'subject1': 0, 'subject10': 1, 'subject100': 1, 'subject102': 1, 'subject103': 1, 'subject105': 1, 'subject107': 1, 'subject120': 0, 'subject206': 1, 'subject210': 1}\n",
      "Subtask task2a: - run 0\n",
      "las decisiones son: {'subject1': 0.17949302071327625, 'subject10': 0.9798828836916618, 'subject100': 0.8536416540893085, 'subject102': 0.986933333835418, 'subject103': 0.5527999300536779, 'subject105': 0.6809740892722084, 'subject107': 0.6318136948241251, 'subject120': 0.1482443581349378, 'subject206': 0.7115278933536716, 'subject210': 0.8822951847958495}\n",
      "Subtask task2b: - run 0\n"
     ]
    },
    {
     "name": "stderr",
     "output_type": "stream",
     "text": [
      "[codecarbon WARNING @ 10:05:58] Already started tracking\n",
      "[codecarbon INFO @ 10:05:58] Energy consumed for RAM : 0.000000 kWh. RAM Power : 0.1912221908569336 W\n",
      "[codecarbon DEBUG @ 10:05:58] RAM : 0.19 W during 0.59 s [measurement time: 0.0070]\n",
      "[codecarbon INFO @ 10:05:58] Energy consumed for all GPUs : 0.000001 kWh. All GPUs Power : 1.052 W\n",
      "[codecarbon DEBUG @ 10:05:58] GPU : 1.05 W during 0.60 s [measurement time: 0.0070]\n",
      "[codecarbon INFO @ 10:05:58] Energy consumed for all CPUs : 0.000042 kWh. All CPUs Power : 27.0 W\n",
      "[codecarbon DEBUG @ 10:05:58] CPU : 27.00 W during 0.62 s [measurement time: 0.0010]\n",
      "[codecarbon INFO @ 10:05:58] 0.000043 kWh of electricity used since the begining.\n",
      "[codecarbon DEBUG @ 10:05:58] last_duration=0.6161606311798096\n",
      "------------------------\n",
      "[codecarbon DEBUG @ 10:05:58] We apply an energy mix of 363 g.CO2eq/kWh for Chile\n",
      "[codecarbon DEBUG @ 10:05:58] EmissionsData(timestamp='2023-04-25T10:05:58', project_name='codecarbon', run_id='cbcdde9b-da5f-4b0a-8c6b-7636ca066156', duration=5.570026636123657, emissions=1.5706454717655783e-05, emissions_rate=0.002819816805864749, cpu_power=27.0, gpu_power=1.052, ram_power=0.1912221908569336, cpu_energy=4.161758244037628e-05, gpu_energy=1.4264044678873486e-06, ram_energy=2.168323917997365e-07, energy_consumed=4.326081930006336e-05, country_name='Chile', country_iso_code='CHL', region='santiago metropolitan', cloud_provider='', cloud_region='', os='Windows-10-10.0.19045-SP0', python_version='3.10.10', cpu_count=12, cpu_model='AMD Ryzen 5 4600H with Radeon Graphics', gpu_count=1, gpu_model='1 x NVIDIA GeForce GTX 1650', longitude=-70.5937, latitude=-33.4653, ram_total_size=15.372379302978516, tracking_mode='process', on_cloud='N')\n"
     ]
    },
    {
     "name": "stdout",
     "output_type": "stream",
     "text": [
      "------------------- Processing round 8\n",
      "las decisiones son: {'subject1': 0, 'subject10': 1, 'subject100': 1, 'subject102': 1, 'subject103': 0, 'subject105': 1, 'subject107': 1, 'subject120': 0, 'subject206': 1, 'subject210': 1}\n",
      "Subtask task2a: - run 0\n",
      "las decisiones son: {'subject1': 0.17287684844280432, 'subject10': 0.9942623045756873, 'subject100': 0.8999754666894952, 'subject102': 0.9900621278693977, 'subject103': 0.43154749047882823, 'subject105': 0.607155525729687, 'subject107': 0.6139783644359096, 'subject120': 0.17524964602405807, 'subject206': 0.6627567291061335, 'subject210': 0.897197870861428}\n",
      "Subtask task2b: - run 0\n"
     ]
    },
    {
     "name": "stderr",
     "output_type": "stream",
     "text": [
      "[codecarbon WARNING @ 10:05:59] Already started tracking\n",
      "[codecarbon INFO @ 10:05:59] Energy consumed for RAM : 0.000000 kWh. RAM Power : 0.20323419570922852 W\n",
      "[codecarbon DEBUG @ 10:05:59] RAM : 0.20 W during 0.62 s [measurement time: 0.0073]\n",
      "[codecarbon INFO @ 10:05:59] Energy consumed for all GPUs : 0.000002 kWh. All GPUs Power : 1.027 W\n",
      "[codecarbon DEBUG @ 10:05:59] GPU : 1.03 W during 0.63 s [measurement time: 0.0070]\n",
      "[codecarbon INFO @ 10:05:59] Energy consumed for all CPUs : 0.000046 kWh. All CPUs Power : 27.0 W\n",
      "[codecarbon DEBUG @ 10:05:59] CPU : 27.00 W during 0.64 s [measurement time: 0.0020]\n",
      "[codecarbon INFO @ 10:05:59] 0.000048 kWh of electricity used since the begining.\n",
      "[codecarbon DEBUG @ 10:05:59] last_duration=0.643427848815918\n",
      "------------------------\n",
      "[codecarbon DEBUG @ 10:05:59] We apply an energy mix of 363 g.CO2eq/kWh for Chile\n",
      "[codecarbon DEBUG @ 10:05:59] EmissionsData(timestamp='2023-04-25T10:05:59', project_name='codecarbon', run_id='cbcdde9b-da5f-4b0a-8c6b-7636ca066156', duration=6.2174599170684814, emissions=1.7536533741334827e-05, emissions_rate=0.002820530244705343, cpu_power=27.0, gpu_power=1.027, ram_power=0.20323419570922852, cpu_energy=4.6443291306495665e-05, gpu_energy=1.6065363013744354e-06, ram_energy=2.5164022627772434e-07, energy_consumed=4.830146783414782e-05, country_name='Chile', country_iso_code='CHL', region='santiago metropolitan', cloud_provider='', cloud_region='', os='Windows-10-10.0.19045-SP0', python_version='3.10.10', cpu_count=12, cpu_model='AMD Ryzen 5 4600H with Radeon Graphics', gpu_count=1, gpu_model='1 x NVIDIA GeForce GTX 1650', longitude=-70.5937, latitude=-33.4653, ram_total_size=15.372379302978516, tracking_mode='process', on_cloud='N')\n"
     ]
    },
    {
     "name": "stdout",
     "output_type": "stream",
     "text": [
      "------------------- Processing round 9\n",
      "las decisiones son: {'subject1': 0, 'subject10': 1, 'subject100': 1, 'subject102': 1, 'subject103': 1, 'subject105': 1, 'subject107': 1, 'subject120': 0, 'subject206': 1, 'subject210': 1}\n",
      "Subtask task2a: - run 0\n",
      "las decisiones son: {'subject1': 0.22002860793883242, 'subject10': 0.997362400418798, 'subject100': 0.8855266157072827, 'subject102': 0.993739739196634, 'subject103': 0.5375038078315999, 'subject105': 0.6053008308462657, 'subject107': 0.5339827283889641, 'subject120': 0.11605346414421333, 'subject206': 0.6238738435622005, 'subject210': 0.9260479627120392}\n",
      "Subtask task2b: - run 0\n"
     ]
    },
    {
     "name": "stderr",
     "output_type": "stream",
     "text": [
      "[codecarbon WARNING @ 10:05:59] Already started tracking\n",
      "[codecarbon INFO @ 10:05:59] Energy consumed for RAM : 0.000000 kWh. RAM Power : 0.2044658660888672 W\n",
      "[codecarbon DEBUG @ 10:05:59] RAM : 0.20 W during 0.62 s [measurement time: 0.0080]\n",
      "[codecarbon INFO @ 10:05:59] Energy consumed for all GPUs : 0.000002 kWh. All GPUs Power : 1.012 W\n",
      "[codecarbon DEBUG @ 10:05:59] GPU : 1.01 W during 0.64 s [measurement time: 0.0070]\n",
      "[codecarbon INFO @ 10:05:59] Energy consumed for all CPUs : 0.000051 kWh. All CPUs Power : 27.0 W\n",
      "[codecarbon DEBUG @ 10:05:59] CPU : 27.00 W during 0.65 s [measurement time: 0.0000]\n",
      "[codecarbon INFO @ 10:05:59] 0.000053 kWh of electricity used since the begining.\n",
      "[codecarbon DEBUG @ 10:05:59] last_duration=0.6519949436187744\n",
      "------------------------\n",
      "[codecarbon DEBUG @ 10:05:59] We apply an energy mix of 363 g.CO2eq/kWh for Chile\n",
      "[codecarbon DEBUG @ 10:05:59] EmissionsData(timestamp='2023-04-25T10:05:59', project_name='codecarbon', run_id='cbcdde9b-da5f-4b0a-8c6b-7636ca066156', duration=6.87145471572876, emissions=1.9389946237051757e-05, emissions_rate=0.0028218109613191763, cpu_power=27.0, gpu_power=1.012, ram_power=0.2044658660888672, cpu_energy=5.133325338363647e-05, gpu_energy=1.7861642735534245e-06, ram_energy=2.869668820344865e-07, energy_consumed=5.340638453922438e-05, country_name='Chile', country_iso_code='CHL', region='santiago metropolitan', cloud_provider='', cloud_region='', os='Windows-10-10.0.19045-SP0', python_version='3.10.10', cpu_count=12, cpu_model='AMD Ryzen 5 4600H with Radeon Graphics', gpu_count=1, gpu_model='1 x NVIDIA GeForce GTX 1650', longitude=-70.5937, latitude=-33.4653, ram_total_size=15.372379302978516, tracking_mode='process', on_cloud='N')\n"
     ]
    },
    {
     "name": "stdout",
     "output_type": "stream",
     "text": [
      "------------------- Processing round 10\n",
      "las decisiones son: {'subject1': 0, 'subject10': 1, 'subject100': 1, 'subject102': 1, 'subject103': 1, 'subject105': 1, 'subject107': 0, 'subject120': 0, 'subject206': 1, 'subject210': 1}\n",
      "Subtask task2a: - run 0\n",
      "las decisiones son: {'subject1': 0.37787175802614126, 'subject10': 0.9969138431546833, 'subject100': 0.8738327565421639, 'subject102': 0.9897905756872452, 'subject103': 0.5601248742881472, 'subject105': 0.638648165248189, 'subject107': 0.48779937551766417, 'subject120': 0.17143708546030595, 'subject206': 0.7161734080300936, 'subject210': 0.9381191296096177}\n",
      "Subtask task2b: - run 0\n"
     ]
    },
    {
     "name": "stderr",
     "output_type": "stream",
     "text": [
      "[codecarbon WARNING @ 10:06:00] Already started tracking\n",
      "[codecarbon INFO @ 10:06:00] Energy consumed for RAM : 0.000000 kWh. RAM Power : 0.21645498275756836 W\n",
      "[codecarbon DEBUG @ 10:06:00] RAM : 0.22 W during 0.60 s [measurement time: 0.0070]\n",
      "[codecarbon INFO @ 10:06:00] Energy consumed for all GPUs : 0.000002 kWh. All GPUs Power : 1.094 W\n",
      "[codecarbon DEBUG @ 10:06:00] GPU : 1.09 W during 0.61 s [measurement time: 0.0080]\n",
      "[codecarbon INFO @ 10:06:00] Energy consumed for all CPUs : 0.000056 kWh. All CPUs Power : 27.0 W\n",
      "[codecarbon DEBUG @ 10:06:00] CPU : 27.00 W during 0.62 s [measurement time: 0.0010]\n",
      "[codecarbon INFO @ 10:06:00] 0.000058 kWh of electricity used since the begining.\n",
      "[codecarbon DEBUG @ 10:06:00] last_duration=0.6247210502624512\n",
      "------------------------\n",
      "[codecarbon DEBUG @ 10:06:00] We apply an energy mix of 363 g.CO2eq/kWh for Chile\n",
      "[codecarbon DEBUG @ 10:06:00] EmissionsData(timestamp='2023-04-25T10:06:00', project_name='codecarbon', run_id='cbcdde9b-da5f-4b0a-8c6b-7636ca066156', duration=7.4971771240234375, emissions=2.1171437255826572e-05, emissions_rate=0.0028239211780106245, cpu_power=27.0, gpu_power=1.094, ram_power=0.21645498275756836, cpu_energy=5.601866126060486e-05, gpu_energy=1.9717591112189825e-06, ram_energy=3.2278511670549884e-07, energy_consumed=5.831320548852934e-05, country_name='Chile', country_iso_code='CHL', region='santiago metropolitan', cloud_provider='', cloud_region='', os='Windows-10-10.0.19045-SP0', python_version='3.10.10', cpu_count=12, cpu_model='AMD Ryzen 5 4600H with Radeon Graphics', gpu_count=1, gpu_model='1 x NVIDIA GeForce GTX 1650', longitude=-70.5937, latitude=-33.4653, ram_total_size=15.372379302978516, tracking_mode='process', on_cloud='N')\n"
     ]
    },
    {
     "name": "stdout",
     "output_type": "stream",
     "text": [
      "------------------- Processing round 11\n",
      "las decisiones son: {'subject1': 0, 'subject10': 1, 'subject100': 1, 'subject102': 1, 'subject103': 1, 'subject105': 1, 'subject107': 1, 'subject120': 0, 'subject206': 1, 'subject210': 1}\n",
      "Subtask task2a: - run 0\n",
      "las decisiones son: {'subject1': 0.27467706795721486, 'subject10': 0.9967446647808159, 'subject100': 0.8738327565421639, 'subject102': 0.9478420292076838, 'subject103': 0.5449622443304981, 'subject105': 0.6300960216092274, 'subject107': 0.6174050713506637, 'subject120': 0.19353092297018834, 'subject206': 0.7691764060319379, 'subject210': 0.9002877446149736}\n",
      "Subtask task2b: - run 0\n"
     ]
    },
    {
     "name": "stderr",
     "output_type": "stream",
     "text": [
      "[codecarbon WARNING @ 10:06:01] Already started tracking\n",
      "[codecarbon INFO @ 10:06:01] Energy consumed for RAM : 0.000000 kWh. RAM Power : 0.2284712791442871 W\n",
      "[codecarbon DEBUG @ 10:06:01] RAM : 0.23 W during 0.58 s [measurement time: 0.0080]\n",
      "[codecarbon INFO @ 10:06:01] Energy consumed for all GPUs : 0.000002 kWh. All GPUs Power : 1.0170000000000001 W\n",
      "[codecarbon DEBUG @ 10:06:01] GPU : 1.02 W during 0.60 s [measurement time: 0.0069]\n",
      "[codecarbon INFO @ 10:06:01] Energy consumed for all CPUs : 0.000061 kWh. All CPUs Power : 27.0 W\n",
      "[codecarbon DEBUG @ 10:06:01] CPU : 27.00 W during 0.61 s [measurement time: 0.0010]\n",
      "[codecarbon INFO @ 10:06:01] 0.000063 kWh of electricity used since the begining.\n",
      "[codecarbon DEBUG @ 10:06:01] last_duration=0.6106154918670654\n",
      "------------------------\n",
      "[codecarbon DEBUG @ 10:06:01] We apply an energy mix of 363 g.CO2eq/kWh for Chile\n",
      "[codecarbon DEBUG @ 10:06:01] EmissionsData(timestamp='2023-04-25T10:06:01', project_name='codecarbon', run_id='cbcdde9b-da5f-4b0a-8c6b-7636ca066156', duration=8.111789226531982, emissions=2.290896249617197e-05, emissions_rate=0.002824156527790626, cpu_power=27.0, gpu_power=1.0170000000000001, ram_power=0.2284712791442871, cpu_energy=6.059827744960785e-05, gpu_energy=2.140892817311817e-06, ram_energy=3.597597408027771e-07, energy_consumed=6.309893000772244e-05, country_name='Chile', country_iso_code='CHL', region='santiago metropolitan', cloud_provider='', cloud_region='', os='Windows-10-10.0.19045-SP0', python_version='3.10.10', cpu_count=12, cpu_model='AMD Ryzen 5 4600H with Radeon Graphics', gpu_count=1, gpu_model='1 x NVIDIA GeForce GTX 1650', longitude=-70.5937, latitude=-33.4653, ram_total_size=15.372379302978516, tracking_mode='process', on_cloud='N')\n"
     ]
    },
    {
     "name": "stdout",
     "output_type": "stream",
     "text": [
      "------------------- Processing round 12\n",
      "las decisiones son: {'subject1': 0, 'subject10': 1, 'subject100': 1, 'subject102': 1, 'subject103': 1, 'subject105': 1, 'subject107': 1, 'subject120': 0, 'subject206': 1, 'subject210': 1}\n",
      "Subtask task2a: - run 0\n",
      "las decisiones son: {'subject1': 0.2737969435166322, 'subject10': 0.9958869436114465, 'subject100': 0.8738327565421639, 'subject102': 0.9471233730529655, 'subject103': 0.5355027274693901, 'subject105': 0.6972402780951796, 'subject107': 0.5727186311594831, 'subject120': 0.20977841779816475, 'subject206': 0.8432940454607187, 'subject210': 0.9047550184641645}\n",
      "Subtask task2b: - run 0\n"
     ]
    },
    {
     "name": "stderr",
     "output_type": "stream",
     "text": [
      "[codecarbon WARNING @ 10:06:01] Already started tracking\n",
      "[codecarbon INFO @ 10:06:01] Energy consumed for RAM : 0.000000 kWh. RAM Power : 0.22894191741943362 W\n",
      "[codecarbon DEBUG @ 10:06:01] RAM : 0.23 W during 0.59 s [measurement time: 0.0080]\n",
      "[codecarbon INFO @ 10:06:01] Energy consumed for all GPUs : 0.000002 kWh. All GPUs Power : 1.016 W\n",
      "[codecarbon DEBUG @ 10:06:01] GPU : 1.02 W during 0.61 s [measurement time: 0.0080]\n",
      "[codecarbon INFO @ 10:06:01] Energy consumed for all CPUs : 0.000065 kWh. All CPUs Power : 27.0 W\n",
      "[codecarbon DEBUG @ 10:06:01] CPU : 27.00 W during 0.62 s [measurement time: 0.0010]\n",
      "[codecarbon INFO @ 10:06:01] 0.000068 kWh of electricity used since the begining.\n",
      "[codecarbon DEBUG @ 10:06:01] last_duration=0.6246035099029541\n",
      "------------------------\n",
      "[codecarbon DEBUG @ 10:06:01] We apply an energy mix of 363 g.CO2eq/kWh for Chile\n",
      "[codecarbon DEBUG @ 10:06:01] EmissionsData(timestamp='2023-04-25T10:06:01', project_name='codecarbon', run_id='cbcdde9b-da5f-4b0a-8c6b-7636ca066156', duration=8.737392663955688, emissions=2.468604034363914e-05, emissions_rate=0.0028253326012777596, cpu_power=27.0, gpu_power=1.016, ram_power=0.22894191741943362, cpu_energy=6.528280377388e-05, gpu_energy=2.3132181757026254e-06, ram_energy=3.9757366049267753e-07, energy_consumed=6.799359561007531e-05, country_name='Chile', country_iso_code='CHL', region='santiago metropolitan', cloud_provider='', cloud_region='', os='Windows-10-10.0.19045-SP0', python_version='3.10.10', cpu_count=12, cpu_model='AMD Ryzen 5 4600H with Radeon Graphics', gpu_count=1, gpu_model='1 x NVIDIA GeForce GTX 1650', longitude=-70.5937, latitude=-33.4653, ram_total_size=15.372379302978516, tracking_mode='process', on_cloud='N')\n"
     ]
    },
    {
     "name": "stdout",
     "output_type": "stream",
     "text": [
      "------------------- Processing round 13\n",
      "las decisiones son: {'subject1': 0, 'subject10': 1, 'subject100': 1, 'subject102': 1, 'subject103': 0, 'subject105': 1, 'subject107': 1, 'subject120': 0, 'subject206': 1, 'subject210': 1}\n",
      "Subtask task2a: - run 0\n",
      "las decisiones son: {'subject1': 0.28703523913395657, 'subject10': 0.9941548137787074, 'subject100': 0.8738327565421639, 'subject102': 0.9386204702517991, 'subject103': 0.4006335706199952, 'subject105': 0.7370892772466064, 'subject107': 0.6153184993649728, 'subject120': 0.21207200003168925, 'subject206': 0.8565101986596333, 'subject210': 0.9120957482728586}\n",
      "Subtask task2b: - run 0\n"
     ]
    },
    {
     "name": "stderr",
     "output_type": "stream",
     "text": [
      "[codecarbon WARNING @ 10:06:02] Already started tracking\n",
      "[codecarbon INFO @ 10:06:02] Energy consumed for RAM : 0.000000 kWh. RAM Power : 0.2420468330383301 W\n",
      "[codecarbon DEBUG @ 10:06:02] RAM : 0.24 W during 0.58 s [measurement time: 0.0070]\n",
      "[codecarbon INFO @ 10:06:02] Energy consumed for all GPUs : 0.000002 kWh. All GPUs Power : 1.016 W\n",
      "[codecarbon DEBUG @ 10:06:02] GPU : 1.02 W during 0.60 s [measurement time: 0.0080]\n",
      "[codecarbon INFO @ 10:06:02] Energy consumed for all CPUs : 0.000070 kWh. All CPUs Power : 27.0 W\n",
      "[codecarbon DEBUG @ 10:06:02] CPU : 27.00 W during 0.61 s [measurement time: 0.0010]\n",
      "[codecarbon INFO @ 10:06:02] 0.000073 kWh of electricity used since the begining.\n",
      "[codecarbon DEBUG @ 10:06:02] last_duration=0.6095201969146729\n",
      "------------------------\n",
      "[codecarbon DEBUG @ 10:06:02] We apply an energy mix of 363 g.CO2eq/kWh for Chile\n",
      "[codecarbon DEBUG @ 10:06:02] EmissionsData(timestamp='2023-04-25T10:06:02', project_name='codecarbon', run_id='cbcdde9b-da5f-4b0a-8c6b-7636ca066156', duration=9.349901914596558, emissions=2.6421019471715883e-05, emissions_rate=0.0028258071275024635, cpu_power=27.0, gpu_power=1.016, ram_power=0.2420468330383301, cpu_energy=6.985420525074005e-05, gpu_energy=2.4815649198161234e-06, ram_energy=4.365371156007806e-07, energy_consumed=7.277230728615697e-05, country_name='Chile', country_iso_code='CHL', region='santiago metropolitan', cloud_provider='', cloud_region='', os='Windows-10-10.0.19045-SP0', python_version='3.10.10', cpu_count=12, cpu_model='AMD Ryzen 5 4600H with Radeon Graphics', gpu_count=1, gpu_model='1 x NVIDIA GeForce GTX 1650', longitude=-70.5937, latitude=-33.4653, ram_total_size=15.372379302978516, tracking_mode='process', on_cloud='N')\n"
     ]
    },
    {
     "name": "stdout",
     "output_type": "stream",
     "text": [
      "------------------- Processing round 14\n",
      "las decisiones son: {'subject1': 0, 'subject10': 1, 'subject100': 1, 'subject102': 1, 'subject103': 0, 'subject105': 1, 'subject107': 1, 'subject120': 0, 'subject206': 1, 'subject210': 1}\n",
      "Subtask task2a: - run 0\n",
      "las decisiones son: {'subject1': 0.28115116696747433, 'subject10': 0.9932225568059974, 'subject100': 0.8738327565421639, 'subject102': 0.9343453631415969, 'subject103': 0.27274037515632427, 'subject105': 0.6949531572386801, 'subject107': 0.5529053316998508, 'subject120': 0.2273597315816454, 'subject206': 0.8666237887097914, 'subject210': 0.8925660997643797}\n",
      "Subtask task2b: - run 0\n"
     ]
    },
    {
     "name": "stderr",
     "output_type": "stream",
     "text": [
      "[codecarbon WARNING @ 10:06:02] Already started tracking\n",
      "[codecarbon INFO @ 10:06:02] Energy consumed for RAM : 0.000000 kWh. RAM Power : 0.25419044494628906 W\n",
      "[codecarbon DEBUG @ 10:06:03] RAM : 0.25 W during 0.61 s [measurement time: 0.0080]\n",
      "[codecarbon INFO @ 10:06:03] Energy consumed for all GPUs : 0.000003 kWh. All GPUs Power : 1.0190000000000001 W\n",
      "[codecarbon DEBUG @ 10:06:03] GPU : 1.02 W during 0.62 s [measurement time: 0.0070]\n",
      "[codecarbon INFO @ 10:06:03] Energy consumed for all CPUs : 0.000075 kWh. All CPUs Power : 27.0 W\n",
      "[codecarbon DEBUG @ 10:06:03] CPU : 27.00 W during 0.63 s [measurement time: 0.0000]\n",
      "[codecarbon INFO @ 10:06:03] 0.000078 kWh of electricity used since the begining.\n",
      "[codecarbon DEBUG @ 10:06:03] last_duration=0.6332659721374512\n",
      "------------------------\n",
      "[codecarbon DEBUG @ 10:06:03] We apply an energy mix of 363 g.CO2eq/kWh for Chile\n",
      "[codecarbon DEBUG @ 10:06:03] EmissionsData(timestamp='2023-04-25T10:06:03', project_name='codecarbon', run_id='cbcdde9b-da5f-4b0a-8c6b-7636ca066156', duration=9.986168622970581, emissions=2.8224649557669103e-05, emissions_rate=0.002826374220513926, cpu_power=27.0, gpu_power=1.0190000000000001, ram_power=0.25419044494628906, cpu_energy=7.460370004177093e-05, gpu_energy=2.6571328237983918e-06, ram_energy=4.792737511946636e-07, energy_consumed=7.7740106616764e-05, country_name='Chile', country_iso_code='CHL', region='santiago metropolitan', cloud_provider='', cloud_region='', os='Windows-10-10.0.19045-SP0', python_version='3.10.10', cpu_count=12, cpu_model='AMD Ryzen 5 4600H with Radeon Graphics', gpu_count=1, gpu_model='1 x NVIDIA GeForce GTX 1650', longitude=-70.5937, latitude=-33.4653, ram_total_size=15.372379302978516, tracking_mode='process', on_cloud='N')\n"
     ]
    },
    {
     "name": "stdout",
     "output_type": "stream",
     "text": [
      "------------------- Processing round 15\n",
      "las decisiones son: {'subject1': 0, 'subject10': 1, 'subject100': 1, 'subject102': 1, 'subject103': 0, 'subject105': 1, 'subject107': 0, 'subject120': 0, 'subject206': 1, 'subject210': 1}\n",
      "Subtask task2a: - run 0\n",
      "las decisiones son: {'subject1': 0.23357475553813334, 'subject10': 0.991058567128715, 'subject100': 0.8738327565421639, 'subject102': 0.9001758737901191, 'subject103': 0.2911818360149105, 'subject105': 0.8654883921254721, 'subject107': 0.3586721084844806, 'subject120': 0.26956403166683135, 'subject206': 0.8657979674755638, 'subject210': 0.8919006102018218}\n",
      "Subtask task2b: - run 0\n"
     ]
    },
    {
     "name": "stderr",
     "output_type": "stream",
     "text": [
      "[codecarbon WARNING @ 10:06:03] Already started tracking\n",
      "[codecarbon INFO @ 10:06:03] Energy consumed for RAM : 0.000001 kWh. RAM Power : 0.13703441619873047 W\n",
      "[codecarbon DEBUG @ 10:06:03] RAM : 0.14 W during 0.79 s [measurement time: 0.0080]\n",
      "[codecarbon INFO @ 10:06:03] Energy consumed for all GPUs : 0.000003 kWh. All GPUs Power : 1.0090000000000001 W\n",
      "[codecarbon DEBUG @ 10:06:03] GPU : 1.01 W during 0.81 s [measurement time: 0.0080]\n",
      "[codecarbon INFO @ 10:06:03] Energy consumed for all CPUs : 0.000081 kWh. All CPUs Power : 27.0 W\n",
      "[codecarbon DEBUG @ 10:06:03] CPU : 27.00 W during 0.82 s [measurement time: 0.0010]\n",
      "[codecarbon INFO @ 10:06:03] 0.000084 kWh of electricity used since the begining.\n",
      "[codecarbon DEBUG @ 10:06:03] last_duration=0.8217835426330566\n",
      "------------------------\n",
      "[codecarbon DEBUG @ 10:06:03] We apply an energy mix of 363 g.CO2eq/kWh for Chile\n",
      "[codecarbon DEBUG @ 10:06:03] EmissionsData(timestamp='2023-04-25T10:06:03', project_name='codecarbon', run_id='cbcdde9b-da5f-4b0a-8c6b-7636ca066156', duration=10.809952974319458, emissions=3.0555621425332695e-05, emissions_rate=0.0028266192737305897, cpu_power=27.0, gpu_power=1.0090000000000001, ram_power=0.13703441619873047, cpu_energy=8.076707661151885e-05, gpu_energy=2.883815671801567e-06, ram_energy=5.094889640494671e-07, energy_consumed=8.41603812473699e-05, country_name='Chile', country_iso_code='CHL', region='santiago metropolitan', cloud_provider='', cloud_region='', os='Windows-10-10.0.19045-SP0', python_version='3.10.10', cpu_count=12, cpu_model='AMD Ryzen 5 4600H with Radeon Graphics', gpu_count=1, gpu_model='1 x NVIDIA GeForce GTX 1650', longitude=-70.5937, latitude=-33.4653, ram_total_size=15.372379302978516, tracking_mode='process', on_cloud='N')\n"
     ]
    },
    {
     "name": "stdout",
     "output_type": "stream",
     "text": [
      "------------------- Processing round 16\n",
      "las decisiones son: {'subject1': 0, 'subject10': 1, 'subject100': 1, 'subject102': 1, 'subject103': 0, 'subject105': 1, 'subject107': 0, 'subject120': 0, 'subject206': 1, 'subject210': 1}\n",
      "Subtask task2a: - run 0\n",
      "las decisiones son: {'subject1': 0.2851289931696467, 'subject10': 0.9906935683902571, 'subject100': 0.8738327565421639, 'subject102': 0.9276230518393896, 'subject103': 0.34430727990007964, 'subject105': 0.8493248151733399, 'subject107': 0.3586721084844806, 'subject120': 0.2723177679956548, 'subject206': 0.858319099812821, 'subject210': 0.9251481978759727}\n",
      "Subtask task2b: - run 0\n"
     ]
    },
    {
     "name": "stderr",
     "output_type": "stream",
     "text": [
      "[codecarbon WARNING @ 10:06:04] Already started tracking\n",
      "[codecarbon INFO @ 10:06:04] Energy consumed for RAM : 0.000001 kWh. RAM Power : 0.14379215240478518 W\n",
      "[codecarbon DEBUG @ 10:06:04] RAM : 0.14 W during 0.57 s [measurement time: 0.0080]\n",
      "[codecarbon INFO @ 10:06:04] Energy consumed for all GPUs : 0.000003 kWh. All GPUs Power : 1.036 W\n",
      "[codecarbon DEBUG @ 10:06:04] GPU : 1.04 W during 0.59 s [measurement time: 0.0070]\n",
      "[codecarbon INFO @ 10:06:04] Energy consumed for all CPUs : 0.000085 kWh. All CPUs Power : 27.0 W\n",
      "[codecarbon DEBUG @ 10:06:04] CPU : 27.00 W during 0.60 s [measurement time: 0.0010]\n",
      "[codecarbon INFO @ 10:06:04] 0.000089 kWh of electricity used since the begining.\n",
      "[codecarbon DEBUG @ 10:06:04] last_duration=0.5982820987701416\n",
      "------------------------\n",
      "[codecarbon DEBUG @ 10:06:04] We apply an energy mix of 363 g.CO2eq/kWh for Chile\n",
      "[codecarbon DEBUG @ 10:06:04] EmissionsData(timestamp='2023-04-25T10:06:04', project_name='codecarbon', run_id='cbcdde9b-da5f-4b0a-8c6b-7636ca066156', duration=11.411237239837646, emissions=3.225412625616346e-05, emissions_rate=0.002826523152420443, cpu_power=27.0, gpu_power=1.036, ram_power=0.14379215240478518, cpu_energy=8.525419235229492e-05, gpu_energy=3.0522504180669786e-06, ram_energy=5.321877629054938e-07, energy_consumed=8.883863053326741e-05, country_name='Chile', country_iso_code='CHL', region='santiago metropolitan', cloud_provider='', cloud_region='', os='Windows-10-10.0.19045-SP0', python_version='3.10.10', cpu_count=12, cpu_model='AMD Ryzen 5 4600H with Radeon Graphics', gpu_count=1, gpu_model='1 x NVIDIA GeForce GTX 1650', longitude=-70.5937, latitude=-33.4653, ram_total_size=15.372379302978516, tracking_mode='process', on_cloud='N')\n"
     ]
    },
    {
     "name": "stdout",
     "output_type": "stream",
     "text": [
      "------------------- Processing round 17\n",
      "las decisiones son: {'subject1': 0, 'subject10': 1, 'subject100': 1, 'subject102': 1, 'subject103': 0, 'subject105': 1, 'subject107': 0, 'subject120': 0, 'subject206': 1, 'subject210': 1}\n",
      "Subtask task2a: - run 0\n",
      "las decisiones son: {'subject1': 0.28642380631247794, 'subject10': 0.9905394273661572, 'subject100': 0.8738327565421639, 'subject102': 0.9369101981071737, 'subject103': 0.3478124087731449, 'subject105': 0.8756411865147865, 'subject107': 0.3740359019722095, 'subject120': 0.2526375246212154, 'subject206': 0.8467356212469712, 'subject210': 0.9520058564751287}\n",
      "Subtask task2b: - run 0\n"
     ]
    },
    {
     "name": "stderr",
     "output_type": "stream",
     "text": [
      "[codecarbon WARNING @ 10:06:05] Already started tracking\n",
      "[codecarbon INFO @ 10:06:05] Energy consumed for RAM : 0.000001 kWh. RAM Power : 0.14449310302734375 W\n",
      "[codecarbon DEBUG @ 10:06:05] RAM : 0.14 W during 0.58 s [measurement time: 0.0060]\n",
      "[codecarbon INFO @ 10:06:05] Energy consumed for all GPUs : 0.000003 kWh. All GPUs Power : 1.0150000000000001 W\n",
      "[codecarbon DEBUG @ 10:06:05] GPU : 1.02 W during 0.59 s [measurement time: 0.0071]\n",
      "[codecarbon INFO @ 10:06:05] Energy consumed for all CPUs : 0.000090 kWh. All CPUs Power : 27.0 W\n",
      "[codecarbon DEBUG @ 10:06:05] CPU : 27.00 W during 0.60 s [measurement time: 0.0010]\n",
      "[codecarbon INFO @ 10:06:05] 0.000094 kWh of electricity used since the begining.\n",
      "[codecarbon DEBUG @ 10:06:05] last_duration=0.6023590564727783\n",
      "------------------------\n",
      "[codecarbon DEBUG @ 10:06:05] We apply an energy mix of 363 g.CO2eq/kWh for Chile\n",
      "[codecarbon DEBUG @ 10:06:05] EmissionsData(timestamp='2023-04-25T10:06:05', project_name='codecarbon', run_id='cbcdde9b-da5f-4b0a-8c6b-7636ca066156', duration=12.01661992073059, emissions=3.396305192424329e-05, emissions_rate=0.002826339864977472, cpu_power=27.0, gpu_power=1.0150000000000001, ram_power=0.14449310302734375, cpu_energy=8.977188527584076e-05, gpu_energy=3.21841605272558e-06, ram_energy=5.552809549860171e-07, energy_consumed=9.354558228355238e-05, country_name='Chile', country_iso_code='CHL', region='santiago metropolitan', cloud_provider='', cloud_region='', os='Windows-10-10.0.19045-SP0', python_version='3.10.10', cpu_count=12, cpu_model='AMD Ryzen 5 4600H with Radeon Graphics', gpu_count=1, gpu_model='1 x NVIDIA GeForce GTX 1650', longitude=-70.5937, latitude=-33.4653, ram_total_size=15.372379302978516, tracking_mode='process', on_cloud='N')\n"
     ]
    },
    {
     "name": "stdout",
     "output_type": "stream",
     "text": [
      "------------------- Processing round 18\n",
      "las decisiones son: {'subject1': 0, 'subject10': 1, 'subject100': 1, 'subject102': 1, 'subject103': 0, 'subject105': 1, 'subject107': 0, 'subject120': 0, 'subject206': 1, 'subject210': 1}\n",
      "Subtask task2a: - run 0\n",
      "las decisiones son: {'subject1': 0.22433474134930986, 'subject10': 0.9895108627504375, 'subject100': 0.8738327565421639, 'subject102': 0.9313755554514827, 'subject103': 0.2974449559362674, 'subject105': 0.8828591854117882, 'subject107': 0.32103381953036203, 'subject120': 0.26803381217858935, 'subject206': 0.8622488591790647, 'subject210': 0.9343243554464775}\n",
      "Subtask task2b: - run 0\n"
     ]
    },
    {
     "name": "stderr",
     "output_type": "stream",
     "text": [
      "[codecarbon WARNING @ 10:06:05] Already started tracking\n",
      "[codecarbon INFO @ 10:06:05] Energy consumed for RAM : 0.000001 kWh. RAM Power : 0.15353822708129883 W\n",
      "[codecarbon DEBUG @ 10:06:05] RAM : 0.15 W during 0.57 s [measurement time: 0.0080]\n",
      "[codecarbon INFO @ 10:06:05] Energy consumed for all GPUs : 0.000003 kWh. All GPUs Power : 1.012 W\n",
      "[codecarbon DEBUG @ 10:06:05] GPU : 1.01 W during 0.59 s [measurement time: 0.0070]\n",
      "[codecarbon INFO @ 10:06:05] Energy consumed for all CPUs : 0.000094 kWh. All CPUs Power : 27.0 W\n",
      "[codecarbon DEBUG @ 10:06:05] CPU : 27.00 W during 0.60 s [measurement time: 0.0010]\n",
      "[codecarbon INFO @ 10:06:05] 0.000098 kWh of electricity used since the begining.\n",
      "[codecarbon DEBUG @ 10:06:05] last_duration=0.597034215927124\n",
      "------------------------\n",
      "[codecarbon DEBUG @ 10:06:05] We apply an energy mix of 363 g.CO2eq/kWh for Chile\n",
      "[codecarbon DEBUG @ 10:06:05] EmissionsData(timestamp='2023-04-25T10:06:05', project_name='codecarbon', run_id='cbcdde9b-da5f-4b0a-8c6b-7636ca066156', duration=12.61664628982544, emissions=3.5657299958448556e-05, emissions_rate=0.00282621063786214, cpu_power=27.0, gpu_power=1.012, ram_power=0.15353822708129883, cpu_energy=9.424964189529419e-05, gpu_energy=3.382872765660286e-06, ram_energy=5.795922696177058e-07, energy_consumed=9.82121069305722e-05, country_name='Chile', country_iso_code='CHL', region='santiago metropolitan', cloud_provider='', cloud_region='', os='Windows-10-10.0.19045-SP0', python_version='3.10.10', cpu_count=12, cpu_model='AMD Ryzen 5 4600H with Radeon Graphics', gpu_count=1, gpu_model='1 x NVIDIA GeForce GTX 1650', longitude=-70.5937, latitude=-33.4653, ram_total_size=15.372379302978516, tracking_mode='process', on_cloud='N')\n"
     ]
    },
    {
     "name": "stdout",
     "output_type": "stream",
     "text": [
      "------------------- Processing round 19\n",
      "las decisiones son: {'subject1': 0, 'subject10': 1, 'subject100': 1, 'subject102': 1, 'subject103': 0, 'subject105': 1, 'subject107': 0, 'subject120': 0, 'subject206': 1, 'subject210': 1}\n",
      "Subtask task2a: - run 0\n",
      "las decisiones son: {'subject1': 0.14510130239465108, 'subject10': 0.9888859616073251, 'subject100': 0.8738327565421639, 'subject102': 0.9358622793778122, 'subject103': 0.27039533723401654, 'subject105': 0.891217661815314, 'subject107': 0.38095397166182676, 'subject120': 0.2630649160791836, 'subject206': 0.8345469421884276, 'subject210': 0.9097986947438798}\n",
      "Subtask task2b: - run 0\n"
     ]
    },
    {
     "name": "stderr",
     "output_type": "stream",
     "text": [
      "[codecarbon WARNING @ 10:06:06] Already started tracking\n",
      "[codecarbon INFO @ 10:06:06] Energy consumed for RAM : 0.000001 kWh. RAM Power : 0.16641855239868164 W\n",
      "[codecarbon DEBUG @ 10:06:06] RAM : 0.17 W during 0.58 s [measurement time: 0.0070]\n",
      "[codecarbon INFO @ 10:06:06] Energy consumed for all GPUs : 0.000004 kWh. All GPUs Power : 1.0150000000000001 W\n",
      "[codecarbon DEBUG @ 10:06:06] GPU : 1.02 W during 0.59 s [measurement time: 0.0070]\n",
      "[codecarbon INFO @ 10:06:06] Energy consumed for all CPUs : 0.000099 kWh. All CPUs Power : 27.0 W\n",
      "[codecarbon DEBUG @ 10:06:06] CPU : 27.00 W during 0.60 s [measurement time: 0.0000]\n",
      "[codecarbon INFO @ 10:06:06] 0.000103 kWh of electricity used since the begining.\n",
      "[codecarbon DEBUG @ 10:06:06] last_duration=0.6049323081970215\n",
      "------------------------\n",
      "[codecarbon DEBUG @ 10:06:06] We apply an energy mix of 363 g.CO2eq/kWh for Chile\n",
      "[codecarbon DEBUG @ 10:06:06] EmissionsData(timestamp='2023-04-25T10:06:06', project_name='codecarbon', run_id='cbcdde9b-da5f-4b0a-8c6b-7636ca066156', duration=13.222565412521362, emissions=3.737481073155058e-05, emissions_rate=0.0028265929920193696, cpu_power=27.0, gpu_power=1.0150000000000001, ram_power=0.16641855239868164, cpu_energy=9.878663420677184e-05, gpu_energy=3.549762704372406e-06, ram_energy=6.063080147576253e-07, energy_consumed=0.00010294270492590189, country_name='Chile', country_iso_code='CHL', region='santiago metropolitan', cloud_provider='', cloud_region='', os='Windows-10-10.0.19045-SP0', python_version='3.10.10', cpu_count=12, cpu_model='AMD Ryzen 5 4600H with Radeon Graphics', gpu_count=1, gpu_model='1 x NVIDIA GeForce GTX 1650', longitude=-70.5937, latitude=-33.4653, ram_total_size=15.372379302978516, tracking_mode='process', on_cloud='N')\n"
     ]
    },
    {
     "name": "stdout",
     "output_type": "stream",
     "text": [
      "------------------- Processing round 20\n",
      "las decisiones son: {'subject1': 0, 'subject10': 1, 'subject100': 1, 'subject102': 1, 'subject103': 0, 'subject105': 1, 'subject107': 0, 'subject120': 0, 'subject206': 1, 'subject210': 1}\n",
      "Subtask task2a: - run 0\n",
      "las decisiones son: {'subject1': 0.10478507665370305, 'subject10': 0.9887586991043618, 'subject100': 0.8738327565421639, 'subject102': 0.9373015812279871, 'subject103': 0.2208877179665579, 'subject105': 0.883111534784907, 'subject107': 0.40948481825698224, 'subject120': 0.2690297793200522, 'subject206': 0.8384453427155142, 'subject210': 0.8878521613501956}\n",
      "Subtask task2b: - run 0\n"
     ]
    },
    {
     "name": "stderr",
     "output_type": "stream",
     "text": [
      "[codecarbon WARNING @ 10:06:06] Already started tracking\n",
      "[codecarbon INFO @ 10:06:06] Energy consumed for RAM : 0.000001 kWh. RAM Power : 0.16621828079223633 W\n",
      "[codecarbon DEBUG @ 10:06:06] RAM : 0.17 W during 0.58 s [measurement time: 0.0070]\n",
      "[codecarbon INFO @ 10:06:06] Energy consumed for all GPUs : 0.000004 kWh. All GPUs Power : 1.0130000000000001 W\n",
      "[codecarbon DEBUG @ 10:06:06] GPU : 1.01 W during 0.59 s [measurement time: 0.0070]\n",
      "[codecarbon INFO @ 10:06:06] Energy consumed for all CPUs : 0.000103 kWh. All CPUs Power : 27.0 W\n",
      "[codecarbon DEBUG @ 10:06:06] CPU : 27.00 W during 0.61 s [measurement time: 0.0010]\n",
      "[codecarbon INFO @ 10:06:06] 0.000108 kWh of electricity used since the begining.\n",
      "[codecarbon DEBUG @ 10:06:06] last_duration=0.6075291633605957\n",
      "------------------------\n",
      "[codecarbon DEBUG @ 10:06:06] We apply an energy mix of 363 g.CO2eq/kWh for Chile\n",
      "[codecarbon DEBUG @ 10:06:06] EmissionsData(timestamp='2023-04-25T10:06:06', project_name='codecarbon', run_id='cbcdde9b-da5f-4b0a-8c6b-7636ca066156', duration=13.831087827682495, emissions=3.909955345717338e-05, emissions_rate=0.0028269326277371204, cpu_power=27.0, gpu_power=1.0130000000000001, ram_power=0.16621828079223633, cpu_energy=0.00010334310293197631, gpu_energy=3.717053582866987e-06, ram_energy=6.330656177451033e-07, energy_consumed=0.00010769322213258842, country_name='Chile', country_iso_code='CHL', region='santiago metropolitan', cloud_provider='', cloud_region='', os='Windows-10-10.0.19045-SP0', python_version='3.10.10', cpu_count=12, cpu_model='AMD Ryzen 5 4600H with Radeon Graphics', gpu_count=1, gpu_model='1 x NVIDIA GeForce GTX 1650', longitude=-70.5937, latitude=-33.4653, ram_total_size=15.372379302978516, tracking_mode='process', on_cloud='N')\n"
     ]
    },
    {
     "name": "stdout",
     "output_type": "stream",
     "text": [
      "------------------- Processing round 21\n",
      "las decisiones son: {'subject1': 0, 'subject10': 1, 'subject100': 1, 'subject102': 1, 'subject103': 0, 'subject105': 1, 'subject107': 0, 'subject120': 0, 'subject206': 1, 'subject210': 1}\n",
      "Subtask task2a: - run 0\n",
      "las decisiones son: {'subject1': 0.09062397340843038, 'subject10': 0.9860735943657937, 'subject100': 0.8738327565421639, 'subject102': 0.9373015812279871, 'subject103': 0.2397836748409622, 'subject105': 0.8764778412458617, 'subject107': 0.42756088431395023, 'subject120': 0.3020013605979562, 'subject206': 0.8356847728643916, 'subject210': 0.8881733706542566}\n",
      "Subtask task2b: - run 0\n"
     ]
    },
    {
     "name": "stderr",
     "output_type": "stream",
     "text": [
      "[codecarbon WARNING @ 10:06:07] Already started tracking\n",
      "[codecarbon INFO @ 10:06:07] Energy consumed for RAM : 0.000001 kWh. RAM Power : 0.17875242233276367 W\n",
      "[codecarbon DEBUG @ 10:06:07] RAM : 0.18 W during 0.57 s [measurement time: 0.0080]\n",
      "[codecarbon INFO @ 10:06:07] Energy consumed for all GPUs : 0.000004 kWh. All GPUs Power : 1.024 W\n",
      "[codecarbon DEBUG @ 10:06:07] GPU : 1.02 W during 0.59 s [measurement time: 0.0070]\n",
      "[codecarbon INFO @ 10:06:07] Energy consumed for all CPUs : 0.000108 kWh. All CPUs Power : 27.0 W\n",
      "[codecarbon DEBUG @ 10:06:07] CPU : 27.00 W during 0.60 s [measurement time: 0.0010]\n",
      "[codecarbon INFO @ 10:06:07] 0.000112 kWh of electricity used since the begining.\n",
      "[codecarbon DEBUG @ 10:06:07] last_duration=0.6014976501464844\n",
      "------------------------\n",
      "[codecarbon DEBUG @ 10:06:07] We apply an energy mix of 363 g.CO2eq/kWh for Chile\n",
      "[codecarbon DEBUG @ 10:06:07] EmissionsData(timestamp='2023-04-25T10:06:07', project_name='codecarbon', run_id='cbcdde9b-da5f-4b0a-8c6b-7636ca066156', duration=14.435585975646973, emissions=4.0808515867426954e-05, emissions_rate=0.0028269386456685214, cpu_power=27.0, gpu_power=1.024, ram_power=0.17875242233276367, cpu_energy=0.00010785433530807494, gpu_energy=3.884447924229834e-06, ram_energy=6.614918507800856e-07, energy_consumed=0.00011240027508308487, country_name='Chile', country_iso_code='CHL', region='santiago metropolitan', cloud_provider='', cloud_region='', os='Windows-10-10.0.19045-SP0', python_version='3.10.10', cpu_count=12, cpu_model='AMD Ryzen 5 4600H with Radeon Graphics', gpu_count=1, gpu_model='1 x NVIDIA GeForce GTX 1650', longitude=-70.5937, latitude=-33.4653, ram_total_size=15.372379302978516, tracking_mode='process', on_cloud='N')\n"
     ]
    },
    {
     "name": "stdout",
     "output_type": "stream",
     "text": [
      "------------------- Processing round 22\n",
      "las decisiones son: {'subject1': 0, 'subject10': 1, 'subject100': 1, 'subject102': 1, 'subject103': 0, 'subject105': 1, 'subject107': 0, 'subject120': 0, 'subject206': 1, 'subject210': 1}\n",
      "Subtask task2a: - run 0\n",
      "las decisiones son: {'subject1': 0.0797422964967058, 'subject10': 0.9836239667510386, 'subject100': 0.8738327565421639, 'subject102': 0.9416122350923497, 'subject103': 0.2981886847429804, 'subject105': 0.8780596699755936, 'subject107': 0.43335922625171486, 'subject120': 0.3022771070534005, 'subject206': 0.8653338604987242, 'subject210': 0.8608225658327502}\n",
      "Subtask task2b: - run 0\n"
     ]
    },
    {
     "name": "stderr",
     "output_type": "stream",
     "text": [
      "[codecarbon WARNING @ 10:06:08] Already started tracking\n",
      "[codecarbon INFO @ 10:06:08] Energy consumed for RAM : 0.000001 kWh. RAM Power : 0.19125223159790042 W\n",
      "[codecarbon DEBUG @ 10:06:08] RAM : 0.19 W during 0.58 s [measurement time: 0.0070]\n",
      "[codecarbon INFO @ 10:06:08] Energy consumed for all GPUs : 0.000004 kWh. All GPUs Power : 1.025 W\n",
      "[codecarbon DEBUG @ 10:06:08] GPU : 1.02 W during 0.59 s [measurement time: 0.0070]\n",
      "[codecarbon INFO @ 10:06:08] Energy consumed for all CPUs : 0.000112 kWh. All CPUs Power : 27.0 W\n",
      "[codecarbon DEBUG @ 10:06:08] CPU : 27.00 W during 0.60 s [measurement time: 0.0000]\n",
      "[codecarbon INFO @ 10:06:08] 0.000117 kWh of electricity used since the begining.\n",
      "[codecarbon DEBUG @ 10:06:08] last_duration=0.6037747859954834\n",
      "------------------------\n",
      "[codecarbon DEBUG @ 10:06:08] We apply an energy mix of 363 g.CO2eq/kWh for Chile\n",
      "[codecarbon DEBUG @ 10:06:08] EmissionsData(timestamp='2023-04-25T10:06:08', project_name='codecarbon', run_id='cbcdde9b-da5f-4b0a-8c6b-7636ca066156', duration=15.04236125946045, emissions=4.252477852616868e-05, emissions_rate=0.0028270015453474083, cpu_power=27.0, gpu_power=1.025, ram_power=0.19125223159790042, cpu_energy=0.00011238264620304106, gpu_energy=4.052655717002021e-06, ram_energy=6.921334347872706e-07, energy_consumed=0.00011712743535483036, country_name='Chile', country_iso_code='CHL', region='santiago metropolitan', cloud_provider='', cloud_region='', os='Windows-10-10.0.19045-SP0', python_version='3.10.10', cpu_count=12, cpu_model='AMD Ryzen 5 4600H with Radeon Graphics', gpu_count=1, gpu_model='1 x NVIDIA GeForce GTX 1650', longitude=-70.5937, latitude=-33.4653, ram_total_size=15.372379302978516, tracking_mode='process', on_cloud='N')\n"
     ]
    },
    {
     "name": "stdout",
     "output_type": "stream",
     "text": [
      "------------------- Processing round 23\n",
      "las decisiones son: {'subject1': 0, 'subject10': 1, 'subject100': 1, 'subject102': 1, 'subject103': 0, 'subject105': 1, 'subject107': 1, 'subject120': 0, 'subject206': 1, 'subject210': 1}\n",
      "Subtask task2a: - run 0\n",
      "las decisiones son: {'subject1': 0.07748408083733, 'subject10': 0.9835408608682419, 'subject100': 0.8738327565421639, 'subject102': 0.9684714316731017, 'subject103': 0.30453760638981353, 'subject105': 0.8860484345045277, 'subject107': 0.543820566345099, 'subject120': 0.2836732655839566, 'subject206': 0.8136973978645214, 'subject210': 0.8563227075153887}\n",
      "Subtask task2b: - run 0\n"
     ]
    },
    {
     "name": "stderr",
     "output_type": "stream",
     "text": [
      "[codecarbon WARNING @ 10:06:08] Already started tracking\n",
      "[codecarbon INFO @ 10:06:08] Energy consumed for RAM : 0.000001 kWh. RAM Power : 0.19167137145996094 W\n",
      "[codecarbon DEBUG @ 10:06:08] RAM : 0.19 W during 0.59 s [measurement time: 0.0080]\n",
      "[codecarbon INFO @ 10:06:08] Energy consumed for all GPUs : 0.000004 kWh. All GPUs Power : 1.024 W\n",
      "[codecarbon DEBUG @ 10:06:08] GPU : 1.02 W during 0.60 s [measurement time: 0.0070]\n",
      "[codecarbon INFO @ 10:06:08] Energy consumed for all CPUs : 0.000117 kWh. All CPUs Power : 27.0 W\n",
      "[codecarbon DEBUG @ 10:06:08] CPU : 27.00 W during 0.61 s [measurement time: 0.0010]\n",
      "[codecarbon INFO @ 10:06:08] 0.000122 kWh of electricity used since the begining.\n",
      "[codecarbon DEBUG @ 10:06:08] last_duration=0.613079309463501\n",
      "------------------------\n",
      "[codecarbon DEBUG @ 10:06:08] We apply an energy mix of 363 g.CO2eq/kWh for Chile\n",
      "[codecarbon DEBUG @ 10:06:08] EmissionsData(timestamp='2023-04-25T10:06:08', project_name='codecarbon', run_id='cbcdde9b-da5f-4b0a-8c6b-7636ca066156', duration=15.65743637084961, emissions=4.4267461690268395e-05, emissions_rate=0.0028272483848431145, cpu_power=27.0, gpu_power=1.024, ram_power=0.19167137145996094, cpu_energy=0.00011698074102401732, gpu_energy=4.223341955608792e-06, ram_energy=7.232835381951001e-07, energy_consumed=0.0001219273665178212, country_name='Chile', country_iso_code='CHL', region='santiago metropolitan', cloud_provider='', cloud_region='', os='Windows-10-10.0.19045-SP0', python_version='3.10.10', cpu_count=12, cpu_model='AMD Ryzen 5 4600H with Radeon Graphics', gpu_count=1, gpu_model='1 x NVIDIA GeForce GTX 1650', longitude=-70.5937, latitude=-33.4653, ram_total_size=15.372379302978516, tracking_mode='process', on_cloud='N')\n"
     ]
    },
    {
     "name": "stdout",
     "output_type": "stream",
     "text": [
      "------------------- Processing round 24\n",
      "las decisiones son: {'subject1': 0, 'subject10': 1, 'subject100': 1, 'subject102': 1, 'subject103': 0, 'subject105': 1, 'subject107': 1, 'subject120': 0, 'subject206': 1, 'subject210': 1}\n",
      "Subtask task2a: - run 0\n",
      "las decisiones son: {'subject1': 0.08444711033686592, 'subject10': 0.9835408608682419, 'subject100': 0.8738327565421639, 'subject102': 0.9699113266329428, 'subject103': 0.309467981231577, 'subject105': 0.8568553230885857, 'subject107': 0.5972384551756522, 'subject120': 0.28208831654967004, 'subject206': 0.8191071305483123, 'subject210': 0.9043986509879312}\n",
      "Subtask task2b: - run 0\n"
     ]
    },
    {
     "name": "stderr",
     "output_type": "stream",
     "text": [
      "[codecarbon WARNING @ 10:06:09] Already started tracking\n",
      "[codecarbon INFO @ 10:06:09] Energy consumed for RAM : 0.000001 kWh. RAM Power : 0.20404815673828125 W\n",
      "[codecarbon DEBUG @ 10:06:09] RAM : 0.20 W during 0.59 s [measurement time: 0.0080]\n",
      "[codecarbon INFO @ 10:06:09] Energy consumed for all GPUs : 0.000004 kWh. All GPUs Power : 1.0150000000000001 W\n",
      "[codecarbon DEBUG @ 10:06:09] GPU : 1.02 W during 0.61 s [measurement time: 0.0080]\n",
      "[codecarbon INFO @ 10:06:09] Energy consumed for all CPUs : 0.000122 kWh. All CPUs Power : 27.0 W\n",
      "[codecarbon DEBUG @ 10:06:09] CPU : 27.00 W during 0.62 s [measurement time: 0.0010]\n",
      "[codecarbon INFO @ 10:06:09] 0.000127 kWh of electricity used since the begining.\n",
      "[codecarbon DEBUG @ 10:06:09] last_duration=0.6191356182098389\n",
      "------------------------\n",
      "[codecarbon DEBUG @ 10:06:09] We apply an energy mix of 363 g.CO2eq/kWh for Chile\n",
      "[codecarbon DEBUG @ 10:06:09] EmissionsData(timestamp='2023-04-25T10:06:09', project_name='codecarbon', run_id='cbcdde9b-da5f-4b0a-8c6b-7636ca066156', duration=16.279573917388916, emissions=4.6027567185276723e-05, emissions_rate=0.0028273201386501087, cpu_power=27.0, gpu_power=1.0150000000000001, ram_power=0.20404815673828125, cpu_energy=0.0001216242581605911, gpu_energy=4.394237581425243e-06, ram_energy=7.567888539062058e-07, energy_consumed=0.00012677528459592257, country_name='Chile', country_iso_code='CHL', region='santiago metropolitan', cloud_provider='', cloud_region='', os='Windows-10-10.0.19045-SP0', python_version='3.10.10', cpu_count=12, cpu_model='AMD Ryzen 5 4600H with Radeon Graphics', gpu_count=1, gpu_model='1 x NVIDIA GeForce GTX 1650', longitude=-70.5937, latitude=-33.4653, ram_total_size=15.372379302978516, tracking_mode='process', on_cloud='N')\n"
     ]
    },
    {
     "name": "stdout",
     "output_type": "stream",
     "text": [
      "------------------- Processing round 25\n",
      "las decisiones son: {'subject1': 0, 'subject10': 1, 'subject100': 1, 'subject102': 1, 'subject103': 0, 'subject105': 1, 'subject107': 1, 'subject120': 0, 'subject206': 1, 'subject210': 1}\n",
      "Subtask task2a: - run 0\n",
      "las decisiones son: {'subject1': 0.0956583114677869, 'subject10': 0.9835408608682419, 'subject100': 0.8738327565421639, 'subject102': 0.9533767447636582, 'subject103': 0.33226385616983295, 'subject105': 0.8745804043833096, 'subject107': 0.6466099383631961, 'subject120': 0.28315061959257215, 'subject206': 0.7737923175147468, 'subject210': 0.8969054627560974}\n",
      "Subtask task2b: - run 0\n"
     ]
    },
    {
     "name": "stderr",
     "output_type": "stream",
     "text": [
      "[codecarbon WARNING @ 10:06:09] Already started tracking\n",
      "[codecarbon INFO @ 10:06:09] Energy consumed for RAM : 0.000001 kWh. RAM Power : 0.21605300903320312 W\n",
      "[codecarbon DEBUG @ 10:06:09] RAM : 0.22 W during 0.57 s [measurement time: 0.0070]\n",
      "[codecarbon INFO @ 10:06:09] Energy consumed for all GPUs : 0.000005 kWh. All GPUs Power : 1.0230000000000004 W\n",
      "[codecarbon DEBUG @ 10:06:09] GPU : 1.02 W during 0.59 s [measurement time: 0.0060]\n",
      "[codecarbon INFO @ 10:06:09] Energy consumed for all CPUs : 0.000126 kWh. All CPUs Power : 27.0 W\n",
      "[codecarbon DEBUG @ 10:06:09] CPU : 27.00 W during 0.60 s [measurement time: 0.0000]\n",
      "[codecarbon INFO @ 10:06:09] 0.000131 kWh of electricity used since the begining.\n",
      "[codecarbon DEBUG @ 10:06:09] last_duration=0.5990796089172363\n",
      "------------------------\n",
      "[codecarbon DEBUG @ 10:06:09] We apply an energy mix of 363 g.CO2eq/kWh for Chile\n",
      "[codecarbon DEBUG @ 10:06:09] EmissionsData(timestamp='2023-04-25T10:06:09', project_name='codecarbon', run_id='cbcdde9b-da5f-4b0a-8c6b-7636ca066156', duration=16.879639863967896, emissions=4.773188287352796e-05, emissions_rate=0.0028277785105723, cpu_power=27.0, gpu_power=1.0230000000000004, ram_power=0.21605300903320312, cpu_energy=0.00012611735522747038, gpu_energy=4.561062625580364e-06, ram_energy=7.911210698408885e-07, energy_consumed=0.00013146953892289166, country_name='Chile', country_iso_code='CHL', region='santiago metropolitan', cloud_provider='', cloud_region='', os='Windows-10-10.0.19045-SP0', python_version='3.10.10', cpu_count=12, cpu_model='AMD Ryzen 5 4600H with Radeon Graphics', gpu_count=1, gpu_model='1 x NVIDIA GeForce GTX 1650', longitude=-70.5937, latitude=-33.4653, ram_total_size=15.372379302978516, tracking_mode='process', on_cloud='N')\n"
     ]
    },
    {
     "name": "stdout",
     "output_type": "stream",
     "text": [
      "------------------- Processing round 26\n",
      "las decisiones son: {'subject1': 0, 'subject10': 1, 'subject100': 1, 'subject102': 1, 'subject103': 0, 'subject105': 1, 'subject107': 1, 'subject120': 0, 'subject206': 1, 'subject210': 1}\n",
      "Subtask task2a: - run 0\n",
      "las decisiones son: {'subject1': 0.13049750143124303, 'subject10': 0.9835408608682419, 'subject100': 0.8738327565421639, 'subject102': 0.9348265272434514, 'subject103': 0.3353469693901957, 'subject105': 0.8638326131939505, 'subject107': 0.6521965220240666, 'subject120': 0.3709201658051186, 'subject206': 0.7835085191951349, 'subject210': 0.8969054627560974}\n",
      "Subtask task2b: - run 0\n"
     ]
    },
    {
     "name": "stderr",
     "output_type": "stream",
     "text": [
      "[codecarbon WARNING @ 10:06:10] Already started tracking\n",
      "[codecarbon INFO @ 10:06:10] Energy consumed for RAM : 0.000001 kWh. RAM Power : 0.2164921760559082 W\n",
      "[codecarbon DEBUG @ 10:06:10] RAM : 0.22 W during 0.59 s [measurement time: 0.0070]\n",
      "[codecarbon INFO @ 10:06:10] Energy consumed for all GPUs : 0.000005 kWh. All GPUs Power : 1.04 W\n",
      "[codecarbon DEBUG @ 10:06:10] GPU : 1.04 W during 0.60 s [measurement time: 0.0070]\n",
      "[codecarbon INFO @ 10:06:10] Energy consumed for all CPUs : 0.000131 kWh. All CPUs Power : 27.0 W\n",
      "[codecarbon DEBUG @ 10:06:10] CPU : 27.00 W during 0.62 s [measurement time: 0.0010]\n",
      "[codecarbon INFO @ 10:06:10] 0.000136 kWh of electricity used since the begining.\n",
      "[codecarbon DEBUG @ 10:06:10] last_duration=0.6164069175720215\n",
      "------------------------\n",
      "[codecarbon DEBUG @ 10:06:10] We apply an energy mix of 363 g.CO2eq/kWh for Chile\n",
      "[codecarbon DEBUG @ 10:06:10] EmissionsData(timestamp='2023-04-25T10:06:10', project_name='codecarbon', run_id='cbcdde9b-da5f-4b0a-8c6b-7636ca066156', duration=17.498048782348633, emissions=4.948648429560048e-05, emissions_rate=0.0028281144321371746, cpu_power=27.0, gpu_power=1.04, ram_power=0.2164921760559082, cpu_energy=0.00013074040710926054, gpu_energy=4.7353834134340285e-06, ram_energy=8.265064241060334e-07, energy_consumed=0.00013630229694680063, country_name='Chile', country_iso_code='CHL', region='santiago metropolitan', cloud_provider='', cloud_region='', os='Windows-10-10.0.19045-SP0', python_version='3.10.10', cpu_count=12, cpu_model='AMD Ryzen 5 4600H with Radeon Graphics', gpu_count=1, gpu_model='1 x NVIDIA GeForce GTX 1650', longitude=-70.5937, latitude=-33.4653, ram_total_size=15.372379302978516, tracking_mode='process', on_cloud='N')\n"
     ]
    },
    {
     "name": "stdout",
     "output_type": "stream",
     "text": [
      "------------------- Processing round 27\n",
      "las decisiones son: {'subject1': 0, 'subject10': 1, 'subject100': 1, 'subject102': 1, 'subject103': 0, 'subject105': 1, 'subject107': 1, 'subject120': 0, 'subject206': 1, 'subject210': 1}\n",
      "Subtask task2a: - run 0\n",
      "las decisiones son: {'subject1': 0.13049750143124303, 'subject10': 0.9835408608682419, 'subject100': 0.8738327565421639, 'subject102': 0.9190813659493368, 'subject103': 0.20565623961466872, 'subject105': 0.8512216727707129, 'subject107': 0.6522969961552779, 'subject120': 0.4030842617010919, 'subject206': 0.7857579977187934, 'subject210': 0.8969054627560974}\n",
      "Subtask task2b: - run 0\n"
     ]
    },
    {
     "name": "stderr",
     "output_type": "stream",
     "text": [
      "[codecarbon WARNING @ 10:06:11] Already started tracking\n",
      "[codecarbon INFO @ 10:06:11] Energy consumed for RAM : 0.000001 kWh. RAM Power : 0.2290205955505371 W\n",
      "[codecarbon DEBUG @ 10:06:11] RAM : 0.23 W during 0.57 s [measurement time: 0.0070]\n",
      "[codecarbon INFO @ 10:06:11] Energy consumed for all GPUs : 0.000005 kWh. All GPUs Power : 1.025 W\n",
      "[codecarbon DEBUG @ 10:06:11] GPU : 1.02 W during 0.58 s [measurement time: 0.0060]\n",
      "[codecarbon INFO @ 10:06:11] Energy consumed for all CPUs : 0.000135 kWh. All CPUs Power : 27.0 W\n",
      "[codecarbon DEBUG @ 10:06:11] CPU : 27.00 W during 0.59 s [measurement time: 0.0000]\n",
      "[codecarbon INFO @ 10:06:11] 0.000141 kWh of electricity used since the begining.\n",
      "[codecarbon DEBUG @ 10:06:11] last_duration=0.5925257205963135\n",
      "------------------------\n",
      "[codecarbon DEBUG @ 10:06:11] We apply an energy mix of 363 g.CO2eq/kWh for Chile\n",
      "[codecarbon DEBUG @ 10:06:11] EmissionsData(timestamp='2023-04-25T10:06:11', project_name='codecarbon', run_id='cbcdde9b-da5f-4b0a-8c6b-7636ca066156', duration=18.092570781707764, emissions=5.117301515175812e-05, emissions_rate=0.0028283993341342, cpu_power=27.0, gpu_power=1.025, ram_power=0.2290205955505371, cpu_energy=0.0001351843500137329, gpu_energy=4.900670129921701e-06, ram_energy=8.625457657337658e-07, energy_consumed=0.0001409475659093884, country_name='Chile', country_iso_code='CHL', region='santiago metropolitan', cloud_provider='', cloud_region='', os='Windows-10-10.0.19045-SP0', python_version='3.10.10', cpu_count=12, cpu_model='AMD Ryzen 5 4600H with Radeon Graphics', gpu_count=1, gpu_model='1 x NVIDIA GeForce GTX 1650', longitude=-70.5937, latitude=-33.4653, ram_total_size=15.372379302978516, tracking_mode='process', on_cloud='N')\n"
     ]
    },
    {
     "name": "stdout",
     "output_type": "stream",
     "text": [
      "------------------- Processing round 28\n",
      "las decisiones son: {'subject1': 0, 'subject10': 1, 'subject100': 1, 'subject102': 1, 'subject103': 0, 'subject105': 1, 'subject107': 1, 'subject120': 0, 'subject206': 1, 'subject210': 1}\n",
      "Subtask task2a: - run 0\n",
      "las decisiones son: {'subject1': 0.13049750143124303, 'subject10': 0.9835408608682419, 'subject100': 0.8738327565421639, 'subject102': 0.9194775235013228, 'subject103': 0.23419106378473822, 'subject105': 0.8313212239208237, 'subject107': 0.6529318723322083, 'subject120': 0.4164618755474077, 'subject206': 0.8444719083225872, 'subject210': 0.8969054627560974}\n",
      "Subtask task2b: - run 0\n"
     ]
    },
    {
     "name": "stderr",
     "output_type": "stream",
     "text": [
      "[codecarbon WARNING @ 10:06:11] Already started tracking\n",
      "[codecarbon INFO @ 10:06:11] Energy consumed for RAM : 0.000001 kWh. RAM Power : 0.24155187606811523 W\n",
      "[codecarbon DEBUG @ 10:06:11] RAM : 0.24 W during 0.57 s [measurement time: 0.0080]\n",
      "[codecarbon INFO @ 10:06:11] Energy consumed for all GPUs : 0.000005 kWh. All GPUs Power : 1.0170000000000001 W\n",
      "[codecarbon DEBUG @ 10:06:11] GPU : 1.02 W during 0.59 s [measurement time: 0.0072]\n",
      "[codecarbon INFO @ 10:06:11] Energy consumed for all CPUs : 0.000140 kWh. All CPUs Power : 27.0 W\n",
      "[codecarbon DEBUG @ 10:06:11] CPU : 27.00 W during 0.60 s [measurement time: 0.0010]\n",
      "[codecarbon INFO @ 10:06:11] 0.000146 kWh of electricity used since the begining.\n",
      "[codecarbon DEBUG @ 10:06:11] last_duration=0.6005723476409912\n",
      "------------------------\n",
      "[codecarbon DEBUG @ 10:06:11] We apply an energy mix of 363 g.CO2eq/kWh for Chile\n",
      "[codecarbon DEBUG @ 10:06:11] EmissionsData(timestamp='2023-04-25T10:06:11', project_name='codecarbon', run_id='cbcdde9b-da5f-4b0a-8c6b-7636ca066156', duration=18.695141792297363, emissions=5.2882702115825596e-05, emissions_rate=0.002828686869741418, cpu_power=27.0, gpu_power=1.0170000000000001, ram_power=0.24155187606811523, cpu_energy=0.00013968864262104032, gpu_energy=5.066940514710214e-06, ram_energy=9.010313872027117e-07, energy_consumed=0.0001456566145229533, country_name='Chile', country_iso_code='CHL', region='santiago metropolitan', cloud_provider='', cloud_region='', os='Windows-10-10.0.19045-SP0', python_version='3.10.10', cpu_count=12, cpu_model='AMD Ryzen 5 4600H with Radeon Graphics', gpu_count=1, gpu_model='1 x NVIDIA GeForce GTX 1650', longitude=-70.5937, latitude=-33.4653, ram_total_size=15.372379302978516, tracking_mode='process', on_cloud='N')\n"
     ]
    },
    {
     "name": "stdout",
     "output_type": "stream",
     "text": [
      "------------------- Processing round 29\n",
      "las decisiones son: {'subject1': 0, 'subject10': 1, 'subject100': 1, 'subject102': 1, 'subject103': 0, 'subject105': 1, 'subject107': 1, 'subject120': 0, 'subject206': 1, 'subject210': 1}\n",
      "Subtask task2a: - run 0\n",
      "las decisiones son: {'subject1': 0.13049750143124303, 'subject10': 0.9835408608682419, 'subject100': 0.8738327565421639, 'subject102': 0.9198234000624276, 'subject103': 0.21085764922054723, 'subject105': 0.8310794599918429, 'subject107': 0.6573538028315281, 'subject120': 0.45861817210618283, 'subject206': 0.8590577448902261, 'subject210': 0.8969054627560974}\n",
      "Subtask task2b: - run 0\n"
     ]
    },
    {
     "name": "stderr",
     "output_type": "stream",
     "text": [
      "[codecarbon WARNING @ 10:06:12] Already started tracking\n",
      "[codecarbon INFO @ 10:06:12] Energy consumed for RAM : 0.000001 kWh. RAM Power : 0.2420482635498047 W\n",
      "[codecarbon DEBUG @ 10:06:12] RAM : 0.24 W during 0.57 s [measurement time: 0.0100]\n",
      "[codecarbon INFO @ 10:06:12] Energy consumed for all GPUs : 0.000005 kWh. All GPUs Power : 1.0150000000000001 W\n",
      "[codecarbon DEBUG @ 10:06:12] GPU : 1.02 W during 0.59 s [measurement time: 0.0070]\n",
      "[codecarbon INFO @ 10:06:12] Energy consumed for all CPUs : 0.000144 kWh. All CPUs Power : 27.0 W\n",
      "[codecarbon DEBUG @ 10:06:12] CPU : 27.00 W during 0.60 s [measurement time: 0.0020]\n",
      "[codecarbon INFO @ 10:06:12] 0.000150 kWh of electricity used since the begining.\n",
      "[codecarbon DEBUG @ 10:06:12] last_duration=0.6029009819030762\n",
      "------------------------\n",
      "[codecarbon DEBUG @ 10:06:12] We apply an energy mix of 363 g.CO2eq/kWh for Chile\n",
      "[codecarbon DEBUG @ 10:06:12] EmissionsData(timestamp='2023-04-25T10:06:12', project_name='codecarbon', run_id='cbcdde9b-da5f-4b0a-8c6b-7636ca066156', duration=19.301035404205322, emissions=5.459886193848445e-05, emissions_rate=0.0028288048177243594, cpu_power=27.0, gpu_power=1.0150000000000001, ram_power=0.2420482635498047, cpu_energy=0.0001442103999853134, gpu_energy=5.233541202346484e-06, ram_energy=9.395503621386562e-07, energy_consumed=0.0001503834915497986, country_name='Chile', country_iso_code='CHL', region='santiago metropolitan', cloud_provider='', cloud_region='', os='Windows-10-10.0.19045-SP0', python_version='3.10.10', cpu_count=12, cpu_model='AMD Ryzen 5 4600H with Radeon Graphics', gpu_count=1, gpu_model='1 x NVIDIA GeForce GTX 1650', longitude=-70.5937, latitude=-33.4653, ram_total_size=15.372379302978516, tracking_mode='process', on_cloud='N')\n"
     ]
    },
    {
     "name": "stdout",
     "output_type": "stream",
     "text": [
      "------------------- Processing round 30\n",
      "las decisiones son: {'subject1': 0, 'subject10': 1, 'subject100': 1, 'subject102': 1, 'subject103': 0, 'subject105': 1, 'subject107': 1, 'subject120': 1, 'subject206': 1, 'subject210': 1}\n",
      "Subtask task2a: - run 0\n",
      "las decisiones son: {'subject1': 0.13049750143124303, 'subject10': 0.9835408608682419, 'subject100': 0.8738327565421639, 'subject102': 0.9249832416022683, 'subject103': 0.2191352300567414, 'subject105': 0.8148065609258247, 'subject107': 0.660010329205847, 'subject120': 0.5030805793354453, 'subject206': 0.8424631629719167, 'subject210': 0.8969054627560974}\n",
      "Subtask task2b: - run 0\n"
     ]
    },
    {
     "name": "stderr",
     "output_type": "stream",
     "text": [
      "[codecarbon WARNING @ 10:06:12] Already started tracking\n",
      "[codecarbon INFO @ 10:06:12] Energy consumed for RAM : 0.000001 kWh. RAM Power : 0.25483846664428716 W\n",
      "[codecarbon DEBUG @ 10:06:12] RAM : 0.25 W during 0.59 s [measurement time: 0.0080]\n",
      "[codecarbon INFO @ 10:06:12] Energy consumed for all GPUs : 0.000005 kWh. All GPUs Power : 1.014 W\n",
      "[codecarbon DEBUG @ 10:06:12] GPU : 1.01 W during 0.61 s [measurement time: 0.0070]\n",
      "[codecarbon INFO @ 10:06:12] Energy consumed for all CPUs : 0.000149 kWh. All CPUs Power : 27.0 W\n",
      "[codecarbon DEBUG @ 10:06:12] CPU : 27.00 W during 0.62 s [measurement time: 0.0010]\n",
      "[codecarbon INFO @ 10:06:12] 0.000155 kWh of electricity used since the begining.\n",
      "[codecarbon DEBUG @ 10:06:12] last_duration=0.6223270893096924\n",
      "------------------------\n",
      "[codecarbon DEBUG @ 10:06:12] We apply an energy mix of 363 g.CO2eq/kWh for Chile\n",
      "[codecarbon DEBUG @ 10:06:12] EmissionsData(timestamp='2023-04-25T10:06:12', project_name='codecarbon', run_id='cbcdde9b-da5f-4b0a-8c6b-7636ca066156', duration=19.925350189208984, emissions=5.637100592905595e-05, emissions_rate=0.0028291099224737803, cpu_power=27.0, gpu_power=1.014, ram_power=0.25483846664428716, cpu_energy=0.0001488778531551361, gpu_energy=5.405164837241173e-06, ram_energy=9.815496709014345e-07, energy_consumed=0.00015526456766327875, country_name='Chile', country_iso_code='CHL', region='santiago metropolitan', cloud_provider='', cloud_region='', os='Windows-10-10.0.19045-SP0', python_version='3.10.10', cpu_count=12, cpu_model='AMD Ryzen 5 4600H with Radeon Graphics', gpu_count=1, gpu_model='1 x NVIDIA GeForce GTX 1650', longitude=-70.5937, latitude=-33.4653, ram_total_size=15.372379302978516, tracking_mode='process', on_cloud='N')\n"
     ]
    },
    {
     "name": "stdout",
     "output_type": "stream",
     "text": [
      "------------------- Processing round 31\n",
      "las decisiones son: {'subject1': 0, 'subject10': 1, 'subject100': 1, 'subject102': 1, 'subject103': 0, 'subject105': 1, 'subject107': 1, 'subject120': 1, 'subject206': 1, 'subject210': 1}\n",
      "Subtask task2a: - run 0\n",
      "las decisiones son: {'subject1': 0.13049750143124303, 'subject10': 0.9835408608682419, 'subject100': 0.8738327565421639, 'subject102': 0.9436588804254813, 'subject103': 0.23149609265134602, 'subject105': 0.8151380013825787, 'subject107': 0.6369975000176346, 'subject120': 0.5133443593053209, 'subject206': 0.8511838947150575, 'subject210': 0.8969054627560974}\n",
      "Subtask task2b: - run 0\n"
     ]
    },
    {
     "name": "stderr",
     "output_type": "stream",
     "text": [
      "[codecarbon WARNING @ 10:06:13] Already started tracking\n",
      "[codecarbon INFO @ 10:06:13] Energy consumed for RAM : 0.000001 kWh. RAM Power : 0.26733827590942383 W\n",
      "[codecarbon DEBUG @ 10:06:13] RAM : 0.27 W during 0.57 s [measurement time: 0.0070]\n",
      "[codecarbon INFO @ 10:06:13] Energy consumed for all GPUs : 0.000006 kWh. All GPUs Power : 1.051 W\n",
      "[codecarbon DEBUG @ 10:06:13] GPU : 1.05 W during 0.58 s [measurement time: 0.0080]\n",
      "[codecarbon INFO @ 10:06:13] Energy consumed for all CPUs : 0.000153 kWh. All CPUs Power : 27.0 W\n",
      "[codecarbon DEBUG @ 10:06:13] CPU : 27.00 W during 0.60 s [measurement time: 0.0000]\n",
      "[codecarbon INFO @ 10:06:13] 0.000160 kWh of electricity used since the begining.\n",
      "[codecarbon DEBUG @ 10:06:13] last_duration=0.5965023040771484\n",
      "------------------------\n",
      "[codecarbon DEBUG @ 10:06:13] We apply an energy mix of 363 g.CO2eq/kWh for Chile\n",
      "[codecarbon DEBUG @ 10:06:13] EmissionsData(timestamp='2023-04-25T10:06:13', project_name='codecarbon', run_id='cbcdde9b-da5f-4b0a-8c6b-7636ca066156', duration=20.5228590965271, emissions=5.80724730363158e-05, emissions_rate=0.002829648284538624, cpu_power=27.0, gpu_power=1.051, ram_power=0.26733827590942383, cpu_energy=0.0001533516204357147, gpu_energy=5.5755146722661124e-06, ram_energy=1.0238409393253771e-06, energy_consumed=0.00015995097604730622, country_name='Chile', country_iso_code='CHL', region='santiago metropolitan', cloud_provider='', cloud_region='', os='Windows-10-10.0.19045-SP0', python_version='3.10.10', cpu_count=12, cpu_model='AMD Ryzen 5 4600H with Radeon Graphics', gpu_count=1, gpu_model='1 x NVIDIA GeForce GTX 1650', longitude=-70.5937, latitude=-33.4653, ram_total_size=15.372379302978516, tracking_mode='process', on_cloud='N')\n"
     ]
    },
    {
     "name": "stdout",
     "output_type": "stream",
     "text": [
      "------------------- Processing round 32\n",
      "las decisiones son: {'subject1': 0, 'subject10': 1, 'subject100': 1, 'subject102': 1, 'subject103': 0, 'subject105': 1, 'subject107': 1, 'subject120': 1, 'subject206': 1, 'subject210': 1}\n",
      "Subtask task2a: - run 0\n",
      "las decisiones son: {'subject1': 0.13049750143124303, 'subject10': 0.9835408608682419, 'subject100': 0.8738327565421639, 'subject102': 0.9430351359348433, 'subject103': 0.22174163618470374, 'subject105': 0.8281769488403434, 'subject107': 0.6387018815727852, 'subject120': 0.574232956162017, 'subject206': 0.8365361587935904, 'subject210': 0.8969054627560974}\n",
      "Subtask task2b: - run 0\n"
     ]
    },
    {
     "name": "stderr",
     "output_type": "stream",
     "text": [
      "[codecarbon WARNING @ 10:06:14] Already started tracking\n",
      "[codecarbon INFO @ 10:06:14] Energy consumed for RAM : 0.000001 kWh. RAM Power : 0.2670106887817383 W\n",
      "[codecarbon DEBUG @ 10:06:14] RAM : 0.27 W during 0.59 s [measurement time: 0.0070]\n",
      "[codecarbon INFO @ 10:06:14] Energy consumed for all GPUs : 0.000006 kWh. All GPUs Power : 1.0110000000000001 W\n",
      "[codecarbon DEBUG @ 10:06:14] GPU : 1.01 W during 0.60 s [measurement time: 0.0080]\n",
      "[codecarbon INFO @ 10:06:14] Energy consumed for all CPUs : 0.000158 kWh. All CPUs Power : 27.0 W\n",
      "[codecarbon DEBUG @ 10:06:14] CPU : 27.00 W during 0.62 s [measurement time: 0.0010]\n",
      "[codecarbon INFO @ 10:06:14] 0.000165 kWh of electricity used since the begining.\n",
      "[codecarbon DEBUG @ 10:06:14] last_duration=0.6161243915557861\n",
      "------------------------\n",
      "[codecarbon DEBUG @ 10:06:14] We apply an energy mix of 363 g.CO2eq/kWh for Chile\n",
      "[codecarbon DEBUG @ 10:06:14] EmissionsData(timestamp='2023-04-25T10:06:14', project_name='codecarbon', run_id='cbcdde9b-da5f-4b0a-8c6b-7636ca066156', duration=21.14098572731018, emissions=5.982739802426788e-05, emissions_rate=0.002829924715713805, cpu_power=27.0, gpu_power=1.0110000000000001, ram_power=0.2670106887817383, cpu_energy=0.00015797255337238308, gpu_energy=5.7446105528540084e-06, ram_energy=1.0674613544206107e-06, energy_consumed=0.00016478462527965774, country_name='Chile', country_iso_code='CHL', region='santiago metropolitan', cloud_provider='', cloud_region='', os='Windows-10-10.0.19045-SP0', python_version='3.10.10', cpu_count=12, cpu_model='AMD Ryzen 5 4600H with Radeon Graphics', gpu_count=1, gpu_model='1 x NVIDIA GeForce GTX 1650', longitude=-70.5937, latitude=-33.4653, ram_total_size=15.372379302978516, tracking_mode='process', on_cloud='N')\n"
     ]
    },
    {
     "name": "stdout",
     "output_type": "stream",
     "text": [
      "------------------- Processing round 33\n",
      "las decisiones son: {'subject1': 0, 'subject10': 1, 'subject100': 1, 'subject102': 1, 'subject103': 0, 'subject105': 1, 'subject107': 1, 'subject120': 1, 'subject206': 1, 'subject210': 1}\n",
      "Subtask task2a: - run 0\n",
      "las decisiones son: {'subject1': 0.13049750143124303, 'subject10': 0.9835408608682419, 'subject100': 0.8738327565421639, 'subject102': 0.932996552728763, 'subject103': 0.2482307440791688, 'subject105': 0.8274454737586306, 'subject107': 0.6337341381981588, 'subject120': 0.6332547327397023, 'subject206': 0.8310499560465685, 'subject210': 0.8969054627560974}\n",
      "Subtask task2b: - run 0\n"
     ]
    },
    {
     "name": "stderr",
     "output_type": "stream",
     "text": [
      "[codecarbon WARNING @ 10:06:14] Already started tracking\n",
      "[codecarbon INFO @ 10:06:14] Energy consumed for RAM : 0.000001 kWh. RAM Power : 0.2799110412597656 W\n",
      "[codecarbon DEBUG @ 10:06:14] RAM : 0.28 W during 0.59 s [measurement time: 0.0070]\n",
      "[codecarbon INFO @ 10:06:14] Energy consumed for all GPUs : 0.000006 kWh. All GPUs Power : 1.018 W\n",
      "[codecarbon DEBUG @ 10:06:14] GPU : 1.02 W during 0.61 s [measurement time: 0.0070]\n",
      "[codecarbon INFO @ 10:06:14] Energy consumed for all CPUs : 0.000163 kWh. All CPUs Power : 27.0 W\n",
      "[codecarbon DEBUG @ 10:06:14] CPU : 27.00 W during 0.62 s [measurement time: 0.0010]\n",
      "[codecarbon INFO @ 10:06:14] 0.000170 kWh of electricity used since the begining.\n",
      "[codecarbon DEBUG @ 10:06:14] last_duration=0.6191449165344238\n",
      "------------------------\n",
      "[codecarbon DEBUG @ 10:06:14] We apply an energy mix of 363 g.CO2eq/kWh for Chile\n",
      "[codecarbon DEBUG @ 10:06:14] EmissionsData(timestamp='2023-04-25T10:06:14', project_name='codecarbon', run_id='cbcdde9b-da5f-4b0a-8c6b-7636ca066156', duration=21.762121200561523, emissions=6.159249700732683e-05, emissions_rate=0.002830261647735772, cpu_power=27.0, gpu_power=1.018, ram_power=0.2799110412597656, cpu_energy=0.00016261614024639127, gpu_energy=5.9165775450732976e-06, ram_energy=1.1135792992736054e-06, energy_consumed=0.0001696462970907382, country_name='Chile', country_iso_code='CHL', region='santiago metropolitan', cloud_provider='', cloud_region='', os='Windows-10-10.0.19045-SP0', python_version='3.10.10', cpu_count=12, cpu_model='AMD Ryzen 5 4600H with Radeon Graphics', gpu_count=1, gpu_model='1 x NVIDIA GeForce GTX 1650', longitude=-70.5937, latitude=-33.4653, ram_total_size=15.372379302978516, tracking_mode='process', on_cloud='N')\n"
     ]
    },
    {
     "name": "stdout",
     "output_type": "stream",
     "text": [
      "------------------- Processing round 34\n",
      "las decisiones son: {'subject1': 0, 'subject10': 1, 'subject100': 1, 'subject102': 1, 'subject103': 0, 'subject105': 1, 'subject107': 1, 'subject120': 1, 'subject206': 1, 'subject210': 1}\n",
      "Subtask task2a: - run 0\n",
      "las decisiones son: {'subject1': 0.13049750143124303, 'subject10': 0.9835408608682419, 'subject100': 0.8738327565421639, 'subject102': 0.9311008318666738, 'subject103': 0.26207144902546486, 'subject105': 0.841999161066491, 'subject107': 0.5300583220278535, 'subject120': 0.6675723520895214, 'subject206': 0.8334835254932123, 'subject210': 0.8969054627560974}\n",
      "Subtask task2b: - run 0\n"
     ]
    },
    {
     "name": "stderr",
     "output_type": "stream",
     "text": [
      "[codecarbon WARNING @ 10:06:15] Already started tracking\n",
      "[codecarbon INFO @ 10:06:15] Energy consumed for RAM : 0.000001 kWh. RAM Power : 0.1479349136352539 W\n",
      "[codecarbon DEBUG @ 10:06:15] RAM : 0.15 W during 0.79 s [measurement time: 0.0070]\n",
      "[codecarbon INFO @ 10:06:15] Energy consumed for all GPUs : 0.000006 kWh. All GPUs Power : 1.058 W\n",
      "[codecarbon DEBUG @ 10:06:15] GPU : 1.06 W during 0.81 s [measurement time: 0.0070]\n",
      "[codecarbon INFO @ 10:06:15] Energy consumed for all CPUs : 0.000169 kWh. All CPUs Power : 27.0 W\n",
      "[codecarbon DEBUG @ 10:06:15] CPU : 27.00 W during 0.82 s [measurement time: 0.0010]\n",
      "[codecarbon INFO @ 10:06:15] 0.000176 kWh of electricity used since the begining.\n",
      "[codecarbon DEBUG @ 10:06:15] last_duration=0.8219904899597168\n",
      "------------------------\n",
      "[codecarbon DEBUG @ 10:06:15] We apply an energy mix of 363 g.CO2eq/kWh for Chile\n",
      "[codecarbon DEBUG @ 10:06:15] EmissionsData(timestamp='2023-04-25T10:06:15', project_name='codecarbon', run_id='cbcdde9b-da5f-4b0a-8c6b-7636ca066156', duration=22.586108207702637, emissions=6.392893971688313e-05, emissions_rate=0.0028304539732560553, cpu_power=27.0, gpu_power=1.058, ram_power=0.1479349136352539, cpu_energy=0.00016878106892108914, gpu_energy=6.154324551754528e-06, ram_energy=1.1462467733071929e-06, energy_consumed=0.00017608164024615088, country_name='Chile', country_iso_code='CHL', region='santiago metropolitan', cloud_provider='', cloud_region='', os='Windows-10-10.0.19045-SP0', python_version='3.10.10', cpu_count=12, cpu_model='AMD Ryzen 5 4600H with Radeon Graphics', gpu_count=1, gpu_model='1 x NVIDIA GeForce GTX 1650', longitude=-70.5937, latitude=-33.4653, ram_total_size=15.372379302978516, tracking_mode='process', on_cloud='N')\n"
     ]
    },
    {
     "name": "stdout",
     "output_type": "stream",
     "text": [
      "------------------- Processing round 35\n",
      "las decisiones son: {'subject1': 0, 'subject10': 1, 'subject100': 1, 'subject102': 1, 'subject103': 0, 'subject105': 1, 'subject107': 1, 'subject120': 1, 'subject206': 1, 'subject210': 1}\n",
      "Subtask task2a: - run 0\n",
      "las decisiones son: {'subject1': 0.13049750143124303, 'subject10': 0.9835408608682419, 'subject100': 0.8738327565421639, 'subject102': 0.9356754441090651, 'subject103': 0.2988693891404136, 'subject105': 0.8467415687693647, 'subject107': 0.5646487423101323, 'subject120': 0.508716474379422, 'subject206': 0.8514802141420892, 'subject210': 0.8969054627560974}\n",
      "Subtask task2b: - run 0\n"
     ]
    },
    {
     "name": "stderr",
     "output_type": "stream",
     "text": [
      "[codecarbon WARNING @ 10:06:16] Already started tracking\n",
      "[codecarbon INFO @ 10:06:16] Energy consumed for RAM : 0.000001 kWh. RAM Power : 0.1464800834655762 W\n",
      "[codecarbon DEBUG @ 10:06:16] RAM : 0.15 W during 0.59 s [measurement time: 0.0070]\n",
      "[codecarbon INFO @ 10:06:16] Energy consumed for all GPUs : 0.000006 kWh. All GPUs Power : 1.01 W\n",
      "[codecarbon DEBUG @ 10:06:16] GPU : 1.01 W during 0.61 s [measurement time: 0.0070]\n",
      "[codecarbon INFO @ 10:06:16] Energy consumed for all CPUs : 0.000173 kWh. All CPUs Power : 27.0 W\n",
      "[codecarbon DEBUG @ 10:06:16] CPU : 27.00 W during 0.62 s [measurement time: 0.0020]\n",
      "[codecarbon INFO @ 10:06:16] 0.000181 kWh of electricity used since the begining.\n",
      "[codecarbon DEBUG @ 10:06:16] last_duration=0.619027853012085\n",
      "------------------------\n",
      "[codecarbon DEBUG @ 10:06:16] We apply an energy mix of 363 g.CO2eq/kWh for Chile\n",
      "[codecarbon DEBUG @ 10:06:16] EmissionsData(timestamp='2023-04-25T10:06:16', project_name='codecarbon', run_id='cbcdde9b-da5f-4b0a-8c6b-7636ca066156', duration=23.20813751220703, emissions=6.568498722619344e-05, emissions_rate=0.002830256723170673, cpu_power=27.0, gpu_power=1.01, ram_power=0.1464800834655762, cpu_energy=0.00017342377781867977, gpu_energy=6.3243491633070845e-06, ram_energy=1.1702542950475467e-06, energy_consumed=0.00018091838127703443, country_name='Chile', country_iso_code='CHL', region='santiago metropolitan', cloud_provider='', cloud_region='', os='Windows-10-10.0.19045-SP0', python_version='3.10.10', cpu_count=12, cpu_model='AMD Ryzen 5 4600H with Radeon Graphics', gpu_count=1, gpu_model='1 x NVIDIA GeForce GTX 1650', longitude=-70.5937, latitude=-33.4653, ram_total_size=15.372379302978516, tracking_mode='process', on_cloud='N')\n"
     ]
    },
    {
     "name": "stdout",
     "output_type": "stream",
     "text": [
      "------------------- Processing round 36\n",
      "las decisiones son: {'subject1': 0, 'subject10': 1, 'subject100': 1, 'subject102': 1, 'subject103': 0, 'subject105': 1, 'subject107': 0, 'subject120': 1, 'subject206': 1, 'subject210': 1}\n",
      "Subtask task2a: - run 0\n",
      "las decisiones son: {'subject1': 0.13049750143124303, 'subject10': 0.9835408608682419, 'subject100': 0.8738327565421639, 'subject102': 0.9462556918916852, 'subject103': 0.28804737882119796, 'subject105': 0.8528165858162475, 'subject107': 0.4873493969072497, 'subject120': 0.508716474379422, 'subject206': 0.8507469912855582, 'subject210': 0.8969054627560974}\n",
      "Subtask task2b: - run 0\n"
     ]
    },
    {
     "name": "stderr",
     "output_type": "stream",
     "text": [
      "[codecarbon WARNING @ 10:06:16] Already started tracking\n",
      "[codecarbon INFO @ 10:06:16] Energy consumed for RAM : 0.000001 kWh. RAM Power : 0.15396451950073242 W\n",
      "[codecarbon DEBUG @ 10:06:16] RAM : 0.15 W during 0.57 s [measurement time: 0.0080]\n",
      "[codecarbon INFO @ 10:06:16] Energy consumed for all GPUs : 0.000006 kWh. All GPUs Power : 1.0090000000000001 W\n",
      "[codecarbon DEBUG @ 10:06:16] GPU : 1.01 W during 0.59 s [measurement time: 0.0070]\n",
      "[codecarbon INFO @ 10:06:16] Energy consumed for all CPUs : 0.000178 kWh. All CPUs Power : 27.0 W\n",
      "[codecarbon DEBUG @ 10:06:16] CPU : 27.00 W during 0.60 s [measurement time: 0.0010]\n",
      "[codecarbon INFO @ 10:06:16] 0.000186 kWh of electricity used since the begining.\n",
      "[codecarbon DEBUG @ 10:06:16] last_duration=0.5980327129364014\n",
      "------------------------\n",
      "[codecarbon DEBUG @ 10:06:16] We apply an energy mix of 363 g.CO2eq/kWh for Chile\n",
      "[codecarbon DEBUG @ 10:06:16] EmissionsData(timestamp='2023-04-25T10:06:16', project_name='codecarbon', run_id='cbcdde9b-da5f-4b0a-8c6b-7636ca066156', duration=23.809163331985474, emissions=6.738180128683336e-05, emissions_rate=0.0028300785015957265, cpu_power=27.0, gpu_power=1.0090000000000001, ram_power=0.15396451950073242, cpu_energy=0.00017790902316570278, gpu_energy=6.488317220343484e-06, ram_energy=1.1946332313801614e-06, energy_consumed=0.00018559197361742646, country_name='Chile', country_iso_code='CHL', region='santiago metropolitan', cloud_provider='', cloud_region='', os='Windows-10-10.0.19045-SP0', python_version='3.10.10', cpu_count=12, cpu_model='AMD Ryzen 5 4600H with Radeon Graphics', gpu_count=1, gpu_model='1 x NVIDIA GeForce GTX 1650', longitude=-70.5937, latitude=-33.4653, ram_total_size=15.372379302978516, tracking_mode='process', on_cloud='N')\n"
     ]
    },
    {
     "name": "stdout",
     "output_type": "stream",
     "text": [
      "------------------- Processing round 37\n",
      "las decisiones son: {'subject1': 0, 'subject10': 1, 'subject100': 1, 'subject102': 1, 'subject103': 0, 'subject105': 1, 'subject107': 0, 'subject120': 1, 'subject206': 1, 'subject210': 1}\n",
      "Subtask task2a: - run 0\n",
      "las decisiones son: {'subject1': 0.13049750143124303, 'subject10': 0.9835408608682419, 'subject100': 0.8738327565421639, 'subject102': 0.9367869792713956, 'subject103': 0.31629795769367086, 'subject105': 0.8481402032239345, 'subject107': 0.45638193182906145, 'subject120': 0.508716474379422, 'subject206': 0.7778832047905918, 'subject210': 0.8969054627560974}\n",
      "Subtask task2b: - run 0\n"
     ]
    },
    {
     "name": "stderr",
     "output_type": "stream",
     "text": [
      "[codecarbon WARNING @ 10:06:17] Already started tracking\n",
      "[codecarbon INFO @ 10:06:17] Energy consumed for RAM : 0.000001 kWh. RAM Power : 0.16082239151000977 W\n",
      "[codecarbon DEBUG @ 10:06:17] RAM : 0.16 W during 0.57 s [measurement time: 0.0080]\n",
      "[codecarbon INFO @ 10:06:17] Energy consumed for all GPUs : 0.000007 kWh. All GPUs Power : 1.006 W\n",
      "[codecarbon DEBUG @ 10:06:17] GPU : 1.01 W during 0.59 s [measurement time: 0.0070]\n",
      "[codecarbon INFO @ 10:06:17] Energy consumed for all CPUs : 0.000182 kWh. All CPUs Power : 27.0 W\n",
      "[codecarbon DEBUG @ 10:06:17] CPU : 27.00 W during 0.60 s [measurement time: 0.0010]\n",
      "[codecarbon INFO @ 10:06:17] 0.000190 kWh of electricity used since the begining.\n",
      "[codecarbon DEBUG @ 10:06:17] last_duration=0.5983915328979492\n",
      "------------------------\n",
      "[codecarbon DEBUG @ 10:06:17] We apply an energy mix of 363 g.CO2eq/kWh for Chile\n",
      "[codecarbon DEBUG @ 10:06:17] EmissionsData(timestamp='2023-04-25T10:06:17', project_name='codecarbon', run_id='cbcdde9b-da5f-4b0a-8c6b-7636ca066156', duration=24.409537076950073, emissions=6.90799864778463e-05, emissions_rate=0.0028300408262587878, cpu_power=27.0, gpu_power=1.006, ram_power=0.16082239151000977, cpu_energy=0.0001823969596624374, gpu_energy=6.652180320156945e-06, ram_energy=1.2202025259715772e-06, energy_consumed=0.00019026934250856593, country_name='Chile', country_iso_code='CHL', region='santiago metropolitan', cloud_provider='', cloud_region='', os='Windows-10-10.0.19045-SP0', python_version='3.10.10', cpu_count=12, cpu_model='AMD Ryzen 5 4600H with Radeon Graphics', gpu_count=1, gpu_model='1 x NVIDIA GeForce GTX 1650', longitude=-70.5937, latitude=-33.4653, ram_total_size=15.372379302978516, tracking_mode='process', on_cloud='N')\n"
     ]
    },
    {
     "name": "stdout",
     "output_type": "stream",
     "text": [
      "------------------- Processing round 38\n",
      "las decisiones son: {'subject1': 0, 'subject10': 1, 'subject100': 1, 'subject102': 1, 'subject103': 0, 'subject105': 1, 'subject107': 0, 'subject120': 1, 'subject206': 1, 'subject210': 1}\n",
      "Subtask task2a: - run 0\n",
      "las decisiones son: {'subject1': 0.13049750143124303, 'subject10': 0.9835408608682419, 'subject100': 0.8738327565421639, 'subject102': 0.9438405612149351, 'subject103': 0.3207070596850345, 'subject105': 0.8658543290724517, 'subject107': 0.39923705315871044, 'subject120': 0.508716474379422, 'subject206': 0.7445601180928632, 'subject210': 0.8969054627560974}\n",
      "Subtask task2b: - run 0\n"
     ]
    },
    {
     "name": "stderr",
     "output_type": "stream",
     "text": [
      "[codecarbon WARNING @ 10:06:18] Already started tracking\n",
      "[codecarbon INFO @ 10:06:18] Energy consumed for RAM : 0.000001 kWh. RAM Power : 0.16085243225097656 W\n",
      "[codecarbon DEBUG @ 10:06:18] RAM : 0.16 W during 0.57 s [measurement time: 0.0080]\n",
      "[codecarbon INFO @ 10:06:18] Energy consumed for all GPUs : 0.000007 kWh. All GPUs Power : 1.006 W\n",
      "[codecarbon DEBUG @ 10:06:18] GPU : 1.01 W during 0.59 s [measurement time: 0.0090]\n",
      "[codecarbon INFO @ 10:06:18] Energy consumed for all CPUs : 0.000187 kWh. All CPUs Power : 27.0 W\n",
      "[codecarbon DEBUG @ 10:06:18] CPU : 27.00 W during 0.60 s [measurement time: 0.0000]\n",
      "[codecarbon INFO @ 10:06:18] 0.000195 kWh of electricity used since the begining.\n",
      "[codecarbon DEBUG @ 10:06:18] last_duration=0.6032178401947021\n",
      "------------------------\n",
      "[codecarbon DEBUG @ 10:06:18] We apply an energy mix of 363 g.CO2eq/kWh for Chile\n",
      "[codecarbon DEBUG @ 10:06:18] EmissionsData(timestamp='2023-04-25T10:06:18', project_name='codecarbon', run_id='cbcdde9b-da5f-4b0a-8c6b-7636ca066156', duration=25.01375699043274, emissions=7.079161624226653e-05, emissions_rate=0.0028301072993290413, cpu_power=27.0, gpu_power=1.006, ram_power=0.16085243225097656, cpu_energy=0.00018692109346389764, gpu_energy=6.8168337893486025e-06, ram_energy=1.2458149895867146e-06, energy_consumed=0.00019498374224283298, country_name='Chile', country_iso_code='CHL', region='santiago metropolitan', cloud_provider='', cloud_region='', os='Windows-10-10.0.19045-SP0', python_version='3.10.10', cpu_count=12, cpu_model='AMD Ryzen 5 4600H with Radeon Graphics', gpu_count=1, gpu_model='1 x NVIDIA GeForce GTX 1650', longitude=-70.5937, latitude=-33.4653, ram_total_size=15.372379302978516, tracking_mode='process', on_cloud='N')\n"
     ]
    },
    {
     "name": "stdout",
     "output_type": "stream",
     "text": [
      "------------------- Processing round 39\n",
      "las decisiones son: {'subject1': 0, 'subject10': 1, 'subject100': 1, 'subject102': 1, 'subject103': 0, 'subject105': 1, 'subject107': 0, 'subject120': 1, 'subject206': 1, 'subject210': 1}\n",
      "Subtask task2a: - run 0\n",
      "las decisiones son: {'subject1': 0.13049750143124303, 'subject10': 0.9835408608682419, 'subject100': 0.8738327565421639, 'subject102': 0.94640300426348, 'subject103': 0.24780457817395213, 'subject105': 0.8499361536840597, 'subject107': 0.4339787250287966, 'subject120': 0.508716474379422, 'subject206': 0.7733838107353784, 'subject210': 0.8969054627560974}\n",
      "Subtask task2b: - run 0\n"
     ]
    },
    {
     "name": "stderr",
     "output_type": "stream",
     "text": [
      "[codecarbon WARNING @ 10:06:18] Already started tracking\n",
      "[codecarbon INFO @ 10:06:18] Energy consumed for RAM : 0.000001 kWh. RAM Power : 0.16835689544677734 W\n",
      "[codecarbon DEBUG @ 10:06:18] RAM : 0.17 W during 0.57 s [measurement time: 0.0080]\n",
      "[codecarbon INFO @ 10:06:18] Energy consumed for all GPUs : 0.000007 kWh. All GPUs Power : 1.057 W\n",
      "[codecarbon DEBUG @ 10:06:18] GPU : 1.06 W during 0.59 s [measurement time: 0.0060]\n",
      "[codecarbon INFO @ 10:06:18] Energy consumed for all CPUs : 0.000191 kWh. All CPUs Power : 27.0 W\n",
      "[codecarbon DEBUG @ 10:06:18] CPU : 27.00 W during 0.60 s [measurement time: 0.0000]\n",
      "[codecarbon INFO @ 10:06:18] 0.000200 kWh of electricity used since the begining.\n",
      "[codecarbon DEBUG @ 10:06:18] last_duration=0.6006298065185547\n",
      "------------------------\n",
      "[codecarbon DEBUG @ 10:06:18] We apply an energy mix of 363 g.CO2eq/kWh for Chile\n",
      "[codecarbon DEBUG @ 10:06:18] EmissionsData(timestamp='2023-04-25T10:06:18', project_name='codecarbon', run_id='cbcdde9b-da5f-4b0a-8c6b-7636ca066156', duration=25.615391731262207, emissions=7.249953481375123e-05, emissions_rate=0.002830311383654127, cpu_power=27.0, gpu_power=1.057, ram_power=0.16835689544677734, cpu_energy=0.0001914258170127868, gpu_energy=6.989529851807489e-06, ram_energy=1.2725732483193988e-06, energy_consumed=0.00019968792011291372, country_name='Chile', country_iso_code='CHL', region='santiago metropolitan', cloud_provider='', cloud_region='', os='Windows-10-10.0.19045-SP0', python_version='3.10.10', cpu_count=12, cpu_model='AMD Ryzen 5 4600H with Radeon Graphics', gpu_count=1, gpu_model='1 x NVIDIA GeForce GTX 1650', longitude=-70.5937, latitude=-33.4653, ram_total_size=15.372379302978516, tracking_mode='process', on_cloud='N')\n"
     ]
    },
    {
     "name": "stdout",
     "output_type": "stream",
     "text": [
      "------------------- Processing round 40\n",
      "las decisiones son: {'subject1': 0, 'subject10': 1, 'subject100': 1, 'subject102': 1, 'subject103': 0, 'subject105': 1, 'subject107': 0, 'subject120': 1, 'subject206': 1, 'subject210': 1}\n",
      "Subtask task2a: - run 0\n",
      "las decisiones son: {'subject1': 0.13049750143124303, 'subject10': 0.9835408608682419, 'subject100': 0.8738327565421639, 'subject102': 0.948463943245456, 'subject103': 0.2319674899834638, 'subject105': 0.8331278595997506, 'subject107': 0.48362924283993397, 'subject120': 0.508716474379422, 'subject206': 0.8295585218757908, 'subject210': 0.8969054627560974}\n",
      "Subtask task2b: - run 0\n"
     ]
    },
    {
     "name": "stderr",
     "output_type": "stream",
     "text": [
      "[codecarbon WARNING @ 10:06:19] Already started tracking\n",
      "[codecarbon INFO @ 10:06:19] Energy consumed for RAM : 0.000001 kWh. RAM Power : 0.17970657348632812 W\n",
      "[codecarbon DEBUG @ 10:06:19] RAM : 0.18 W during 0.57 s [measurement time: 0.0070]\n",
      "[codecarbon INFO @ 10:06:19] Energy consumed for all GPUs : 0.000007 kWh. All GPUs Power : 1.0050000000000001 W\n",
      "[codecarbon DEBUG @ 10:06:19] GPU : 1.01 W during 0.59 s [measurement time: 0.0070]\n",
      "[codecarbon INFO @ 10:06:19] Energy consumed for all CPUs : 0.000196 kWh. All CPUs Power : 27.0 W\n",
      "[codecarbon DEBUG @ 10:06:19] CPU : 27.00 W during 0.60 s [measurement time: 0.0000]\n",
      "[codecarbon INFO @ 10:06:19] 0.000204 kWh of electricity used since the begining.\n",
      "[codecarbon DEBUG @ 10:06:19] last_duration=0.5986659526824951\n",
      "------------------------\n",
      "[codecarbon DEBUG @ 10:06:19] We apply an energy mix of 363 g.CO2eq/kWh for Chile\n",
      "[codecarbon DEBUG @ 10:06:19] EmissionsData(timestamp='2023-04-25T10:06:19', project_name='codecarbon', run_id='cbcdde9b-da5f-4b0a-8c6b-7636ca066156', duration=26.2140634059906, emissions=7.419941256735727e-05, emissions_rate=0.0028305193063049034, cpu_power=27.0, gpu_power=1.0050000000000001, ram_power=0.17970657348632812, cpu_energy=0.0001959158116579055, gpu_energy=7.15302952501509e-06, ram_energy=1.3011097035122058e-06, energy_consumed=0.00020436995088643283, country_name='Chile', country_iso_code='CHL', region='santiago metropolitan', cloud_provider='', cloud_region='', os='Windows-10-10.0.19045-SP0', python_version='3.10.10', cpu_count=12, cpu_model='AMD Ryzen 5 4600H with Radeon Graphics', gpu_count=1, gpu_model='1 x NVIDIA GeForce GTX 1650', longitude=-70.5937, latitude=-33.4653, ram_total_size=15.372379302978516, tracking_mode='process', on_cloud='N')\n"
     ]
    },
    {
     "name": "stdout",
     "output_type": "stream",
     "text": [
      "------------------- Processing round 41\n",
      "las decisiones son: {'subject1': 0, 'subject10': 1, 'subject100': 1, 'subject102': 1, 'subject103': 0, 'subject105': 1, 'subject107': 0, 'subject120': 1, 'subject206': 1, 'subject210': 1}\n",
      "Subtask task2a: - run 0\n",
      "las decisiones son: {'subject1': 0.13049750143124303, 'subject10': 0.9835408608682419, 'subject100': 0.8738327565421639, 'subject102': 0.9552238781466953, 'subject103': 0.19666213200167748, 'subject105': 0.874659777523982, 'subject107': 0.4834483469487796, 'subject120': 0.508716474379422, 'subject206': 0.7951368911441188, 'subject210': 0.8969054627560974}\n",
      "Subtask task2b: - run 0\n"
     ]
    },
    {
     "name": "stderr",
     "output_type": "stream",
     "text": [
      "[codecarbon WARNING @ 10:06:19] Already started tracking\n",
      "[codecarbon INFO @ 10:06:19] Energy consumed for RAM : 0.000001 kWh. RAM Power : 0.17952346801757812 W\n",
      "[codecarbon DEBUG @ 10:06:19] RAM : 0.18 W during 0.60 s [measurement time: 0.0070]\n",
      "[codecarbon INFO @ 10:06:19] Energy consumed for all GPUs : 0.000007 kWh. All GPUs Power : 1.04 W\n",
      "[codecarbon DEBUG @ 10:06:19] GPU : 1.04 W during 0.61 s [measurement time: 0.0070]\n",
      "[codecarbon INFO @ 10:06:19] Energy consumed for all CPUs : 0.000201 kWh. All CPUs Power : 27.0 W\n",
      "[codecarbon DEBUG @ 10:06:19] CPU : 27.00 W during 0.63 s [measurement time: 0.0010]\n",
      "[codecarbon INFO @ 10:06:19] 0.000209 kWh of electricity used since the begining.\n",
      "[codecarbon DEBUG @ 10:06:19] last_duration=0.6250357627868652\n",
      "------------------------\n",
      "[codecarbon DEBUG @ 10:06:19] We apply an energy mix of 363 g.CO2eq/kWh for Chile\n",
      "[codecarbon DEBUG @ 10:06:19] EmissionsData(timestamp='2023-04-25T10:06:19', project_name='codecarbon', run_id='cbcdde9b-da5f-4b0a-8c6b-7636ca066156', duration=26.84208059310913, emissions=7.597639220888415e-05, emissions_rate=0.0028304956445287153, cpu_power=27.0, gpu_power=1.04, ram_power=0.17952346801757812, cpu_energy=0.000200603579878807, gpu_energy=7.329834962950813e-06, ram_energy=1.3309311550859585e-06, energy_consumed=0.0002092643459968438, country_name='Chile', country_iso_code='CHL', region='santiago metropolitan', cloud_provider='', cloud_region='', os='Windows-10-10.0.19045-SP0', python_version='3.10.10', cpu_count=12, cpu_model='AMD Ryzen 5 4600H with Radeon Graphics', gpu_count=1, gpu_model='1 x NVIDIA GeForce GTX 1650', longitude=-70.5937, latitude=-33.4653, ram_total_size=15.372379302978516, tracking_mode='process', on_cloud='N')\n"
     ]
    },
    {
     "name": "stdout",
     "output_type": "stream",
     "text": [
      "------------------- Processing round 42\n",
      "las decisiones son: {'subject1': 0, 'subject10': 1, 'subject100': 1, 'subject102': 1, 'subject103': 0, 'subject105': 1, 'subject107': 1, 'subject120': 1, 'subject206': 1, 'subject210': 1}\n",
      "Subtask task2a: - run 0\n",
      "las decisiones son: {'subject1': 0.13049750143124303, 'subject10': 0.9835408608682419, 'subject100': 0.8738327565421639, 'subject102': 0.9579119088234874, 'subject103': 0.2554535854224777, 'subject105': 0.8593816806158209, 'subject107': 0.5207041653382262, 'subject120': 0.508716474379422, 'subject206': 0.8424058423377421, 'subject210': 0.8969054627560974}\n",
      "Subtask task2b: - run 0\n"
     ]
    },
    {
     "name": "stderr",
     "output_type": "stream",
     "text": [
      "[codecarbon WARNING @ 10:06:20] Already started tracking\n",
      "[codecarbon INFO @ 10:06:20] Energy consumed for RAM : 0.000001 kWh. RAM Power : 0.1922392845153809 W\n",
      "[codecarbon DEBUG @ 10:06:20] RAM : 0.19 W during 0.56 s [measurement time: 0.0070]\n",
      "[codecarbon INFO @ 10:06:20] Energy consumed for all GPUs : 0.000007 kWh. All GPUs Power : 1.04 W\n",
      "[codecarbon DEBUG @ 10:06:20] GPU : 1.04 W during 0.58 s [measurement time: 0.0070]\n",
      "[codecarbon INFO @ 10:06:20] Energy consumed for all CPUs : 0.000205 kWh. All CPUs Power : 27.0 W\n",
      "[codecarbon DEBUG @ 10:06:20] CPU : 27.00 W during 0.59 s [measurement time: 0.0010]\n",
      "[codecarbon INFO @ 10:06:20] 0.000214 kWh of electricity used since the begining.\n",
      "[codecarbon DEBUG @ 10:06:20] last_duration=0.5899395942687988\n",
      "------------------------\n",
      "[codecarbon DEBUG @ 10:06:20] We apply an energy mix of 363 g.CO2eq/kWh for Chile\n",
      "[codecarbon DEBUG @ 10:06:20] EmissionsData(timestamp='2023-04-25T10:06:20', project_name='codecarbon', run_id='cbcdde9b-da5f-4b0a-8c6b-7636ca066156', duration=27.43501353263855, emissions=7.765421261592585e-05, emissions_rate=0.0028304783784248236, cpu_power=27.0, gpu_power=1.04, ram_power=0.1922392845153809, cpu_energy=0.000205028126835823, gpu_energy=7.496505433718364e-06, ram_energy=1.3609912053699227e-06, energy_consumed=0.0002138856234749113, country_name='Chile', country_iso_code='CHL', region='santiago metropolitan', cloud_provider='', cloud_region='', os='Windows-10-10.0.19045-SP0', python_version='3.10.10', cpu_count=12, cpu_model='AMD Ryzen 5 4600H with Radeon Graphics', gpu_count=1, gpu_model='1 x NVIDIA GeForce GTX 1650', longitude=-70.5937, latitude=-33.4653, ram_total_size=15.372379302978516, tracking_mode='process', on_cloud='N')\n"
     ]
    },
    {
     "name": "stdout",
     "output_type": "stream",
     "text": [
      "------------------- Processing round 43\n",
      "las decisiones son: {'subject1': 0, 'subject10': 1, 'subject100': 1, 'subject102': 1, 'subject103': 0, 'subject105': 1, 'subject107': 1, 'subject120': 1, 'subject206': 1, 'subject210': 1}\n",
      "Subtask task2a: - run 0\n",
      "las decisiones son: {'subject1': 0.13049750143124303, 'subject10': 0.9835408608682419, 'subject100': 0.8738327565421639, 'subject102': 0.961294681717862, 'subject103': 0.29142054250077165, 'subject105': 0.8434463441819119, 'subject107': 0.5148613540806689, 'subject120': 0.508716474379422, 'subject206': 0.8163904324728671, 'subject210': 0.8969054627560974}\n",
      "Subtask task2b: - run 0\n"
     ]
    },
    {
     "name": "stderr",
     "output_type": "stream",
     "text": [
      "[codecarbon WARNING @ 10:06:21] Already started tracking\n",
      "[codecarbon INFO @ 10:06:21] Energy consumed for RAM : 0.000001 kWh. RAM Power : 0.20509815216064453 W\n",
      "[codecarbon DEBUG @ 10:06:21] RAM : 0.21 W during 0.56 s [measurement time: 0.0070]\n",
      "[codecarbon INFO @ 10:06:21] Energy consumed for all GPUs : 0.000008 kWh. All GPUs Power : 1.0040000000000002 W\n",
      "[codecarbon DEBUG @ 10:06:21] GPU : 1.03 W during 0.58 s [measurement time: 0.0070]\n",
      "[codecarbon INFO @ 10:06:21] Energy consumed for all CPUs : 0.000209 kWh. All CPUs Power : 27.0 W\n",
      "[codecarbon DEBUG @ 10:06:21] CPU : 27.00 W during 0.59 s [measurement time: 0.0000]\n",
      "[codecarbon INFO @ 10:06:21] 0.000219 kWh of electricity used since the begining.\n",
      "[codecarbon DEBUG @ 10:06:21] last_duration=0.5901203155517578\n",
      "------------------------\n",
      "[codecarbon DEBUG @ 10:06:21] We apply an energy mix of 363 g.CO2eq/kWh for Chile\n",
      "[codecarbon DEBUG @ 10:06:21] EmissionsData(timestamp='2023-04-25T10:06:21', project_name='codecarbon', run_id='cbcdde9b-da5f-4b0a-8c6b-7636ca066156', duration=28.026127815246582, emissions=7.933118132908051e-05, emissions_rate=0.0028306151264293924, cpu_power=27.0, gpu_power=1.0040000000000002, ram_power=0.20509815216064453, cpu_energy=0.00020945402920246117, gpu_energy=7.65745282067193e-06, ram_energy=1.3930730805749173e-06, energy_consumed=0.00021850455510370802, country_name='Chile', country_iso_code='CHL', region='santiago metropolitan', cloud_provider='', cloud_region='', os='Windows-10-10.0.19045-SP0', python_version='3.10.10', cpu_count=12, cpu_model='AMD Ryzen 5 4600H with Radeon Graphics', gpu_count=1, gpu_model='1 x NVIDIA GeForce GTX 1650', longitude=-70.5937, latitude=-33.4653, ram_total_size=15.372379302978516, tracking_mode='process', on_cloud='N')\n"
     ]
    },
    {
     "name": "stdout",
     "output_type": "stream",
     "text": [
      "------------------- Processing round 44\n",
      "las decisiones son: {'subject1': 0, 'subject10': 1, 'subject100': 1, 'subject102': 1, 'subject103': 0, 'subject105': 1, 'subject107': 1, 'subject120': 1, 'subject206': 1, 'subject210': 1}\n",
      "Subtask task2a: - run 0\n",
      "las decisiones son: {'subject1': 0.13049750143124303, 'subject10': 0.9835408608682419, 'subject100': 0.8738327565421639, 'subject102': 0.9641700451211044, 'subject103': 0.30036957681496507, 'subject105': 0.8452151211385506, 'subject107': 0.5236621760453635, 'subject120': 0.508716474379422, 'subject206': 0.7981352036088074, 'subject210': 0.8969054627560974}\n",
      "Subtask task2b: - run 0\n"
     ]
    },
    {
     "name": "stderr",
     "output_type": "stream",
     "text": [
      "[codecarbon WARNING @ 10:06:21] Already started tracking\n",
      "[codecarbon INFO @ 10:06:21] Energy consumed for RAM : 0.000001 kWh. RAM Power : 0.20456743240356445 W\n",
      "[codecarbon DEBUG @ 10:06:21] RAM : 0.20 W during 0.58 s [measurement time: 0.0080]\n",
      "[codecarbon INFO @ 10:06:21] Energy consumed for all GPUs : 0.000008 kWh. All GPUs Power : 1.0130000000000001 W\n",
      "[codecarbon DEBUG @ 10:06:21] GPU : 1.01 W during 0.59 s [measurement time: 0.0070]\n",
      "[codecarbon INFO @ 10:06:21] Energy consumed for all CPUs : 0.000214 kWh. All CPUs Power : 27.0 W\n",
      "[codecarbon DEBUG @ 10:06:21] CPU : 27.00 W during 0.60 s [measurement time: 0.0010]\n",
      "[codecarbon INFO @ 10:06:21] 0.000223 kWh of electricity used since the begining.\n",
      "[codecarbon DEBUG @ 10:06:21] last_duration=0.6028330326080322\n",
      "------------------------\n",
      "[codecarbon DEBUG @ 10:06:21] We apply an energy mix of 363 g.CO2eq/kWh for Chile\n",
      "[codecarbon DEBUG @ 10:06:21] EmissionsData(timestamp='2023-04-25T10:06:21', project_name='codecarbon', run_id='cbcdde9b-da5f-4b0a-8c6b-7636ca066156', duration=28.63195490837097, emissions=8.104492501451073e-05, emissions_rate=0.0028305760215770687, cpu_power=27.0, gpu_power=1.0130000000000001, ram_power=0.20456743240356445, cpu_energy=0.00021397527694702142, gpu_energy=7.82370590964953e-06, ram_energy=1.4257944254183978e-06, energy_consumed=0.00022322477728208936, country_name='Chile', country_iso_code='CHL', region='santiago metropolitan', cloud_provider='', cloud_region='', os='Windows-10-10.0.19045-SP0', python_version='3.10.10', cpu_count=12, cpu_model='AMD Ryzen 5 4600H with Radeon Graphics', gpu_count=1, gpu_model='1 x NVIDIA GeForce GTX 1650', longitude=-70.5937, latitude=-33.4653, ram_total_size=15.372379302978516, tracking_mode='process', on_cloud='N')\n"
     ]
    },
    {
     "name": "stdout",
     "output_type": "stream",
     "text": [
      "------------------- Processing round 45\n",
      "las decisiones son: {'subject1': 0, 'subject10': 1, 'subject100': 1, 'subject102': 1, 'subject103': 0, 'subject105': 1, 'subject107': 1, 'subject120': 1, 'subject206': 1, 'subject210': 1}\n",
      "Subtask task2a: - run 0\n",
      "las decisiones son: {'subject1': 0.13049750143124303, 'subject10': 0.9835408608682419, 'subject100': 0.8738327565421639, 'subject102': 0.959345995467488, 'subject103': 0.28197779854463395, 'subject105': 0.8339765176194235, 'subject107': 0.5188499098369785, 'subject120': 0.508716474379422, 'subject206': 0.8240998877971388, 'subject210': 0.8969054627560974}\n",
      "Subtask task2b: - run 0\n"
     ]
    },
    {
     "name": "stderr",
     "output_type": "stream",
     "text": [
      "[codecarbon WARNING @ 10:06:22] Already started tracking\n",
      "[codecarbon INFO @ 10:06:22] Energy consumed for RAM : 0.000001 kWh. RAM Power : 0.21720314025878906 W\n",
      "[codecarbon DEBUG @ 10:06:22] RAM : 0.22 W during 0.57 s [measurement time: 0.0080]\n",
      "[codecarbon INFO @ 10:06:22] Energy consumed for all GPUs : 0.000008 kWh. All GPUs Power : 1.0170000000000001 W\n",
      "[codecarbon DEBUG @ 10:06:22] GPU : 1.02 W during 0.59 s [measurement time: 0.0060]\n",
      "[codecarbon INFO @ 10:06:22] Energy consumed for all CPUs : 0.000218 kWh. All CPUs Power : 27.0 W\n",
      "[codecarbon DEBUG @ 10:06:22] CPU : 27.00 W during 0.60 s [measurement time: 0.0010]\n",
      "[codecarbon INFO @ 10:06:22] 0.000228 kWh of electricity used since the begining.\n",
      "[codecarbon DEBUG @ 10:06:22] last_duration=0.6021180152893066\n",
      "------------------------\n",
      "[codecarbon DEBUG @ 10:06:22] We apply an energy mix of 363 g.CO2eq/kWh for Chile\n",
      "[codecarbon DEBUG @ 10:06:22] EmissionsData(timestamp='2023-04-25T10:06:22', project_name='codecarbon', run_id='cbcdde9b-da5f-4b0a-8c6b-7636ca066156', duration=29.2360680103302, emissions=8.275758151332468e-05, emissions_rate=0.0028306672937032204, cpu_power=27.0, gpu_power=1.0170000000000001, ram_power=0.21720314025878906, cpu_energy=0.00021849116206169123, gpu_energy=7.9904101840655e-06, ram_energy=1.4604327398564957e-06, energy_consumed=0.00022794200498561326, country_name='Chile', country_iso_code='CHL', region='santiago metropolitan', cloud_provider='', cloud_region='', os='Windows-10-10.0.19045-SP0', python_version='3.10.10', cpu_count=12, cpu_model='AMD Ryzen 5 4600H with Radeon Graphics', gpu_count=1, gpu_model='1 x NVIDIA GeForce GTX 1650', longitude=-70.5937, latitude=-33.4653, ram_total_size=15.372379302978516, tracking_mode='process', on_cloud='N')\n"
     ]
    },
    {
     "name": "stdout",
     "output_type": "stream",
     "text": [
      "------------------- Processing round 46\n",
      "las decisiones son: {'subject1': 0, 'subject10': 1, 'subject100': 1, 'subject102': 1, 'subject103': 0, 'subject105': 1, 'subject107': 1, 'subject120': 1, 'subject206': 1, 'subject210': 1}\n",
      "Subtask task2a: - run 0\n",
      "las decisiones son: {'subject1': 0.13049750143124303, 'subject10': 0.9835408608682419, 'subject100': 0.8738327565421639, 'subject102': 0.9439396418479336, 'subject103': 0.28784356153577606, 'subject105': 0.8268634137920376, 'subject107': 0.5308139691713606, 'subject120': 0.508716474379422, 'subject206': 0.8635103134840154, 'subject210': 0.8969054627560974}\n",
      "Subtask task2b: - run 0\n"
     ]
    },
    {
     "name": "stderr",
     "output_type": "stream",
     "text": [
      "[codecarbon WARNING @ 10:06:22] Already started tracking\n",
      "[codecarbon INFO @ 10:06:22] Energy consumed for RAM : 0.000001 kWh. RAM Power : 0.22924089431762695 W\n",
      "[codecarbon DEBUG @ 10:06:22] RAM : 0.23 W during 0.57 s [measurement time: 0.0080]\n",
      "[codecarbon INFO @ 10:06:22] Energy consumed for all GPUs : 0.000008 kWh. All GPUs Power : 1.0210000000000001 W\n",
      "[codecarbon DEBUG @ 10:06:22] GPU : 1.02 W during 0.58 s [measurement time: 0.0080]\n",
      "[codecarbon INFO @ 10:06:22] Energy consumed for all CPUs : 0.000223 kWh. All CPUs Power : 27.0 W\n",
      "[codecarbon DEBUG @ 10:06:22] CPU : 27.00 W during 0.60 s [measurement time: 0.0000]\n",
      "[codecarbon INFO @ 10:06:22] 0.000233 kWh of electricity used since the begining.\n",
      "[codecarbon DEBUG @ 10:06:22] last_duration=0.5963695049285889\n",
      "------------------------\n",
      "[codecarbon DEBUG @ 10:06:22] We apply an energy mix of 363 g.CO2eq/kWh for Chile\n",
      "[codecarbon DEBUG @ 10:06:22] EmissionsData(timestamp='2023-04-25T10:06:22', project_name='codecarbon', run_id='cbcdde9b-da5f-4b0a-8c6b-7636ca066156', duration=29.834434986114502, emissions=8.445469307125202e-05, emissions_rate=0.002830779034714711, cpu_power=27.0, gpu_power=1.0210000000000001, ram_power=0.22924089431762695, cpu_energy=0.00022296393334865565, gpu_energy=8.155858428610695e-06, ram_energy=1.4966249555767301e-06, energy_consumed=0.00023261641673284308, country_name='Chile', country_iso_code='CHL', region='santiago metropolitan', cloud_provider='', cloud_region='', os='Windows-10-10.0.19045-SP0', python_version='3.10.10', cpu_count=12, cpu_model='AMD Ryzen 5 4600H with Radeon Graphics', gpu_count=1, gpu_model='1 x NVIDIA GeForce GTX 1650', longitude=-70.5937, latitude=-33.4653, ram_total_size=15.372379302978516, tracking_mode='process', on_cloud='N')\n"
     ]
    },
    {
     "name": "stdout",
     "output_type": "stream",
     "text": [
      "------------------- Processing round 47\n",
      "las decisiones son: {'subject1': 0, 'subject10': 1, 'subject100': 1, 'subject102': 1, 'subject103': 0, 'subject105': 1, 'subject107': 1, 'subject120': 1, 'subject206': 1, 'subject210': 1}\n",
      "Subtask task2a: - run 0\n",
      "las decisiones son: {'subject1': 0.13049750143124303, 'subject10': 0.9835408608682419, 'subject100': 0.8738327565421639, 'subject102': 0.9467451599752628, 'subject103': 0.33966802289441655, 'subject105': 0.8125525780414077, 'subject107': 0.548843503896086, 'subject120': 0.508716474379422, 'subject206': 0.8659293342401584, 'subject210': 0.8969054627560974}\n",
      "Subtask task2b: - run 0\n"
     ]
    },
    {
     "name": "stderr",
     "output_type": "stream",
     "text": [
      "[codecarbon WARNING @ 10:06:23] Already started tracking\n",
      "[codecarbon INFO @ 10:06:23] Energy consumed for RAM : 0.000002 kWh. RAM Power : 0.22972869873046875 W\n",
      "[codecarbon DEBUG @ 10:06:23] RAM : 0.23 W during 0.58 s [measurement time: 0.0070]\n",
      "[codecarbon INFO @ 10:06:23] Energy consumed for all GPUs : 0.000008 kWh. All GPUs Power : 1.031 W\n",
      "[codecarbon DEBUG @ 10:06:23] GPU : 1.03 W during 0.60 s [measurement time: 0.0100]\n",
      "[codecarbon INFO @ 10:06:23] Energy consumed for all CPUs : 0.000228 kWh. All CPUs Power : 27.0 W\n",
      "[codecarbon DEBUG @ 10:06:23] CPU : 27.00 W during 0.61 s [measurement time: 0.0010]\n",
      "[codecarbon INFO @ 10:06:23] 0.000237 kWh of electricity used since the begining.\n",
      "[codecarbon DEBUG @ 10:06:23] last_duration=0.6139683723449707\n",
      "------------------------\n",
      "[codecarbon DEBUG @ 10:06:23] We apply an energy mix of 363 g.CO2eq/kWh for Chile\n",
      "[codecarbon DEBUG @ 10:06:23] EmissionsData(timestamp='2023-04-25T10:06:23', project_name='codecarbon', run_id='cbcdde9b-da5f-4b0a-8c6b-7636ca066156', duration=30.450390338897705, emissions=8.620234887849405e-05, emissions_rate=0.002830911128530858, cpu_power=27.0, gpu_power=1.031, ram_power=0.22972869873046875, cpu_energy=0.00022756869614124292, gpu_energy=8.327395534118016e-06, ram_energy=1.5339525396163367e-06, energy_consumed=0.00023743004421497728, country_name='Chile', country_iso_code='CHL', region='santiago metropolitan', cloud_provider='', cloud_region='', os='Windows-10-10.0.19045-SP0', python_version='3.10.10', cpu_count=12, cpu_model='AMD Ryzen 5 4600H with Radeon Graphics', gpu_count=1, gpu_model='1 x NVIDIA GeForce GTX 1650', longitude=-70.5937, latitude=-33.4653, ram_total_size=15.372379302978516, tracking_mode='process', on_cloud='N')\n"
     ]
    },
    {
     "name": "stdout",
     "output_type": "stream",
     "text": [
      "------------------- Processing round 48\n",
      "las decisiones son: {'subject1': 0, 'subject10': 1, 'subject100': 1, 'subject102': 1, 'subject103': 0, 'subject105': 1, 'subject107': 1, 'subject120': 1, 'subject206': 1, 'subject210': 1}\n",
      "Subtask task2a: - run 0\n",
      "las decisiones son: {'subject1': 0.13049750143124303, 'subject10': 0.9835408608682419, 'subject100': 0.8738327565421639, 'subject102': 0.9263642826557826, 'subject103': 0.24771009567423033, 'subject105': 0.7969057632493418, 'subject107': 0.5262700776771024, 'subject120': 0.508716474379422, 'subject206': 0.8662347338132097, 'subject210': 0.8969054627560974}\n",
      "Subtask task2b: - run 0\n"
     ]
    },
    {
     "name": "stderr",
     "output_type": "stream",
     "text": [
      "[codecarbon WARNING @ 10:06:24] Already started tracking\n",
      "[codecarbon INFO @ 10:06:24] Energy consumed for RAM : 0.000002 kWh. RAM Power : 0.24223136901855472 W\n",
      "[codecarbon DEBUG @ 10:06:24] RAM : 0.24 W during 0.59 s [measurement time: 0.0070]\n",
      "[codecarbon INFO @ 10:06:24] Energy consumed for all GPUs : 0.000008 kWh. All GPUs Power : 1.0210000000000001 W\n",
      "[codecarbon DEBUG @ 10:06:24] GPU : 1.02 W during 0.60 s [measurement time: 0.0070]\n",
      "[codecarbon INFO @ 10:06:24] Energy consumed for all CPUs : 0.000232 kWh. All CPUs Power : 27.0 W\n",
      "[codecarbon DEBUG @ 10:06:24] CPU : 27.00 W during 0.61 s [measurement time: 0.0010]\n",
      "[codecarbon INFO @ 10:06:24] 0.000242 kWh of electricity used since the begining.\n",
      "[codecarbon DEBUG @ 10:06:24] last_duration=0.6134731769561768\n",
      "------------------------\n",
      "[codecarbon DEBUG @ 10:06:24] We apply an energy mix of 363 g.CO2eq/kWh for Chile\n",
      "[codecarbon DEBUG @ 10:06:24] EmissionsData(timestamp='2023-04-25T10:06:24', project_name='codecarbon', run_id='cbcdde9b-da5f-4b0a-8c6b-7636ca066156', duration=31.067867279052734, emissions=8.794910919552661e-05, emissions_rate=0.002830870506995683, cpu_power=27.0, gpu_power=1.0210000000000001, ram_power=0.24223136901855472, cpu_energy=0.00023216974496841425, gpu_energy=8.497979039682282e-06, ram_energy=1.5734812100524208e-06, energy_consumed=0.00024224120521814895, country_name='Chile', country_iso_code='CHL', region='santiago metropolitan', cloud_provider='', cloud_region='', os='Windows-10-10.0.19045-SP0', python_version='3.10.10', cpu_count=12, cpu_model='AMD Ryzen 5 4600H with Radeon Graphics', gpu_count=1, gpu_model='1 x NVIDIA GeForce GTX 1650', longitude=-70.5937, latitude=-33.4653, ram_total_size=15.372379302978516, tracking_mode='process', on_cloud='N')\n"
     ]
    },
    {
     "name": "stdout",
     "output_type": "stream",
     "text": [
      "------------------- Processing round 49\n",
      "las decisiones son: {'subject1': 0, 'subject10': 1, 'subject100': 1, 'subject102': 1, 'subject103': 0, 'subject105': 1, 'subject107': 1, 'subject120': 1, 'subject206': 1, 'subject210': 1}\n",
      "Subtask task2a: - run 0\n",
      "las decisiones son: {'subject1': 0.13049750143124303, 'subject10': 0.9835408608682419, 'subject100': 0.8738327565421639, 'subject102': 0.8992402792371673, 'subject103': 0.24593945437756679, 'subject105': 0.731459983682559, 'subject107': 0.525847030886011, 'subject120': 0.508716474379422, 'subject206': 0.8421636109847395, 'subject210': 0.8969054627560974}\n",
      "Subtask task2b: - run 0\n"
     ]
    },
    {
     "name": "stderr",
     "output_type": "stream",
     "text": [
      "[codecarbon WARNING @ 10:06:24] Already started tracking\n",
      "[codecarbon INFO @ 10:06:24] Energy consumed for RAM : 0.000002 kWh. RAM Power : 0.25488996505737305 W\n",
      "[codecarbon DEBUG @ 10:06:24] RAM : 0.25 W during 0.59 s [measurement time: 0.0080]\n",
      "[codecarbon INFO @ 10:06:24] Energy consumed for all GPUs : 0.000009 kWh. All GPUs Power : 1.016 W\n",
      "[codecarbon DEBUG @ 10:06:24] GPU : 1.02 W during 0.60 s [measurement time: 0.0070]\n",
      "[codecarbon INFO @ 10:06:24] Energy consumed for all CPUs : 0.000237 kWh. All CPUs Power : 27.0 W\n",
      "[codecarbon DEBUG @ 10:06:24] CPU : 27.00 W during 0.61 s [measurement time: 0.0010]\n",
      "[codecarbon INFO @ 10:06:24] 0.000247 kWh of electricity used since the begining.\n",
      "[codecarbon DEBUG @ 10:06:24] last_duration=0.6145572662353516\n",
      "------------------------\n",
      "[codecarbon DEBUG @ 10:06:24] We apply an energy mix of 363 g.CO2eq/kWh for Chile\n",
      "[codecarbon DEBUG @ 10:06:24] EmissionsData(timestamp='2023-04-25T10:06:24', project_name='codecarbon', run_id='cbcdde9b-da5f-4b0a-8c6b-7636ca066156', duration=31.68542766571045, emissions=8.969925308499712e-05, emissions_rate=0.0028309307998411037, cpu_power=27.0, gpu_power=1.016, ram_power=0.25488996505737305, cpu_energy=0.0002367789244651794, gpu_energy=8.66775065375699e-06, ram_energy=1.6150105903563864e-06, energy_consumed=0.00024706168570929276, country_name='Chile', country_iso_code='CHL', region='santiago metropolitan', cloud_provider='', cloud_region='', os='Windows-10-10.0.19045-SP0', python_version='3.10.10', cpu_count=12, cpu_model='AMD Ryzen 5 4600H with Radeon Graphics', gpu_count=1, gpu_model='1 x NVIDIA GeForce GTX 1650', longitude=-70.5937, latitude=-33.4653, ram_total_size=15.372379302978516, tracking_mode='process', on_cloud='N')\n"
     ]
    },
    {
     "name": "stdout",
     "output_type": "stream",
     "text": [
      "------------------- Processing round 50\n",
      "las decisiones son: {'subject1': 0, 'subject10': 1, 'subject100': 1, 'subject102': 1, 'subject103': 0, 'subject105': 1, 'subject107': 0, 'subject120': 1, 'subject206': 1, 'subject210': 1}\n",
      "Subtask task2a: - run 0\n",
      "las decisiones son: {'subject1': 0.13049750143124303, 'subject10': 0.9835408608682419, 'subject100': 0.8738327565421639, 'subject102': 0.9000459031117142, 'subject103': 0.3004018198335437, 'subject105': 0.7211246948038602, 'subject107': 0.48409642648647194, 'subject120': 0.508716474379422, 'subject206': 0.8386996444711123, 'subject210': 0.8969054627560974}\n",
      "Subtask task2b: - run 0\n"
     ]
    },
    {
     "name": "stderr",
     "output_type": "stream",
     "text": [
      "[codecarbon WARNING @ 10:06:25] Already started tracking\n",
      "[codecarbon INFO @ 10:06:25] Energy consumed for RAM : 0.000002 kWh. RAM Power : 0.2553377151489258 W\n",
      "[codecarbon DEBUG @ 10:06:25] RAM : 0.26 W during 0.60 s [measurement time: 0.0070]\n",
      "[codecarbon INFO @ 10:06:25] Energy consumed for all GPUs : 0.000009 kWh. All GPUs Power : 1.0130000000000001 W\n",
      "[codecarbon DEBUG @ 10:06:25] GPU : 1.01 W during 0.61 s [measurement time: 0.0070]\n",
      "[codecarbon INFO @ 10:06:25] Energy consumed for all CPUs : 0.000241 kWh. All CPUs Power : 27.0 W\n",
      "[codecarbon DEBUG @ 10:06:25] CPU : 27.00 W during 0.62 s [measurement time: 0.0010]\n",
      "[codecarbon INFO @ 10:06:25] 0.000252 kWh of electricity used since the begining.\n",
      "[codecarbon DEBUG @ 10:06:25] last_duration=0.6231634616851807\n",
      "------------------------\n",
      "[codecarbon DEBUG @ 10:06:25] We apply an energy mix of 363 g.CO2eq/kWh for Chile\n",
      "[codecarbon DEBUG @ 10:06:25] EmissionsData(timestamp='2023-04-25T10:06:25', project_name='codecarbon', run_id='cbcdde9b-da5f-4b0a-8c6b-7636ca066156', duration=32.310590744018555, emissions=9.147393274014079e-05, emissions_rate=0.0028310820270927655, cpu_power=27.0, gpu_power=1.0130000000000001, ram_power=0.2553377151489258, cpu_energy=0.00024145265042781826, gpu_energy=8.839728726148606e-06, ram_energy=1.65736673547381e-06, energy_consumed=0.00025194974588944066, country_name='Chile', country_iso_code='CHL', region='santiago metropolitan', cloud_provider='', cloud_region='', os='Windows-10-10.0.19045-SP0', python_version='3.10.10', cpu_count=12, cpu_model='AMD Ryzen 5 4600H with Radeon Graphics', gpu_count=1, gpu_model='1 x NVIDIA GeForce GTX 1650', longitude=-70.5937, latitude=-33.4653, ram_total_size=15.372379302978516, tracking_mode='process', on_cloud='N')\n"
     ]
    },
    {
     "name": "stdout",
     "output_type": "stream",
     "text": [
      "------------------- Processing round 51\n",
      "las decisiones son: {'subject1': 0, 'subject10': 1, 'subject100': 1, 'subject102': 1, 'subject103': 0, 'subject105': 1, 'subject107': 0, 'subject120': 1, 'subject206': 1, 'subject210': 1}\n",
      "Subtask task2a: - run 0\n",
      "las decisiones son: {'subject1': 0.13049750143124303, 'subject10': 0.9835408608682419, 'subject100': 0.8738327565421639, 'subject102': 0.8775407969096094, 'subject103': 0.30232961790076274, 'subject105': 0.7258646216633854, 'subject107': 0.4763280858392331, 'subject120': 0.508716474379422, 'subject206': 0.8434603763983254, 'subject210': 0.8969054627560974}\n",
      "Subtask task2b: - run 0\n"
     ]
    },
    {
     "name": "stderr",
     "output_type": "stream",
     "text": [
      "[codecarbon WARNING @ 10:06:25] Already started tracking\n",
      "[codecarbon INFO @ 10:06:25] Energy consumed for RAM : 0.000002 kWh. RAM Power : 0.2672910690307618 W\n",
      "[codecarbon DEBUG @ 10:06:25] RAM : 0.27 W during 0.58 s [measurement time: 0.0070]\n",
      "[codecarbon INFO @ 10:06:25] Energy consumed for all GPUs : 0.000009 kWh. All GPUs Power : 1.022 W\n",
      "[codecarbon DEBUG @ 10:06:25] GPU : 1.02 W during 0.59 s [measurement time: 0.0070]\n",
      "[codecarbon INFO @ 10:06:25] Energy consumed for all CPUs : 0.000246 kWh. All CPUs Power : 27.0 W\n",
      "[codecarbon DEBUG @ 10:06:25] CPU : 27.00 W during 0.61 s [measurement time: 0.0000]\n",
      "[codecarbon INFO @ 10:06:25] 0.000257 kWh of electricity used since the begining.\n",
      "[codecarbon DEBUG @ 10:06:25] last_duration=0.6063604354858398\n",
      "------------------------\n",
      "[codecarbon DEBUG @ 10:06:25] We apply an energy mix of 363 g.CO2eq/kWh for Chile\n",
      "[codecarbon DEBUG @ 10:06:25] EmissionsData(timestamp='2023-04-25T10:06:25', project_name='codecarbon', run_id='cbcdde9b-da5f-4b0a-8c6b-7636ca066156', duration=32.91994643211365, emissions=9.320181721719763e-05, emissions_rate=0.0028311655187348234, cpu_power=27.0, gpu_power=1.022, ram_power=0.2672910690307618, cpu_energy=0.00024600035369396205, gpu_energy=9.008180338806577e-06, ram_energy=1.700382495563133e-06, energy_consumed=0.00025670891652833177, country_name='Chile', country_iso_code='CHL', region='santiago metropolitan', cloud_provider='', cloud_region='', os='Windows-10-10.0.19045-SP0', python_version='3.10.10', cpu_count=12, cpu_model='AMD Ryzen 5 4600H with Radeon Graphics', gpu_count=1, gpu_model='1 x NVIDIA GeForce GTX 1650', longitude=-70.5937, latitude=-33.4653, ram_total_size=15.372379302978516, tracking_mode='process', on_cloud='N')\n"
     ]
    },
    {
     "name": "stdout",
     "output_type": "stream",
     "text": [
      "------------------- Processing round 52\n",
      "las decisiones son: {'subject1': 0, 'subject10': 1, 'subject100': 1, 'subject102': 1, 'subject103': 0, 'subject105': 1, 'subject107': 0, 'subject120': 1, 'subject206': 1, 'subject210': 1}\n",
      "Subtask task2a: - run 0\n",
      "las decisiones son: {'subject1': 0.13049750143124303, 'subject10': 0.9835408608682419, 'subject100': 0.8738327565421639, 'subject102': 0.8324732576772327, 'subject103': 0.305376623945626, 'subject105': 0.7131933447176442, 'subject107': 0.4838259274565485, 'subject120': 0.508716474379422, 'subject206': 0.7826101488953053, 'subject210': 0.8969054627560974}\n",
      "Subtask task2b: - run 0\n"
     ]
    },
    {
     "name": "stderr",
     "output_type": "stream",
     "text": [
      "[codecarbon WARNING @ 10:06:26] Already started tracking\n",
      "[codecarbon INFO @ 10:06:26] Energy consumed for RAM : 0.000002 kWh. RAM Power : 0.2801170349121094 W\n",
      "[codecarbon DEBUG @ 10:06:26] RAM : 0.28 W during 0.57 s [measurement time: 0.0070]\n",
      "[codecarbon INFO @ 10:06:26] Energy consumed for all GPUs : 0.000009 kWh. All GPUs Power : 1.0230000000000004 W\n",
      "[codecarbon DEBUG @ 10:06:26] GPU : 1.02 W during 0.58 s [measurement time: 0.0070]\n",
      "[codecarbon INFO @ 10:06:26] Energy consumed for all CPUs : 0.000250 kWh. All CPUs Power : 27.0 W\n",
      "[codecarbon DEBUG @ 10:06:26] CPU : 27.00 W during 0.59 s [measurement time: 0.0020]\n",
      "[codecarbon INFO @ 10:06:26] 0.000261 kWh of electricity used since the begining.\n",
      "[codecarbon DEBUG @ 10:06:26] last_duration=0.5949602127075195\n",
      "------------------------\n",
      "[codecarbon DEBUG @ 10:06:26] We apply an energy mix of 363 g.CO2eq/kWh for Chile\n",
      "[codecarbon DEBUG @ 10:06:26] EmissionsData(timestamp='2023-04-25T10:06:26', project_name='codecarbon', run_id='cbcdde9b-da5f-4b0a-8c6b-7636ca066156', duration=33.517906188964844, emissions=9.489807064853781e-05, emissions_rate=0.0028312648801368523, cpu_power=27.0, gpu_power=1.0230000000000004, ram_power=0.2801170349121094, cpu_energy=0.00025046255528926847, gpu_energy=9.173835126625169e-06, ram_energy=1.7445742925937679e-06, energy_consumed=0.0002613809647084874, country_name='Chile', country_iso_code='CHL', region='santiago metropolitan', cloud_provider='', cloud_region='', os='Windows-10-10.0.19045-SP0', python_version='3.10.10', cpu_count=12, cpu_model='AMD Ryzen 5 4600H with Radeon Graphics', gpu_count=1, gpu_model='1 x NVIDIA GeForce GTX 1650', longitude=-70.5937, latitude=-33.4653, ram_total_size=15.372379302978516, tracking_mode='process', on_cloud='N')\n"
     ]
    },
    {
     "name": "stdout",
     "output_type": "stream",
     "text": [
      "------------------- Processing round 53\n",
      "las decisiones son: {'subject1': 0, 'subject10': 1, 'subject100': 1, 'subject102': 1, 'subject103': 0, 'subject105': 1, 'subject107': 0, 'subject120': 1, 'subject206': 1, 'subject210': 1}\n",
      "Subtask task2a: - run 0\n",
      "las decisiones son: {'subject1': 0.13049750143124303, 'subject10': 0.9835408608682419, 'subject100': 0.8738327565421639, 'subject102': 0.8366970229599014, 'subject103': 0.310565183272601, 'subject105': 0.7415602340472772, 'subject107': 0.3917485587412811, 'subject120': 0.508716474379422, 'subject206': 0.8309028382804103, 'subject210': 0.8969054627560974}\n",
      "Subtask task2b: - run 0\n"
     ]
    },
    {
     "name": "stderr",
     "output_type": "stream",
     "text": [
      "[codecarbon WARNING @ 10:06:27] Already started tracking\n",
      "[codecarbon INFO @ 10:06:27] Energy consumed for RAM : 0.000002 kWh. RAM Power : 0.15694713592529297 W\n",
      "[codecarbon DEBUG @ 10:06:27] RAM : 0.16 W during 0.78 s [measurement time: 0.0070]\n",
      "[codecarbon INFO @ 10:06:27] Energy consumed for all GPUs : 0.000009 kWh. All GPUs Power : 1.024 W\n",
      "[codecarbon DEBUG @ 10:06:27] GPU : 1.02 W during 0.80 s [measurement time: 0.0080]\n",
      "[codecarbon INFO @ 10:06:27] Energy consumed for all CPUs : 0.000257 kWh. All CPUs Power : 27.0 W\n",
      "[codecarbon DEBUG @ 10:06:27] CPU : 27.00 W during 0.81 s [measurement time: 0.0000]\n",
      "[codecarbon INFO @ 10:06:27] 0.000268 kWh of electricity used since the begining.\n",
      "[codecarbon DEBUG @ 10:06:27] last_duration=0.8093898296356201\n",
      "------------------------\n",
      "[codecarbon DEBUG @ 10:06:27] We apply an energy mix of 363 g.CO2eq/kWh for Chile\n",
      "[codecarbon DEBUG @ 10:06:27] EmissionsData(timestamp='2023-04-25T10:06:27', project_name='codecarbon', run_id='cbcdde9b-da5f-4b0a-8c6b-7636ca066156', duration=34.329285860061646, emissions=9.719653288200783e-05, emissions_rate=0.0028313007523143767, cpu_power=27.0, gpu_power=1.024, ram_power=0.15694713592529297, cpu_energy=0.0002565329790115356, gpu_energy=9.400078277124301e-06, ram_energy=1.7786396657488504e-06, energy_consumed=0.0002677116969544087, country_name='Chile', country_iso_code='CHL', region='santiago metropolitan', cloud_provider='', cloud_region='', os='Windows-10-10.0.19045-SP0', python_version='3.10.10', cpu_count=12, cpu_model='AMD Ryzen 5 4600H with Radeon Graphics', gpu_count=1, gpu_model='1 x NVIDIA GeForce GTX 1650', longitude=-70.5937, latitude=-33.4653, ram_total_size=15.372379302978516, tracking_mode='process', on_cloud='N')\n"
     ]
    },
    {
     "name": "stdout",
     "output_type": "stream",
     "text": [
      "------------------- Processing round 54\n",
      "las decisiones son: {'subject1': 0, 'subject10': 1, 'subject100': 1, 'subject102': 1, 'subject103': 0, 'subject105': 1, 'subject107': 0, 'subject120': 1, 'subject206': 1, 'subject210': 1}\n",
      "Subtask task2a: - run 0\n",
      "las decisiones son: {'subject1': 0.13049750143124303, 'subject10': 0.9835408608682419, 'subject100': 0.8738327565421639, 'subject102': 0.8648677454454269, 'subject103': 0.3213007336745743, 'subject105': 0.741914027309521, 'subject107': 0.36246431821682784, 'subject120': 0.508716474379422, 'subject206': 0.8498459977056775, 'subject210': 0.8969054627560974}\n",
      "Subtask task2b: - run 0\n"
     ]
    },
    {
     "name": "stderr",
     "output_type": "stream",
     "text": [
      "[codecarbon WARNING @ 10:06:27] Already started tracking\n",
      "[codecarbon INFO @ 10:06:27] Energy consumed for RAM : 0.000002 kWh. RAM Power : 0.16317129135131836 W\n",
      "[codecarbon DEBUG @ 10:06:27] RAM : 0.16 W during 0.60 s [measurement time: 0.0080]\n",
      "[codecarbon INFO @ 10:06:27] Energy consumed for all GPUs : 0.000010 kWh. All GPUs Power : 1.0030000000000001 W\n",
      "[codecarbon DEBUG @ 10:06:27] GPU : 1.00 W during 0.61 s [measurement time: 0.0082]\n",
      "[codecarbon INFO @ 10:06:27] Energy consumed for all CPUs : 0.000261 kWh. All CPUs Power : 27.0 W\n",
      "[codecarbon DEBUG @ 10:06:27] CPU : 27.00 W during 0.63 s [measurement time: 0.0000]\n",
      "[codecarbon INFO @ 10:06:27] 0.000273 kWh of electricity used since the begining.\n",
      "[codecarbon DEBUG @ 10:06:27] last_duration=0.6256203651428223\n",
      "------------------------\n",
      "[codecarbon DEBUG @ 10:06:27] We apply an energy mix of 363 g.CO2eq/kWh for Chile\n",
      "[codecarbon DEBUG @ 10:06:27] EmissionsData(timestamp='2023-04-25T10:06:27', project_name='codecarbon', run_id='cbcdde9b-da5f-4b0a-8c6b-7636ca066156', duration=34.954915285110474, emissions=9.897172713991468e-05, emissions_rate=0.0028314108711936445, cpu_power=27.0, gpu_power=1.0030000000000001, ram_power=0.16317129135131836, cpu_energy=0.0002612251317501068, gpu_energy=9.570416761835418e-06, ram_energy=1.8056260104050162e-06, energy_consumed=0.0002726011745223471, country_name='Chile', country_iso_code='CHL', region='santiago metropolitan', cloud_provider='', cloud_region='', os='Windows-10-10.0.19045-SP0', python_version='3.10.10', cpu_count=12, cpu_model='AMD Ryzen 5 4600H with Radeon Graphics', gpu_count=1, gpu_model='1 x NVIDIA GeForce GTX 1650', longitude=-70.5937, latitude=-33.4653, ram_total_size=15.372379302978516, tracking_mode='process', on_cloud='N')\n"
     ]
    },
    {
     "name": "stdout",
     "output_type": "stream",
     "text": [
      "------------------- Processing round 55\n",
      "las decisiones son: {'subject1': 0, 'subject10': 1, 'subject100': 1, 'subject102': 1, 'subject103': 0, 'subject105': 1, 'subject107': 0, 'subject120': 1, 'subject206': 1, 'subject210': 1}\n",
      "Subtask task2a: - run 0\n",
      "las decisiones son: {'subject1': 0.13049750143124303, 'subject10': 0.9835408608682419, 'subject100': 0.8738327565421639, 'subject102': 0.8661083711893811, 'subject103': 0.33125346606048334, 'subject105': 0.7185437889090698, 'subject107': 0.37008345563661754, 'subject120': 0.508716474379422, 'subject206': 0.8601299122516564, 'subject210': 0.8969054627560974}\n",
      "Subtask task2b: - run 0\n"
     ]
    },
    {
     "name": "stderr",
     "output_type": "stream",
     "text": [
      "[codecarbon WARNING @ 10:06:28] Already started tracking\n",
      "[codecarbon INFO @ 10:06:28] Energy consumed for RAM : 0.000002 kWh. RAM Power : 0.17043256759643555 W\n",
      "[codecarbon DEBUG @ 10:06:28] RAM : 0.17 W during 0.61 s [measurement time: 0.0070]\n",
      "[codecarbon INFO @ 10:06:28] Energy consumed for all GPUs : 0.000010 kWh. All GPUs Power : 1.028 W\n",
      "[codecarbon DEBUG @ 10:06:28] GPU : 1.03 W during 0.63 s [measurement time: 0.0070]\n",
      "[codecarbon INFO @ 10:06:28] Energy consumed for all CPUs : 0.000266 kWh. All CPUs Power : 27.0 W\n",
      "[codecarbon DEBUG @ 10:06:28] CPU : 27.00 W during 0.64 s [measurement time: 0.0010]\n",
      "[codecarbon INFO @ 10:06:28] 0.000278 kWh of electricity used since the begining.\n",
      "[codecarbon DEBUG @ 10:06:28] last_duration=0.6404426097869873\n",
      "------------------------\n",
      "[codecarbon DEBUG @ 10:06:28] We apply an energy mix of 363 g.CO2eq/kWh for Chile\n",
      "[codecarbon DEBUG @ 10:06:28] EmissionsData(timestamp='2023-04-25T10:06:28', project_name='codecarbon', run_id='cbcdde9b-da5f-4b0a-8c6b-7636ca066156', duration=35.59836006164551, emissions=0.00010079120041373818, emissions_rate=0.002831343922562684, cpu_power=27.0, gpu_power=1.028, ram_power=0.17043256759643555, cpu_energy=0.0002660284513235092, gpu_energy=9.749587094320193e-06, ram_energy=1.8345728631704598e-06, energy_consumed=0.0002776126112809997, country_name='Chile', country_iso_code='CHL', region='santiago metropolitan', cloud_provider='', cloud_region='', os='Windows-10-10.0.19045-SP0', python_version='3.10.10', cpu_count=12, cpu_model='AMD Ryzen 5 4600H with Radeon Graphics', gpu_count=1, gpu_model='1 x NVIDIA GeForce GTX 1650', longitude=-70.5937, latitude=-33.4653, ram_total_size=15.372379302978516, tracking_mode='process', on_cloud='N')\n"
     ]
    },
    {
     "name": "stdout",
     "output_type": "stream",
     "text": [
      "------------------- Processing round 56\n",
      "las decisiones son: {'subject1': 0, 'subject10': 1, 'subject100': 1, 'subject102': 1, 'subject103': 0, 'subject105': 1, 'subject107': 0, 'subject120': 1, 'subject206': 1, 'subject210': 1}\n",
      "Subtask task2a: - run 0\n",
      "las decisiones son: {'subject1': 0.13049750143124303, 'subject10': 0.9835408608682419, 'subject100': 0.8738327565421639, 'subject102': 0.8554258602134198, 'subject103': 0.3493485901365291, 'subject105': 0.718839864053902, 'subject107': 0.38272266500072927, 'subject120': 0.508716474379422, 'subject206': 0.864312824443179, 'subject210': 0.8969054627560974}\n",
      "Subtask task2b: - run 0\n"
     ]
    },
    {
     "name": "stderr",
     "output_type": "stream",
     "text": [
      "[codecarbon WARNING @ 10:06:29] Already started tracking\n",
      "[codecarbon INFO @ 10:06:29] Energy consumed for RAM : 0.000002 kWh. RAM Power : 0.1700291633605957 W\n",
      "[codecarbon DEBUG @ 10:06:29] RAM : 0.17 W during 0.60 s [measurement time: 0.0070]\n",
      "[codecarbon INFO @ 10:06:29] Energy consumed for all GPUs : 0.000010 kWh. All GPUs Power : 1.006 W\n",
      "[codecarbon DEBUG @ 10:06:29] GPU : 1.01 W during 0.61 s [measurement time: 0.0070]\n",
      "[codecarbon INFO @ 10:06:29] Energy consumed for all CPUs : 0.000271 kWh. All CPUs Power : 27.0 W\n",
      "[codecarbon DEBUG @ 10:06:29] CPU : 27.00 W during 0.62 s [measurement time: 0.0010]\n",
      "[codecarbon INFO @ 10:06:29] 0.000282 kWh of electricity used since the begining.\n",
      "[codecarbon DEBUG @ 10:06:29] last_duration=0.6236259937286377\n",
      "------------------------\n",
      "[codecarbon DEBUG @ 10:06:29] We apply an energy mix of 363 g.CO2eq/kWh for Chile\n",
      "[codecarbon DEBUG @ 10:06:29] EmissionsData(timestamp='2023-04-25T10:06:29', project_name='codecarbon', run_id='cbcdde9b-da5f-4b0a-8c6b-7636ca066156', duration=36.22398614883423, emissions=0.00010256158766843575, emissions_rate=0.0028313169966176243, cpu_power=27.0, gpu_power=1.006, ram_power=0.1700291633605957, cpu_energy=0.00027070564627647395, gpu_energy=9.92049802641074e-06, ram_energy=1.862704454578458e-06, energy_consumed=0.00028248884875746303, country_name='Chile', country_iso_code='CHL', region='santiago metropolitan', cloud_provider='', cloud_region='', os='Windows-10-10.0.19045-SP0', python_version='3.10.10', cpu_count=12, cpu_model='AMD Ryzen 5 4600H with Radeon Graphics', gpu_count=1, gpu_model='1 x NVIDIA GeForce GTX 1650', longitude=-70.5937, latitude=-33.4653, ram_total_size=15.372379302978516, tracking_mode='process', on_cloud='N')\n"
     ]
    },
    {
     "name": "stdout",
     "output_type": "stream",
     "text": [
      "------------------- Processing round 57\n",
      "las decisiones son: {'subject1': 0, 'subject10': 1, 'subject100': 1, 'subject102': 1, 'subject103': 0, 'subject105': 1, 'subject107': 0, 'subject120': 1, 'subject206': 1, 'subject210': 1}\n",
      "Subtask task2a: - run 0\n",
      "las decisiones son: {'subject1': 0.13049750143124303, 'subject10': 0.9835408608682419, 'subject100': 0.8738327565421639, 'subject102': 0.8756055270462249, 'subject103': 0.33582768083447023, 'subject105': 0.7627596373359714, 'subject107': 0.3967982491499509, 'subject120': 0.508716474379422, 'subject206': 0.874870911522033, 'subject210': 0.8969054627560974}\n",
      "Subtask task2b: - run 0\n"
     ]
    },
    {
     "name": "stderr",
     "output_type": "stream",
     "text": [
      "[codecarbon WARNING @ 10:06:29] Already started tracking\n",
      "[codecarbon INFO @ 10:06:29] Energy consumed for RAM : 0.000002 kWh. RAM Power : 0.1771845817565918 W\n",
      "[codecarbon DEBUG @ 10:06:29] RAM : 0.18 W during 0.59 s [measurement time: 0.0070]\n",
      "[codecarbon INFO @ 10:06:29] Energy consumed for all GPUs : 0.000010 kWh. All GPUs Power : 1.028 W\n",
      "[codecarbon DEBUG @ 10:06:29] GPU : 1.03 W during 0.60 s [measurement time: 0.0080]\n",
      "[codecarbon INFO @ 10:06:29] Energy consumed for all CPUs : 0.000275 kWh. All CPUs Power : 27.0 W\n",
      "[codecarbon DEBUG @ 10:06:29] CPU : 27.00 W during 0.62 s [measurement time: 0.0010]\n",
      "[codecarbon INFO @ 10:06:29] 0.000287 kWh of electricity used since the begining.\n",
      "[codecarbon DEBUG @ 10:06:29] last_duration=0.6170334815979004\n",
      "------------------------\n",
      "[codecarbon DEBUG @ 10:06:29] We apply an energy mix of 363 g.CO2eq/kWh for Chile\n",
      "[codecarbon DEBUG @ 10:06:29] EmissionsData(timestamp='2023-04-25T10:06:29', project_name='codecarbon', run_id='cbcdde9b-da5f-4b0a-8c6b-7636ca066156', duration=36.84500479698181, emissions=0.00010431476756792001, emissions_rate=0.0028311780156550564, cpu_power=27.0, gpu_power=1.028, ram_power=0.1771845817565918, cpu_energy=0.0002753333973884582, gpu_energy=1.0092697468532457e-05, ram_energy=1.8915965766516744e-06, energy_consumed=0.0002873176914336422, country_name='Chile', country_iso_code='CHL', region='santiago metropolitan', cloud_provider='', cloud_region='', os='Windows-10-10.0.19045-SP0', python_version='3.10.10', cpu_count=12, cpu_model='AMD Ryzen 5 4600H with Radeon Graphics', gpu_count=1, gpu_model='1 x NVIDIA GeForce GTX 1650', longitude=-70.5937, latitude=-33.4653, ram_total_size=15.372379302978516, tracking_mode='process', on_cloud='N')\n"
     ]
    },
    {
     "name": "stdout",
     "output_type": "stream",
     "text": [
      "------------------- Processing round 58\n",
      "las decisiones son: {'subject1': 0, 'subject10': 1, 'subject100': 1, 'subject102': 1, 'subject103': 0, 'subject105': 1, 'subject107': 0, 'subject120': 1, 'subject206': 1, 'subject210': 1}\n",
      "Subtask task2a: - run 0\n",
      "las decisiones son: {'subject1': 0.13049750143124303, 'subject10': 0.9835408608682419, 'subject100': 0.8738327565421639, 'subject102': 0.9228266021282161, 'subject103': 0.3385216232582965, 'subject105': 0.6122419389598969, 'subject107': 0.3695727200881571, 'subject120': 0.508716474379422, 'subject206': 0.8432193284143105, 'subject210': 0.8969054627560974}\n",
      "Subtask task2b: - run 0\n"
     ]
    },
    {
     "name": "stderr",
     "output_type": "stream",
     "text": [
      "[codecarbon WARNING @ 10:06:30] Already started tracking\n",
      "[codecarbon INFO @ 10:06:30] Energy consumed for RAM : 0.000002 kWh. RAM Power : 0.18439722061157227 W\n",
      "[codecarbon DEBUG @ 10:06:30] RAM : 0.18 W during 0.59 s [measurement time: 0.0076]\n",
      "[codecarbon INFO @ 10:06:30] Energy consumed for all GPUs : 0.000010 kWh. All GPUs Power : 1.036 W\n",
      "[codecarbon DEBUG @ 10:06:30] GPU : 1.04 W during 0.60 s [measurement time: 0.0080]\n",
      "[codecarbon INFO @ 10:06:30] Energy consumed for all CPUs : 0.000280 kWh. All CPUs Power : 27.0 W\n",
      "[codecarbon DEBUG @ 10:06:30] CPU : 27.00 W during 0.62 s [measurement time: 0.0010]\n",
      "[codecarbon INFO @ 10:06:30] 0.000292 kWh of electricity used since the begining.\n",
      "[codecarbon DEBUG @ 10:06:30] last_duration=0.6177618503570557\n",
      "------------------------\n",
      "[codecarbon DEBUG @ 10:06:30] We apply an energy mix of 363 g.CO2eq/kWh for Chile\n",
      "[codecarbon DEBUG @ 10:06:30] EmissionsData(timestamp='2023-04-25T10:06:30', project_name='codecarbon', run_id='cbcdde9b-da5f-4b0a-8c6b-7636ca066156', duration=37.46376585960388, emissions=0.00010607108153298296, emissions_rate=0.0028312978980940197, cpu_power=27.0, gpu_power=1.036, ram_power=0.18439722061157227, cpu_energy=0.0002799666112661361, gpu_energy=1.0266730575760207e-05, ram_energy=1.9218245307184625e-06, energy_consumed=0.0002921551663726147, country_name='Chile', country_iso_code='CHL', region='santiago metropolitan', cloud_provider='', cloud_region='', os='Windows-10-10.0.19045-SP0', python_version='3.10.10', cpu_count=12, cpu_model='AMD Ryzen 5 4600H with Radeon Graphics', gpu_count=1, gpu_model='1 x NVIDIA GeForce GTX 1650', longitude=-70.5937, latitude=-33.4653, ram_total_size=15.372379302978516, tracking_mode='process', on_cloud='N')\n"
     ]
    },
    {
     "name": "stdout",
     "output_type": "stream",
     "text": [
      "------------------- Processing round 59\n",
      "las decisiones son: {'subject1': 0, 'subject10': 1, 'subject100': 1, 'subject102': 1, 'subject103': 0, 'subject105': 1, 'subject107': 0, 'subject120': 1, 'subject206': 1, 'subject210': 1}\n",
      "Subtask task2a: - run 0\n",
      "las decisiones son: {'subject1': 0.13049750143124303, 'subject10': 0.9835408608682419, 'subject100': 0.8738327565421639, 'subject102': 0.9101414563685869, 'subject103': 0.3623085427627874, 'subject105': 0.612424309774114, 'subject107': 0.38732314623138897, 'subject120': 0.508716474379422, 'subject206': 0.8432193284143105, 'subject210': 0.8969054627560974}\n",
      "Subtask task2b: - run 0\n"
     ]
    },
    {
     "name": "stderr",
     "output_type": "stream",
     "text": [
      "[codecarbon WARNING @ 10:06:31] Already started tracking\n",
      "[codecarbon INFO @ 10:06:31] Energy consumed for RAM : 0.000002 kWh. RAM Power : 0.1844015121459961 W\n",
      "[codecarbon DEBUG @ 10:06:31] RAM : 0.18 W during 0.60 s [measurement time: 0.0080]\n",
      "[codecarbon INFO @ 10:06:31] Energy consumed for all GPUs : 0.000010 kWh. All GPUs Power : 1.02 W\n",
      "[codecarbon DEBUG @ 10:06:31] GPU : 1.02 W during 0.61 s [measurement time: 0.0070]\n",
      "[codecarbon INFO @ 10:06:31] Energy consumed for all CPUs : 0.000285 kWh. All CPUs Power : 27.0 W\n",
      "[codecarbon DEBUG @ 10:06:31] CPU : 27.00 W during 0.62 s [measurement time: 0.0010]\n",
      "[codecarbon INFO @ 10:06:31] 0.000297 kWh of electricity used since the begining.\n",
      "[codecarbon DEBUG @ 10:06:31] last_duration=0.6244528293609619\n",
      "------------------------\n",
      "[codecarbon DEBUG @ 10:06:31] We apply an energy mix of 363 g.CO2eq/kWh for Chile\n",
      "[codecarbon DEBUG @ 10:06:31] EmissionsData(timestamp='2023-04-25T10:06:31', project_name='codecarbon', run_id='cbcdde9b-da5f-4b0a-8c6b-7636ca066156', duration=38.091230154037476, emissions=0.00010784544697519108, emissions_rate=0.0028312408535789966, cpu_power=27.0, gpu_power=1.02, ram_power=0.1844015121459961, cpu_energy=0.0002846500074863433, gpu_energy=1.0439977094531061e-05, ram_energy=1.9523765245756407e-06, energy_consumed=0.0002970423611054499, country_name='Chile', country_iso_code='CHL', region='santiago metropolitan', cloud_provider='', cloud_region='', os='Windows-10-10.0.19045-SP0', python_version='3.10.10', cpu_count=12, cpu_model='AMD Ryzen 5 4600H with Radeon Graphics', gpu_count=1, gpu_model='1 x NVIDIA GeForce GTX 1650', longitude=-70.5937, latitude=-33.4653, ram_total_size=15.372379302978516, tracking_mode='process', on_cloud='N')\n"
     ]
    },
    {
     "name": "stdout",
     "output_type": "stream",
     "text": [
      "------------------- Processing round 60\n",
      "las decisiones son: {'subject1': 0, 'subject10': 1, 'subject100': 1, 'subject102': 1, 'subject103': 0, 'subject105': 1, 'subject107': 0, 'subject120': 1, 'subject206': 1, 'subject210': 1}\n",
      "Subtask task2a: - run 0\n",
      "las decisiones son: {'subject1': 0.13049750143124303, 'subject10': 0.9835408608682419, 'subject100': 0.8738327565421639, 'subject102': 0.9160473359659748, 'subject103': 0.367556312842009, 'subject105': 0.58484496264605, 'subject107': 0.37920848683330866, 'subject120': 0.508716474379422, 'subject206': 0.8211837436073851, 'subject210': 0.8969054627560974}\n",
      "Subtask task2b: - run 0\n"
     ]
    },
    {
     "name": "stderr",
     "output_type": "stream",
     "text": [
      "[codecarbon WARNING @ 10:06:31] Already started tracking\n",
      "[codecarbon INFO @ 10:06:31] Energy consumed for RAM : 0.000002 kWh. RAM Power : 0.19192886352539062 W\n",
      "[codecarbon DEBUG @ 10:06:31] RAM : 0.19 W during 0.59 s [measurement time: 0.0072]\n",
      "[codecarbon INFO @ 10:06:31] Energy consumed for all GPUs : 0.000011 kWh. All GPUs Power : 1.016 W\n",
      "[codecarbon DEBUG @ 10:06:31] GPU : 1.02 W during 0.60 s [measurement time: 0.0080]\n",
      "[codecarbon INFO @ 10:06:31] Energy consumed for all CPUs : 0.000289 kWh. All CPUs Power : 27.0 W\n",
      "[codecarbon DEBUG @ 10:06:31] CPU : 27.00 W during 0.61 s [measurement time: 0.0000]\n",
      "[codecarbon INFO @ 10:06:31] 0.000302 kWh of electricity used since the begining.\n",
      "[codecarbon DEBUG @ 10:06:31] last_duration=0.6138918399810791\n",
      "------------------------\n",
      "[codecarbon DEBUG @ 10:06:31] We apply an energy mix of 363 g.CO2eq/kWh for Chile\n",
      "[codecarbon DEBUG @ 10:06:31] EmissionsData(timestamp='2023-04-25T10:06:31', project_name='codecarbon', run_id='cbcdde9b-da5f-4b0a-8c6b-7636ca066156', duration=38.70610594749451, emissions=0.00010958986804206336, emissions_rate=0.0028313328184117483, cpu_power=27.0, gpu_power=1.016, ram_power=0.19192886352539062, cpu_energy=0.0002892541962862014, gpu_energy=1.0609281871252592e-05, ram_energy=1.983600875355762e-06, energy_consumed=0.0003018470790328097, country_name='Chile', country_iso_code='CHL', region='santiago metropolitan', cloud_provider='', cloud_region='', os='Windows-10-10.0.19045-SP0', python_version='3.10.10', cpu_count=12, cpu_model='AMD Ryzen 5 4600H with Radeon Graphics', gpu_count=1, gpu_model='1 x NVIDIA GeForce GTX 1650', longitude=-70.5937, latitude=-33.4653, ram_total_size=15.372379302978516, tracking_mode='process', on_cloud='N')\n"
     ]
    },
    {
     "name": "stdout",
     "output_type": "stream",
     "text": [
      "------------------- Processing round 61\n",
      "las decisiones son: {'subject1': 0, 'subject10': 1, 'subject100': 1, 'subject102': 1, 'subject103': 0, 'subject105': 1, 'subject107': 0, 'subject120': 1, 'subject206': 1, 'subject210': 1}\n",
      "Subtask task2a: - run 0\n",
      "las decisiones son: {'subject1': 0.13049750143124303, 'subject10': 0.9835408608682419, 'subject100': 0.8738327565421639, 'subject102': 0.9125120375792166, 'subject103': 0.3995754102724417, 'subject105': 0.5755233138620754, 'subject107': 0.3824463783423332, 'subject120': 0.508716474379422, 'subject206': 0.8235210726881383, 'subject210': 0.8969054627560974}\n",
      "Subtask task2b: - run 0\n"
     ]
    },
    {
     "name": "stderr",
     "output_type": "stream",
     "text": [
      "[codecarbon WARNING @ 10:06:32] Already started tracking\n",
      "[codecarbon INFO @ 10:06:32] Energy consumed for RAM : 0.000002 kWh. RAM Power : 0.20467615127563477 W\n",
      "[codecarbon DEBUG @ 10:06:32] RAM : 0.20 W during 0.58 s [measurement time: 0.0070]\n",
      "[codecarbon INFO @ 10:06:32] Energy consumed for all GPUs : 0.000011 kWh. All GPUs Power : 1.012 W\n",
      "[codecarbon DEBUG @ 10:06:32] GPU : 1.01 W during 0.59 s [measurement time: 0.0070]\n",
      "[codecarbon INFO @ 10:06:32] Energy consumed for all CPUs : 0.000294 kWh. All CPUs Power : 27.0 W\n",
      "[codecarbon DEBUG @ 10:06:32] CPU : 27.00 W during 0.60 s [measurement time: 0.0010]\n",
      "[codecarbon INFO @ 10:06:32] 0.000307 kWh of electricity used since the begining.\n",
      "[codecarbon DEBUG @ 10:06:32] last_duration=0.6014761924743652\n",
      "------------------------\n",
      "[codecarbon DEBUG @ 10:06:32] We apply an energy mix of 363 g.CO2eq/kWh for Chile\n",
      "[codecarbon DEBUG @ 10:06:32] EmissionsData(timestamp='2023-04-25T10:06:32', project_name='codecarbon', run_id='cbcdde9b-da5f-4b0a-8c6b-7636ca066156', duration=39.30958271026611, emissions=0.00011129971696526425, emissions_rate=0.0028313634816631403, cpu_power=27.0, gpu_power=1.012, ram_power=0.20467615127563477, cpu_energy=0.00029376526772975913, gpu_energy=1.0774987474216358e-05, ram_energy=2.0163185319165676e-06, energy_consumed=0.000306556573735892, country_name='Chile', country_iso_code='CHL', region='santiago metropolitan', cloud_provider='', cloud_region='', os='Windows-10-10.0.19045-SP0', python_version='3.10.10', cpu_count=12, cpu_model='AMD Ryzen 5 4600H with Radeon Graphics', gpu_count=1, gpu_model='1 x NVIDIA GeForce GTX 1650', longitude=-70.5937, latitude=-33.4653, ram_total_size=15.372379302978516, tracking_mode='process', on_cloud='N')\n"
     ]
    },
    {
     "name": "stdout",
     "output_type": "stream",
     "text": [
      "------------------- Processing round 62\n",
      "las decisiones son: {'subject1': 0, 'subject10': 1, 'subject100': 1, 'subject102': 1, 'subject103': 0, 'subject105': 1, 'subject107': 0, 'subject120': 1, 'subject206': 1, 'subject210': 1}\n",
      "Subtask task2a: - run 0\n",
      "las decisiones son: {'subject1': 0.13049750143124303, 'subject10': 0.9835408608682419, 'subject100': 0.8738327565421639, 'subject102': 0.7924454921856977, 'subject103': 0.40149750406587575, 'subject105': 0.5570019137636044, 'subject107': 0.37643586172014876, 'subject120': 0.508716474379422, 'subject206': 0.8330679905372785, 'subject210': 0.8969054627560974}\n",
      "Subtask task2b: - run 0\n"
     ]
    },
    {
     "name": "stderr",
     "output_type": "stream",
     "text": [
      "[codecarbon WARNING @ 10:06:32] Already started tracking\n",
      "[codecarbon INFO @ 10:06:32] Energy consumed for RAM : 0.000002 kWh. RAM Power : 0.2049236297607422 W\n",
      "[codecarbon DEBUG @ 10:06:32] RAM : 0.20 W during 0.59 s [measurement time: 0.0070]\n",
      "[codecarbon INFO @ 10:06:32] Energy consumed for all GPUs : 0.000011 kWh. All GPUs Power : 1.018 W\n",
      "[codecarbon DEBUG @ 10:06:32] GPU : 1.02 W during 0.61 s [measurement time: 0.0080]\n",
      "[codecarbon INFO @ 10:06:32] Energy consumed for all CPUs : 0.000298 kWh. All CPUs Power : 27.0 W\n",
      "[codecarbon DEBUG @ 10:06:32] CPU : 27.00 W during 0.62 s [measurement time: 0.0010]\n",
      "[codecarbon INFO @ 10:06:32] 0.000311 kWh of electricity used since the begining.\n",
      "[codecarbon DEBUG @ 10:06:32] last_duration=0.622596263885498\n",
      "------------------------\n",
      "[codecarbon DEBUG @ 10:06:32] We apply an energy mix of 363 g.CO2eq/kWh for Chile\n",
      "[codecarbon DEBUG @ 10:06:32] EmissionsData(timestamp='2023-04-25T10:06:32', project_name='codecarbon', run_id='cbcdde9b-da5f-4b0a-8c6b-7636ca066156', duration=39.93518543243408, emissions=0.00011306980565408277, emissions_rate=0.002831332931842382, cpu_power=27.0, gpu_power=1.018, ram_power=0.2049236297607422, cpu_energy=0.00029843473970890034, gpu_energy=1.0947084518604811e-05, ram_energy=2.05016463475431e-06, energy_consumed=0.0003114319888622594, country_name='Chile', country_iso_code='CHL', region='santiago metropolitan', cloud_provider='', cloud_region='', os='Windows-10-10.0.19045-SP0', python_version='3.10.10', cpu_count=12, cpu_model='AMD Ryzen 5 4600H with Radeon Graphics', gpu_count=1, gpu_model='1 x NVIDIA GeForce GTX 1650', longitude=-70.5937, latitude=-33.4653, ram_total_size=15.372379302978516, tracking_mode='process', on_cloud='N')\n"
     ]
    },
    {
     "name": "stdout",
     "output_type": "stream",
     "text": [
      "------------------- Processing round 63\n",
      "las decisiones son: {'subject1': 0, 'subject10': 1, 'subject100': 1, 'subject102': 1, 'subject103': 0, 'subject105': 1, 'subject107': 0, 'subject120': 1, 'subject206': 1, 'subject210': 1}\n",
      "Subtask task2a: - run 0\n",
      "las decisiones son: {'subject1': 0.13049750143124303, 'subject10': 0.9835408608682419, 'subject100': 0.8738327565421639, 'subject102': 0.8089233375320565, 'subject103': 0.41286378984153554, 'subject105': 0.5378289358465711, 'subject107': 0.43676812857457253, 'subject120': 0.508716474379422, 'subject206': 0.8281154190067207, 'subject210': 0.8969054627560974}\n",
      "Subtask task2b: - run 0\n"
     ]
    },
    {
     "name": "stderr",
     "output_type": "stream",
     "text": [
      "[codecarbon WARNING @ 10:06:33] Already started tracking\n",
      "[codecarbon INFO @ 10:06:33] Energy consumed for RAM : 0.000002 kWh. RAM Power : 0.2170100212097168 W\n",
      "[codecarbon DEBUG @ 10:06:33] RAM : 0.22 W during 0.57 s [measurement time: 0.0080]\n",
      "[codecarbon INFO @ 10:06:33] Energy consumed for all GPUs : 0.000011 kWh. All GPUs Power : 1.0320000000000003 W\n",
      "[codecarbon DEBUG @ 10:06:33] GPU : 1.03 W during 0.59 s [measurement time: 0.0070]\n",
      "[codecarbon INFO @ 10:06:33] Energy consumed for all CPUs : 0.000303 kWh. All CPUs Power : 27.0 W\n",
      "[codecarbon DEBUG @ 10:06:33] CPU : 27.00 W during 0.60 s [measurement time: 0.0010]\n",
      "[codecarbon INFO @ 10:06:33] 0.000316 kWh of electricity used since the begining.\n",
      "[codecarbon DEBUG @ 10:06:33] last_duration=0.6016597747802734\n",
      "------------------------\n",
      "[codecarbon DEBUG @ 10:06:33] We apply an energy mix of 363 g.CO2eq/kWh for Chile\n",
      "[codecarbon DEBUG @ 10:06:33] EmissionsData(timestamp='2023-04-25T10:06:33', project_name='codecarbon', run_id='cbcdde9b-da5f-4b0a-8c6b-7636ca066156', duration=40.53883957862854, emissions=0.00011478193482811029, emissions_rate=0.002831406523254839, cpu_power=27.0, gpu_power=1.0320000000000003, ram_power=0.2170100212097168, cpu_energy=0.0003029471880197524, gpu_energy=1.1115830985241468e-05, ram_energy=2.0847451323001562e-06, energy_consumed=0.000316147764137294, country_name='Chile', country_iso_code='CHL', region='santiago metropolitan', cloud_provider='', cloud_region='', os='Windows-10-10.0.19045-SP0', python_version='3.10.10', cpu_count=12, cpu_model='AMD Ryzen 5 4600H with Radeon Graphics', gpu_count=1, gpu_model='1 x NVIDIA GeForce GTX 1650', longitude=-70.5937, latitude=-33.4653, ram_total_size=15.372379302978516, tracking_mode='process', on_cloud='N')\n"
     ]
    },
    {
     "name": "stdout",
     "output_type": "stream",
     "text": [
      "------------------- Processing round 64\n",
      "las decisiones son: {'subject1': 0, 'subject10': 1, 'subject100': 1, 'subject102': 1, 'subject103': 0, 'subject105': 1, 'subject107': 0, 'subject120': 1, 'subject206': 1, 'subject210': 1}\n",
      "Subtask task2a: - run 0\n",
      "las decisiones son: {'subject1': 0.13049750143124303, 'subject10': 0.9835408608682419, 'subject100': 0.8738327565421639, 'subject102': 0.8048457271878365, 'subject103': 0.4220904184098214, 'subject105': 0.5585238901952201, 'subject107': 0.46838946876875087, 'subject120': 0.508716474379422, 'subject206': 0.8309802368125556, 'subject210': 0.8969054627560974}\n",
      "Subtask task2b: - run 0\n"
     ]
    },
    {
     "name": "stderr",
     "output_type": "stream",
     "text": [
      "[codecarbon WARNING @ 10:06:34] Already started tracking\n",
      "[codecarbon INFO @ 10:06:34] Energy consumed for RAM : 0.000002 kWh. RAM Power : 0.22977161407470703 W\n",
      "[codecarbon DEBUG @ 10:06:34] RAM : 0.23 W during 0.58 s [measurement time: 0.0080]\n",
      "[codecarbon INFO @ 10:06:34] Energy consumed for all GPUs : 0.000011 kWh. All GPUs Power : 1.0190000000000001 W\n",
      "[codecarbon DEBUG @ 10:06:34] GPU : 1.02 W during 0.60 s [measurement time: 0.0071]\n",
      "[codecarbon INFO @ 10:06:34] Energy consumed for all CPUs : 0.000308 kWh. All CPUs Power : 27.0 W\n",
      "[codecarbon DEBUG @ 10:06:34] CPU : 27.00 W during 0.61 s [measurement time: 0.0010]\n",
      "[codecarbon INFO @ 10:06:34] 0.000321 kWh of electricity used since the begining.\n",
      "[codecarbon DEBUG @ 10:06:34] last_duration=0.6109511852264404\n",
      "------------------------\n",
      "[codecarbon DEBUG @ 10:06:34] We apply an energy mix of 363 g.CO2eq/kWh for Chile\n",
      "[codecarbon DEBUG @ 10:06:34] EmissionsData(timestamp='2023-04-25T10:06:34', project_name='codecarbon', run_id='cbcdde9b-da5f-4b0a-8c6b-7636ca066156', duration=41.15179133415222, emissions=0.00011652037526201324, emissions_rate=0.002831477597557509, cpu_power=27.0, gpu_power=1.0190000000000001, ram_power=0.22977161407470703, cpu_energy=0.00030752932190895074, gpu_energy=1.1284799664749043e-05, ram_energy=2.12188783134773e-06, energy_consumed=0.00032093600940504745, country_name='Chile', country_iso_code='CHL', region='santiago metropolitan', cloud_provider='', cloud_region='', os='Windows-10-10.0.19045-SP0', python_version='3.10.10', cpu_count=12, cpu_model='AMD Ryzen 5 4600H with Radeon Graphics', gpu_count=1, gpu_model='1 x NVIDIA GeForce GTX 1650', longitude=-70.5937, latitude=-33.4653, ram_total_size=15.372379302978516, tracking_mode='process', on_cloud='N')\n"
     ]
    },
    {
     "name": "stdout",
     "output_type": "stream",
     "text": [
      "------------------- Processing round 65\n",
      "las decisiones son: {'subject1': 0, 'subject10': 1, 'subject100': 1, 'subject102': 1, 'subject103': 0, 'subject105': 1, 'subject107': 0, 'subject120': 1, 'subject206': 1, 'subject210': 1}\n",
      "Subtask task2a: - run 0\n",
      "las decisiones son: {'subject1': 0.13049750143124303, 'subject10': 0.9835408608682419, 'subject100': 0.8738327565421639, 'subject102': 0.8360747714906216, 'subject103': 0.40258398847092586, 'subject105': 0.5528567148492114, 'subject107': 0.4829338547097588, 'subject120': 0.508716474379422, 'subject206': 0.8236648863821571, 'subject210': 0.8969054627560974}\n",
      "Subtask task2b: - run 0\n"
     ]
    },
    {
     "name": "stderr",
     "output_type": "stream",
     "text": [
      "[codecarbon WARNING @ 10:06:34] Already started tracking\n",
      "[codecarbon INFO @ 10:06:34] Energy consumed for RAM : 0.000002 kWh. RAM Power : 0.22972726821899414 W\n",
      "[codecarbon DEBUG @ 10:06:34] RAM : 0.23 W during 0.59 s [measurement time: 0.0071]\n",
      "[codecarbon INFO @ 10:06:34] Energy consumed for all GPUs : 0.000011 kWh. All GPUs Power : 1.002 W\n",
      "[codecarbon DEBUG @ 10:06:34] GPU : 1.00 W during 0.61 s [measurement time: 0.0070]\n",
      "[codecarbon INFO @ 10:06:34] Energy consumed for all CPUs : 0.000312 kWh. All CPUs Power : 27.0 W\n",
      "[codecarbon DEBUG @ 10:06:34] CPU : 27.00 W during 0.62 s [measurement time: 0.0005]\n",
      "[codecarbon INFO @ 10:06:34] 0.000326 kWh of electricity used since the begining.\n",
      "[codecarbon DEBUG @ 10:06:34] last_duration=0.6195530891418457\n",
      "------------------------\n",
      "[codecarbon DEBUG @ 10:06:34] We apply an energy mix of 363 g.CO2eq/kWh for Chile\n",
      "[codecarbon DEBUG @ 10:06:34] EmissionsData(timestamp='2023-04-25T10:06:34', project_name='codecarbon', run_id='cbcdde9b-da5f-4b0a-8c6b-7636ca066156', duration=41.77188682556152, emissions=0.00011828255322127764, emissions_rate=0.002831630606374641, cpu_power=27.0, gpu_power=1.002, ram_power=0.22972726821899414, cpu_energy=0.00031217597007751456, gpu_energy=1.145390171878868e-05, ram_energy=2.159763945220921e-06, energy_consumed=0.0003257896357415241, country_name='Chile', country_iso_code='CHL', region='santiago metropolitan', cloud_provider='', cloud_region='', os='Windows-10-10.0.19045-SP0', python_version='3.10.10', cpu_count=12, cpu_model='AMD Ryzen 5 4600H with Radeon Graphics', gpu_count=1, gpu_model='1 x NVIDIA GeForce GTX 1650', longitude=-70.5937, latitude=-33.4653, ram_total_size=15.372379302978516, tracking_mode='process', on_cloud='N')\n"
     ]
    },
    {
     "name": "stdout",
     "output_type": "stream",
     "text": [
      "------------------- Processing round 66\n",
      "las decisiones son: {'subject1': 0, 'subject10': 1, 'subject100': 1, 'subject102': 1, 'subject103': 0, 'subject105': 1, 'subject107': 1, 'subject120': 1, 'subject206': 1, 'subject210': 1}\n",
      "Subtask task2a: - run 0\n",
      "las decisiones son: {'subject1': 0.13049750143124303, 'subject10': 0.9835408608682419, 'subject100': 0.8738327565421639, 'subject102': 0.8247222679904951, 'subject103': 0.33956399628256256, 'subject105': 0.5334125688071877, 'subject107': 0.5019505407491315, 'subject120': 0.508716474379422, 'subject206': 0.8317174696159655, 'subject210': 0.8969054627560974}\n",
      "Subtask task2b: - run 0\n"
     ]
    },
    {
     "name": "stderr",
     "output_type": "stream",
     "text": [
      "[codecarbon WARNING @ 10:06:35] Already started tracking\n",
      "[codecarbon INFO @ 10:06:35] Energy consumed for RAM : 0.000002 kWh. RAM Power : 0.24235153198242188 W\n",
      "[codecarbon DEBUG @ 10:06:35] RAM : 0.24 W during 0.58 s [measurement time: 0.0070]\n",
      "[codecarbon INFO @ 10:06:35] Energy consumed for all GPUs : 0.000012 kWh. All GPUs Power : 1.0070000000000001 W\n",
      "[codecarbon DEBUG @ 10:06:35] GPU : 1.01 W during 0.59 s [measurement time: 0.0070]\n",
      "[codecarbon INFO @ 10:06:35] Energy consumed for all CPUs : 0.000317 kWh. All CPUs Power : 27.0 W\n",
      "[codecarbon DEBUG @ 10:06:35] CPU : 27.00 W during 0.61 s [measurement time: 0.0010]\n",
      "[codecarbon INFO @ 10:06:35] 0.000331 kWh of electricity used since the begining.\n",
      "[codecarbon DEBUG @ 10:06:35] last_duration=0.6059684753417969\n",
      "------------------------\n",
      "[codecarbon DEBUG @ 10:06:35] We apply an energy mix of 363 g.CO2eq/kWh for Chile\n",
      "[codecarbon DEBUG @ 10:06:35] EmissionsData(timestamp='2023-04-25T10:06:35', project_name='codecarbon', run_id='cbcdde9b-da5f-4b0a-8c6b-7636ca066156', duration=42.381858587265015, emissions=0.0001200069413954316, emissions_rate=0.0028315639142708934, cpu_power=27.0, gpu_power=1.0070000000000001, ram_power=0.24235153198242188, cpu_energy=0.00031672073364257805, gpu_energy=1.1619770309329036e-05, ram_energy=2.198672443204733e-06, energy_consumed=0.00033053917639511176, country_name='Chile', country_iso_code='CHL', region='santiago metropolitan', cloud_provider='', cloud_region='', os='Windows-10-10.0.19045-SP0', python_version='3.10.10', cpu_count=12, cpu_model='AMD Ryzen 5 4600H with Radeon Graphics', gpu_count=1, gpu_model='1 x NVIDIA GeForce GTX 1650', longitude=-70.5937, latitude=-33.4653, ram_total_size=15.372379302978516, tracking_mode='process', on_cloud='N')\n"
     ]
    },
    {
     "name": "stdout",
     "output_type": "stream",
     "text": [
      "------------------- Processing round 67\n",
      "las decisiones son: {'subject1': 0, 'subject10': 1, 'subject100': 1, 'subject102': 1, 'subject103': 0, 'subject105': 1, 'subject107': 0, 'subject120': 1, 'subject206': 1, 'subject210': 1}\n",
      "Subtask task2a: - run 0\n",
      "las decisiones son: {'subject1': 0.13049750143124303, 'subject10': 0.9835408608682419, 'subject100': 0.8738327565421639, 'subject102': 0.839854246805617, 'subject103': 0.33558026739323155, 'subject105': 0.5390693896355911, 'subject107': 0.3999227078715692, 'subject120': 0.508716474379422, 'subject206': 0.844352202884785, 'subject210': 0.8969054627560974}\n",
      "Subtask task2b: - run 0\n"
     ]
    },
    {
     "name": "stderr",
     "output_type": "stream",
     "text": [
      "[codecarbon WARNING @ 10:06:35] Already started tracking\n",
      "[codecarbon INFO @ 10:06:35] Energy consumed for RAM : 0.000002 kWh. RAM Power : 0.2541203498840332 W\n",
      "[codecarbon DEBUG @ 10:06:36] RAM : 0.25 W during 0.57 s [measurement time: 0.0080]\n",
      "[codecarbon INFO @ 10:06:36] Energy consumed for all GPUs : 0.000012 kWh. All GPUs Power : 1.0050000000000001 W\n",
      "[codecarbon DEBUG @ 10:06:36] GPU : 1.01 W during 0.59 s [measurement time: 0.0070]\n",
      "[codecarbon INFO @ 10:06:36] Energy consumed for all CPUs : 0.000321 kWh. All CPUs Power : 27.0 W\n",
      "[codecarbon DEBUG @ 10:06:36] CPU : 27.00 W during 0.60 s [measurement time: 0.0010]\n",
      "[codecarbon INFO @ 10:06:36] 0.000335 kWh of electricity used since the begining.\n",
      "[codecarbon DEBUG @ 10:06:36] last_duration=0.6019878387451172\n",
      "------------------------\n",
      "[codecarbon DEBUG @ 10:06:36] We apply an energy mix of 363 g.CO2eq/kWh for Chile\n",
      "[codecarbon DEBUG @ 10:06:36] EmissionsData(timestamp='2023-04-25T10:06:36', project_name='codecarbon', run_id='cbcdde9b-da5f-4b0a-8c6b-7636ca066156', duration=42.98584032058716, emissions=0.00012172065167595954, emissions_rate=0.0028316452759366904, cpu_power=27.0, gpu_power=1.0050000000000001, ram_power=0.2541203498840332, cpu_energy=0.0003212356424331664, gpu_energy=1.1784474292397502e-05, ram_energy=2.239189839677446e-06, energy_consumed=0.0003352593065652413, country_name='Chile', country_iso_code='CHL', region='santiago metropolitan', cloud_provider='', cloud_region='', os='Windows-10-10.0.19045-SP0', python_version='3.10.10', cpu_count=12, cpu_model='AMD Ryzen 5 4600H with Radeon Graphics', gpu_count=1, gpu_model='1 x NVIDIA GeForce GTX 1650', longitude=-70.5937, latitude=-33.4653, ram_total_size=15.372379302978516, tracking_mode='process', on_cloud='N')\n"
     ]
    },
    {
     "name": "stdout",
     "output_type": "stream",
     "text": [
      "------------------- Processing round 68\n",
      "las decisiones son: {'subject1': 0, 'subject10': 1, 'subject100': 1, 'subject102': 1, 'subject103': 0, 'subject105': 1, 'subject107': 0, 'subject120': 1, 'subject206': 1, 'subject210': 1}\n",
      "Subtask task2a: - run 0\n",
      "las decisiones son: {'subject1': 0.13049750143124303, 'subject10': 0.9835408608682419, 'subject100': 0.8738327565421639, 'subject102': 0.8682166385967326, 'subject103': 0.3521986950239091, 'subject105': 0.5460094451204751, 'subject107': 0.4424554008972912, 'subject120': 0.508716474379422, 'subject206': 0.8459739906413257, 'subject210': 0.8969054627560974}\n",
      "Subtask task2b: - run 0\n"
     ]
    },
    {
     "name": "stderr",
     "output_type": "stream",
     "text": [
      "[codecarbon WARNING @ 10:06:36] Already started tracking\n",
      "[codecarbon INFO @ 10:06:36] Energy consumed for RAM : 0.000002 kWh. RAM Power : 0.254641056060791 W\n",
      "[codecarbon DEBUG @ 10:06:36] RAM : 0.25 W during 0.59 s [measurement time: 0.0070]\n",
      "[codecarbon INFO @ 10:06:36] Energy consumed for all GPUs : 0.000012 kWh. All GPUs Power : 1.034 W\n",
      "[codecarbon DEBUG @ 10:06:36] GPU : 1.03 W during 0.60 s [measurement time: 0.0070]\n",
      "[codecarbon INFO @ 10:06:36] Energy consumed for all CPUs : 0.000326 kWh. All CPUs Power : 27.0 W\n",
      "[codecarbon DEBUG @ 10:06:36] CPU : 27.00 W during 0.62 s [measurement time: 0.0010]\n",
      "[codecarbon INFO @ 10:06:36] 0.000340 kWh of electricity used since the begining.\n",
      "[codecarbon DEBUG @ 10:06:36] last_duration=0.6172776222229004\n",
      "------------------------\n",
      "[codecarbon DEBUG @ 10:06:36] We apply an energy mix of 363 g.CO2eq/kWh for Chile\n",
      "[codecarbon DEBUG @ 10:06:36] EmissionsData(timestamp='2023-04-25T10:06:36', project_name='codecarbon', run_id='cbcdde9b-da5f-4b0a-8c6b-7636ca066156', duration=43.60611867904663, emissions=0.00012347966204631652, emissions_rate=0.0028317049484537196, cpu_power=27.0, gpu_power=1.034, ram_power=0.254641056060791, cpu_energy=0.0003258652245998382, gpu_energy=1.1958041249579857e-05, ram_energy=2.2809424550688583e-06, energy_consumed=0.0003401042083044868, country_name='Chile', country_iso_code='CHL', region='santiago metropolitan', cloud_provider='', cloud_region='', os='Windows-10-10.0.19045-SP0', python_version='3.10.10', cpu_count=12, cpu_model='AMD Ryzen 5 4600H with Radeon Graphics', gpu_count=1, gpu_model='1 x NVIDIA GeForce GTX 1650', longitude=-70.5937, latitude=-33.4653, ram_total_size=15.372379302978516, tracking_mode='process', on_cloud='N')\n"
     ]
    },
    {
     "name": "stdout",
     "output_type": "stream",
     "text": [
      "------------------- Processing round 69\n",
      "las decisiones son: {'subject1': 0, 'subject10': 1, 'subject100': 1, 'subject102': 1, 'subject103': 0, 'subject105': 1, 'subject107': 0, 'subject120': 1, 'subject206': 1, 'subject210': 1}\n",
      "Subtask task2a: - run 0\n",
      "las decisiones son: {'subject1': 0.13049750143124303, 'subject10': 0.9835408608682419, 'subject100': 0.8738327565421639, 'subject102': 0.8724415873362216, 'subject103': 0.35439381497701294, 'subject105': 0.5477699097124195, 'subject107': 0.4460348349295786, 'subject120': 0.508716474379422, 'subject206': 0.8642255517786522, 'subject210': 0.8969054627560974}\n",
      "Subtask task2b: - run 0\n"
     ]
    },
    {
     "name": "stderr",
     "output_type": "stream",
     "text": [
      "[codecarbon WARNING @ 10:06:37] Already started tracking\n",
      "[codecarbon INFO @ 10:06:37] Energy consumed for RAM : 0.000002 kWh. RAM Power : 0.2674112319946289 W\n",
      "[codecarbon DEBUG @ 10:06:37] RAM : 0.27 W during 0.58 s [measurement time: 0.0080]\n",
      "[codecarbon INFO @ 10:06:37] Energy consumed for all GPUs : 0.000012 kWh. All GPUs Power : 1.0030000000000001 W\n",
      "[codecarbon DEBUG @ 10:06:37] GPU : 1.00 W during 0.59 s [measurement time: 0.0070]\n",
      "[codecarbon INFO @ 10:06:37] Energy consumed for all CPUs : 0.000330 kWh. All CPUs Power : 27.0 W\n",
      "[codecarbon DEBUG @ 10:06:37] CPU : 27.00 W during 0.61 s [measurement time: 0.0020]\n",
      "[codecarbon INFO @ 10:06:37] 0.000345 kWh of electricity used since the begining.\n",
      "[codecarbon DEBUG @ 10:06:37] last_duration=0.6069846153259277\n",
      "------------------------\n",
      "[codecarbon DEBUG @ 10:06:37] We apply an energy mix of 363 g.CO2eq/kWh for Chile\n",
      "[codecarbon DEBUG @ 10:06:37] EmissionsData(timestamp='2023-04-25T10:06:37', project_name='codecarbon', run_id='cbcdde9b-da5f-4b0a-8c6b-7636ca066156', duration=44.2161021232605, emissions=0.00012520816720423226, emissions_rate=0.0028317323597451334, cpu_power=27.0, gpu_power=1.0030000000000001, ram_power=0.2674112319946289, cpu_energy=0.00033041760921478263, gpu_energy=1.2123529967268311e-05, ram_energy=2.3239493236033583e-06, energy_consumed=0.0003448650885056542, country_name='Chile', country_iso_code='CHL', region='santiago metropolitan', cloud_provider='', cloud_region='', os='Windows-10-10.0.19045-SP0', python_version='3.10.10', cpu_count=12, cpu_model='AMD Ryzen 5 4600H with Radeon Graphics', gpu_count=1, gpu_model='1 x NVIDIA GeForce GTX 1650', longitude=-70.5937, latitude=-33.4653, ram_total_size=15.372379302978516, tracking_mode='process', on_cloud='N')\n"
     ]
    },
    {
     "name": "stdout",
     "output_type": "stream",
     "text": [
      "------------------- Processing round 70\n",
      "las decisiones son: {'subject1': 0, 'subject10': 1, 'subject100': 1, 'subject102': 1, 'subject103': 0, 'subject105': 1, 'subject107': 0, 'subject120': 1, 'subject206': 1, 'subject210': 1}\n",
      "Subtask task2a: - run 0\n",
      "las decisiones son: {'subject1': 0.13049750143124303, 'subject10': 0.9835408608682419, 'subject100': 0.8738327565421639, 'subject102': 0.8431944839318685, 'subject103': 0.37598912925295136, 'subject105': 0.5634513075312053, 'subject107': 0.47105431187096863, 'subject120': 0.508716474379422, 'subject206': 0.870698691405051, 'subject210': 0.8969054627560974}\n",
      "Subtask task2b: - run 0\n"
     ]
    },
    {
     "name": "stderr",
     "output_type": "stream",
     "text": [
      "[codecarbon WARNING @ 10:06:37] Already started tracking\n",
      "[codecarbon INFO @ 10:06:37] Energy consumed for RAM : 0.000002 kWh. RAM Power : 0.28000545501708984 W\n",
      "[codecarbon DEBUG @ 10:06:37] RAM : 0.28 W during 0.58 s [measurement time: 0.0070]\n",
      "[codecarbon INFO @ 10:06:37] Energy consumed for all GPUs : 0.000012 kWh. All GPUs Power : 1.0070000000000001 W\n",
      "[codecarbon DEBUG @ 10:06:37] GPU : 1.01 W during 0.60 s [measurement time: 0.0070]\n",
      "[codecarbon INFO @ 10:06:37] Energy consumed for all CPUs : 0.000335 kWh. All CPUs Power : 27.0 W\n",
      "[codecarbon DEBUG @ 10:06:37] CPU : 27.00 W during 0.61 s [measurement time: 0.0010]\n",
      "[codecarbon INFO @ 10:06:37] 0.000350 kWh of electricity used since the begining.\n",
      "[codecarbon DEBUG @ 10:06:37] last_duration=0.6098499298095703\n",
      "------------------------\n",
      "[codecarbon DEBUG @ 10:06:37] We apply an energy mix of 363 g.CO2eq/kWh for Chile\n",
      "[codecarbon DEBUG @ 10:06:37] EmissionsData(timestamp='2023-04-25T10:06:37', project_name='codecarbon', run_id='cbcdde9b-da5f-4b0a-8c6b-7636ca066156', duration=44.82895374298096, emissions=0.00012694597994295642, emissions_rate=0.002831785472192352, cpu_power=27.0, gpu_power=1.0070000000000001, ram_power=0.28000545501708984, cpu_energy=0.00033499148368835443, gpu_energy=1.2290760854350199e-05, ram_energy=2.3693603486483994e-06, energy_consumed=0.00034965160489135297, country_name='Chile', country_iso_code='CHL', region='santiago metropolitan', cloud_provider='', cloud_region='', os='Windows-10-10.0.19045-SP0', python_version='3.10.10', cpu_count=12, cpu_model='AMD Ryzen 5 4600H with Radeon Graphics', gpu_count=1, gpu_model='1 x NVIDIA GeForce GTX 1650', longitude=-70.5937, latitude=-33.4653, ram_total_size=15.372379302978516, tracking_mode='process', on_cloud='N')\n"
     ]
    },
    {
     "name": "stdout",
     "output_type": "stream",
     "text": [
      "------------------- Processing round 71\n",
      "las decisiones son: {'subject1': 0, 'subject10': 1, 'subject100': 1, 'subject102': 1, 'subject103': 0, 'subject105': 1, 'subject107': 0, 'subject120': 1, 'subject206': 1, 'subject210': 1}\n",
      "Subtask task2a: - run 0\n",
      "las decisiones son: {'subject1': 0.13049750143124303, 'subject10': 0.9835408608682419, 'subject100': 0.8738327565421639, 'subject102': 0.8105366147259244, 'subject103': 0.3849304855693089, 'subject105': 0.5633977311001394, 'subject107': 0.44057692975568924, 'subject120': 0.508716474379422, 'subject206': 0.8637861203220178, 'subject210': 0.8969054627560974}\n",
      "Subtask task2b: - run 0\n"
     ]
    },
    {
     "name": "stderr",
     "output_type": "stream",
     "text": [
      "[codecarbon WARNING @ 10:06:38] Already started tracking\n",
      "[codecarbon INFO @ 10:06:38] Energy consumed for RAM : 0.000002 kWh. RAM Power : 0.280059814453125 W\n",
      "[codecarbon DEBUG @ 10:06:38] RAM : 0.28 W during 0.60 s [measurement time: 0.0072]\n",
      "[codecarbon INFO @ 10:06:38] Energy consumed for all GPUs : 0.000012 kWh. All GPUs Power : 1.047 W\n",
      "[codecarbon DEBUG @ 10:06:38] GPU : 1.05 W during 0.61 s [measurement time: 0.0070]\n",
      "[codecarbon INFO @ 10:06:38] Energy consumed for all CPUs : 0.000340 kWh. All CPUs Power : 27.0 W\n",
      "[codecarbon DEBUG @ 10:06:38] CPU : 27.00 W during 0.62 s [measurement time: 0.0010]\n",
      "[codecarbon INFO @ 10:06:38] 0.000355 kWh of electricity used since the begining.\n",
      "[codecarbon DEBUG @ 10:06:38] last_duration=0.6219561100006104\n",
      "------------------------\n",
      "[codecarbon DEBUG @ 10:06:38] We apply an energy mix of 363 g.CO2eq/kWh for Chile\n",
      "[codecarbon DEBUG @ 10:06:38] EmissionsData(timestamp='2023-04-25T10:06:38', project_name='codecarbon', run_id='cbcdde9b-da5f-4b0a-8c6b-7636ca066156', duration=45.452913761138916, emissions=0.00012872079352231798, emissions_rate=0.0028319591170494107, cpu_power=27.0, gpu_power=1.047, ram_power=0.280059814453125, cpu_energy=0.000339656154513359, gpu_energy=1.2468157577382197e-05, ram_energy=2.415721852761313e-06, energy_consumed=0.00035454003394350245, country_name='Chile', country_iso_code='CHL', region='santiago metropolitan', cloud_provider='', cloud_region='', os='Windows-10-10.0.19045-SP0', python_version='3.10.10', cpu_count=12, cpu_model='AMD Ryzen 5 4600H with Radeon Graphics', gpu_count=1, gpu_model='1 x NVIDIA GeForce GTX 1650', longitude=-70.5937, latitude=-33.4653, ram_total_size=15.372379302978516, tracking_mode='process', on_cloud='N')\n"
     ]
    },
    {
     "name": "stdout",
     "output_type": "stream",
     "text": [
      "------------------- Processing round 72\n",
      "las decisiones son: {'subject1': 0, 'subject10': 1, 'subject100': 1, 'subject102': 1, 'subject103': 0, 'subject105': 1, 'subject107': 0, 'subject120': 1, 'subject206': 1, 'subject210': 1}\n",
      "Subtask task2a: - run 0\n",
      "las decisiones son: {'subject1': 0.13049750143124303, 'subject10': 0.9835408608682419, 'subject100': 0.8738327565421639, 'subject102': 0.8257927476578402, 'subject103': 0.38235010803421693, 'subject105': 0.5789842457803626, 'subject107': 0.4445832914872152, 'subject120': 0.508716474379422, 'subject206': 0.8544010251389301, 'subject210': 0.8969054627560974}\n",
      "Subtask task2b: - run 0\n"
     ]
    },
    {
     "name": "stderr",
     "output_type": "stream",
     "text": [
      "[codecarbon WARNING @ 10:06:39] Already started tracking\n",
      "[codecarbon INFO @ 10:06:39] Energy consumed for RAM : 0.000002 kWh. RAM Power : 0.16324710845947266 W\n",
      "[codecarbon DEBUG @ 10:06:39] RAM : 0.16 W during 0.81 s [measurement time: 0.0070]\n",
      "[codecarbon INFO @ 10:06:39] Energy consumed for all GPUs : 0.000013 kWh. All GPUs Power : 1.024 W\n",
      "[codecarbon DEBUG @ 10:06:39] GPU : 1.02 W during 0.82 s [measurement time: 0.0070]\n",
      "[codecarbon INFO @ 10:06:39] Energy consumed for all CPUs : 0.000346 kWh. All CPUs Power : 27.0 W\n",
      "[codecarbon DEBUG @ 10:06:39] CPU : 27.00 W during 0.83 s [measurement time: 0.0010]\n",
      "[codecarbon INFO @ 10:06:39] 0.000361 kWh of electricity used since the begining.\n",
      "[codecarbon DEBUG @ 10:06:39] last_duration=0.8326435089111328\n",
      "------------------------\n",
      "[codecarbon DEBUG @ 10:06:39] We apply an energy mix of 363 g.CO2eq/kWh for Chile\n",
      "[codecarbon DEBUG @ 10:06:39] EmissionsData(timestamp='2023-04-25T10:06:39', project_name='codecarbon', run_id='cbcdde9b-da5f-4b0a-8c6b-7636ca066156', duration=46.287540912628174, emissions=0.00013108607742561826, emissions_rate=0.0028319948487446076, cpu_power=27.0, gpu_power=1.024, ram_power=0.16324710845947266, cpu_energy=0.0003459009808301925, gpu_energy=1.2701579954226815e-05, ram_energy=2.452254589611679e-06, energy_consumed=0.00036105481537403096, country_name='Chile', country_iso_code='CHL', region='santiago metropolitan', cloud_provider='', cloud_region='', os='Windows-10-10.0.19045-SP0', python_version='3.10.10', cpu_count=12, cpu_model='AMD Ryzen 5 4600H with Radeon Graphics', gpu_count=1, gpu_model='1 x NVIDIA GeForce GTX 1650', longitude=-70.5937, latitude=-33.4653, ram_total_size=15.372379302978516, tracking_mode='process', on_cloud='N')\n"
     ]
    },
    {
     "name": "stdout",
     "output_type": "stream",
     "text": [
      "------------------- Processing round 73\n",
      "las decisiones son: {'subject1': 0, 'subject10': 1, 'subject100': 1, 'subject102': 1, 'subject103': 0, 'subject105': 1, 'subject107': 0, 'subject120': 1, 'subject206': 1, 'subject210': 1}\n",
      "Subtask task2a: - run 0\n",
      "las decisiones son: {'subject1': 0.13049750143124303, 'subject10': 0.9835408608682419, 'subject100': 0.8738327565421639, 'subject102': 0.8709983136557877, 'subject103': 0.4413338399601204, 'subject105': 0.5782665210673874, 'subject107': 0.3986192738624081, 'subject120': 0.508716474379422, 'subject206': 0.8584586956409885, 'subject210': 0.8969054627560974}\n",
      "Subtask task2b: - run 0\n"
     ]
    },
    {
     "name": "stderr",
     "output_type": "stream",
     "text": [
      "[codecarbon WARNING @ 10:06:39] Already started tracking\n",
      "[codecarbon INFO @ 10:06:39] Energy consumed for RAM : 0.000002 kWh. RAM Power : 0.1696157455444336 W\n",
      "[codecarbon DEBUG @ 10:06:39] RAM : 0.17 W during 0.58 s [measurement time: 0.0080]\n",
      "[codecarbon INFO @ 10:06:39] Energy consumed for all GPUs : 0.000013 kWh. All GPUs Power : 1.018 W\n",
      "[codecarbon DEBUG @ 10:06:39] GPU : 1.02 W during 0.60 s [measurement time: 0.0070]\n",
      "[codecarbon INFO @ 10:06:39] Energy consumed for all CPUs : 0.000350 kWh. All CPUs Power : 27.0 W\n",
      "[codecarbon DEBUG @ 10:06:39] CPU : 27.00 W during 0.61 s [measurement time: 0.0010]\n",
      "[codecarbon INFO @ 10:06:39] 0.000366 kWh of electricity used since the begining.\n",
      "[codecarbon DEBUG @ 10:06:39] last_duration=0.6123790740966797\n",
      "------------------------\n",
      "[codecarbon DEBUG @ 10:06:39] We apply an energy mix of 363 g.CO2eq/kWh for Chile\n",
      "[codecarbon DEBUG @ 10:06:39] EmissionsData(timestamp='2023-04-25T10:06:39', project_name='codecarbon', run_id='cbcdde9b-da5f-4b0a-8c6b-7636ca066156', duration=46.9029221534729, emissions=0.00013282510689940552, emissions_rate=0.0028319153860986157, cpu_power=27.0, gpu_power=1.018, ram_power=0.1696157455444336, cpu_energy=0.0003504938238859176, gpu_energy=1.2871071168449193e-05, ram_energy=2.479787999887909e-06, energy_consumed=0.00036584468305425464, country_name='Chile', country_iso_code='CHL', region='santiago metropolitan', cloud_provider='', cloud_region='', os='Windows-10-10.0.19045-SP0', python_version='3.10.10', cpu_count=12, cpu_model='AMD Ryzen 5 4600H with Radeon Graphics', gpu_count=1, gpu_model='1 x NVIDIA GeForce GTX 1650', longitude=-70.5937, latitude=-33.4653, ram_total_size=15.372379302978516, tracking_mode='process', on_cloud='N')\n"
     ]
    },
    {
     "name": "stdout",
     "output_type": "stream",
     "text": [
      "------------------- Processing round 74\n",
      "las decisiones son: {'subject1': 0, 'subject10': 1, 'subject100': 1, 'subject102': 1, 'subject103': 0, 'subject105': 1, 'subject107': 0, 'subject120': 1, 'subject206': 1, 'subject210': 1}\n",
      "Subtask task2a: - run 0\n",
      "las decisiones son: {'subject1': 0.13049750143124303, 'subject10': 0.9835408608682419, 'subject100': 0.8738327565421639, 'subject102': 0.8727590079257532, 'subject103': 0.4480965898389094, 'subject105': 0.623416945478332, 'subject107': 0.39564535455042976, 'subject120': 0.508716474379422, 'subject206': 0.850014329486173, 'subject210': 0.8969054627560974}\n",
      "Subtask task2b: - run 0\n"
     ]
    },
    {
     "name": "stderr",
     "output_type": "stream",
     "text": [
      "[codecarbon WARNING @ 10:06:40] Already started tracking\n",
      "[codecarbon INFO @ 10:06:40] Energy consumed for RAM : 0.000003 kWh. RAM Power : 0.16980600357055664 W\n",
      "[codecarbon DEBUG @ 10:06:40] RAM : 0.17 W during 0.59 s [measurement time: 0.0070]\n",
      "[codecarbon INFO @ 10:06:40] Energy consumed for all GPUs : 0.000013 kWh. All GPUs Power : 1.0230000000000004 W\n",
      "[codecarbon DEBUG @ 10:06:40] GPU : 1.02 W during 0.61 s [measurement time: 0.0080]\n",
      "[codecarbon INFO @ 10:06:40] Energy consumed for all CPUs : 0.000355 kWh. All CPUs Power : 27.0 W\n",
      "[codecarbon DEBUG @ 10:06:40] CPU : 27.00 W during 0.62 s [measurement time: 0.0010]\n",
      "[codecarbon INFO @ 10:06:40] 0.000371 kWh of electricity used since the begining.\n",
      "[codecarbon DEBUG @ 10:06:40] last_duration=0.6201374530792236\n",
      "------------------------\n",
      "[codecarbon DEBUG @ 10:06:40] We apply an energy mix of 363 g.CO2eq/kWh for Chile\n",
      "[codecarbon DEBUG @ 10:06:40] EmissionsData(timestamp='2023-04-25T10:06:40', project_name='codecarbon', run_id='cbcdde9b-da5f-4b0a-8c6b-7636ca066156', duration=47.52506947517395, emissions=0.00013458652676790074, emissions_rate=0.002831905944676331, cpu_power=27.0, gpu_power=1.0230000000000004, ram_power=0.16980600357055664, cpu_energy=0.0003551448547840118, gpu_energy=1.3043600746459435e-05, ram_energy=2.5077658252217816e-06, energy_consumed=0.00037069622135569295, country_name='Chile', country_iso_code='CHL', region='santiago metropolitan', cloud_provider='', cloud_region='', os='Windows-10-10.0.19045-SP0', python_version='3.10.10', cpu_count=12, cpu_model='AMD Ryzen 5 4600H with Radeon Graphics', gpu_count=1, gpu_model='1 x NVIDIA GeForce GTX 1650', longitude=-70.5937, latitude=-33.4653, ram_total_size=15.372379302978516, tracking_mode='process', on_cloud='N')\n"
     ]
    },
    {
     "name": "stdout",
     "output_type": "stream",
     "text": [
      "------------------- Processing round 75\n",
      "las decisiones son: {'subject1': 0, 'subject10': 1, 'subject100': 1, 'subject102': 1, 'subject103': 0, 'subject105': 1, 'subject107': 0, 'subject120': 1, 'subject206': 1, 'subject210': 1}\n",
      "Subtask task2a: - run 0\n",
      "las decisiones son: {'subject1': 0.13049750143124303, 'subject10': 0.9835408608682419, 'subject100': 0.8738327565421639, 'subject102': 0.8795890764683689, 'subject103': 0.46139084164235455, 'subject105': 0.6305180138592205, 'subject107': 0.40847035111777025, 'subject120': 0.508716474379422, 'subject206': 0.8549638170117099, 'subject210': 0.8969054627560974}\n",
      "Subtask task2b: - run 0\n"
     ]
    },
    {
     "name": "stderr",
     "output_type": "stream",
     "text": [
      "[codecarbon WARNING @ 10:06:41] Already started tracking\n",
      "[codecarbon INFO @ 10:06:41] Energy consumed for RAM : 0.000003 kWh. RAM Power : 0.1766796112060547 W\n",
      "[codecarbon DEBUG @ 10:06:41] RAM : 0.18 W during 0.57 s [measurement time: 0.0070]\n",
      "[codecarbon INFO @ 10:06:41] Energy consumed for all GPUs : 0.000013 kWh. All GPUs Power : 1.0210000000000001 W\n",
      "[codecarbon DEBUG @ 10:06:41] GPU : 1.02 W during 0.59 s [measurement time: 0.0070]\n",
      "[codecarbon INFO @ 10:06:41] Energy consumed for all CPUs : 0.000360 kWh. All CPUs Power : 27.0 W\n",
      "[codecarbon DEBUG @ 10:06:41] CPU : 27.00 W during 0.60 s [measurement time: 0.0010]\n",
      "[codecarbon INFO @ 10:06:41] 0.000375 kWh of electricity used since the begining.\n",
      "[codecarbon DEBUG @ 10:06:41] last_duration=0.6019248962402344\n",
      "------------------------\n",
      "[codecarbon DEBUG @ 10:06:41] We apply an energy mix of 363 g.CO2eq/kWh for Chile\n",
      "[codecarbon DEBUG @ 10:06:41] EmissionsData(timestamp='2023-04-25T10:06:41', project_name='codecarbon', run_id='cbcdde9b-da5f-4b0a-8c6b-7636ca066156', duration=48.13000154495239, emissions=0.0001362964424077579, emissions_rate=0.0028318395602057052, cpu_power=27.0, gpu_power=1.0210000000000001, ram_power=0.1766796112060547, cpu_energy=0.00035965929150581354, gpu_energy=1.3210627131197191e-05, ram_energy=2.535981181706764e-06, energy_consumed=0.0003754058998187174, country_name='Chile', country_iso_code='CHL', region='santiago metropolitan', cloud_provider='', cloud_region='', os='Windows-10-10.0.19045-SP0', python_version='3.10.10', cpu_count=12, cpu_model='AMD Ryzen 5 4600H with Radeon Graphics', gpu_count=1, gpu_model='1 x NVIDIA GeForce GTX 1650', longitude=-70.5937, latitude=-33.4653, ram_total_size=15.372379302978516, tracking_mode='process', on_cloud='N')\n"
     ]
    },
    {
     "name": "stdout",
     "output_type": "stream",
     "text": [
      "------------------- Processing round 76\n",
      "las decisiones son: {'subject1': 0, 'subject10': 1, 'subject100': 1, 'subject102': 1, 'subject103': 0, 'subject105': 1, 'subject107': 0, 'subject120': 1, 'subject206': 1, 'subject210': 1}\n",
      "Subtask task2a: - run 0\n",
      "las decisiones son: {'subject1': 0.13049750143124303, 'subject10': 0.9835408608682419, 'subject100': 0.8738327565421639, 'subject102': 0.8854237220381449, 'subject103': 0.483703164952813, 'subject105': 0.6278051496204563, 'subject107': 0.4114622795181127, 'subject120': 0.508716474379422, 'subject206': 0.855298184466293, 'subject210': 0.8969054627560974}\n",
      "Subtask task2b: - run 0\n"
     ]
    },
    {
     "name": "stderr",
     "output_type": "stream",
     "text": [
      "[codecarbon WARNING @ 10:06:41] Already started tracking\n",
      "[codecarbon INFO @ 10:06:41] Energy consumed for RAM : 0.000003 kWh. RAM Power : 0.18401098251342773 W\n",
      "[codecarbon DEBUG @ 10:06:41] RAM : 0.18 W during 0.59 s [measurement time: 0.0070]\n",
      "[codecarbon INFO @ 10:06:41] Energy consumed for all GPUs : 0.000013 kWh. All GPUs Power : 1.0130000000000001 W\n",
      "[codecarbon DEBUG @ 10:06:41] GPU : 1.01 W during 0.60 s [measurement time: 0.0070]\n",
      "[codecarbon INFO @ 10:06:41] Energy consumed for all CPUs : 0.000364 kWh. All CPUs Power : 27.0 W\n",
      "[codecarbon DEBUG @ 10:06:41] CPU : 27.00 W during 0.61 s [measurement time: 0.0010]\n",
      "[codecarbon INFO @ 10:06:41] 0.000380 kWh of electricity used since the begining.\n",
      "[codecarbon DEBUG @ 10:06:41] last_duration=0.6144006252288818\n",
      "------------------------\n",
      "[codecarbon DEBUG @ 10:06:41] We apply an energy mix of 363 g.CO2eq/kWh for Chile\n",
      "[codecarbon DEBUG @ 10:06:41] EmissionsData(timestamp='2023-04-25T10:06:41', project_name='codecarbon', run_id='cbcdde9b-da5f-4b0a-8c6b-7636ca066156', duration=48.74639821052551, emissions=0.0001380418870259762, emissions_rate=0.002831837676084336, cpu_power=27.0, gpu_power=1.0130000000000001, ram_power=0.18401098251342773, cpu_energy=0.00036426729619503013, gpu_energy=1.3380135346386172e-05, ram_energy=2.566005406741946e-06, energy_consumed=0.0003802134369481581, country_name='Chile', country_iso_code='CHL', region='santiago metropolitan', cloud_provider='', cloud_region='', os='Windows-10-10.0.19045-SP0', python_version='3.10.10', cpu_count=12, cpu_model='AMD Ryzen 5 4600H with Radeon Graphics', gpu_count=1, gpu_model='1 x NVIDIA GeForce GTX 1650', longitude=-70.5937, latitude=-33.4653, ram_total_size=15.372379302978516, tracking_mode='process', on_cloud='N')\n"
     ]
    },
    {
     "name": "stdout",
     "output_type": "stream",
     "text": [
      "------------------- Processing round 77\n",
      "las decisiones son: {'subject1': 0, 'subject10': 1, 'subject100': 1, 'subject102': 1, 'subject103': 0, 'subject105': 1, 'subject107': 0, 'subject120': 1, 'subject206': 1, 'subject210': 1}\n",
      "Subtask task2a: - run 0\n",
      "las decisiones son: {'subject1': 0.13049750143124303, 'subject10': 0.9835408608682419, 'subject100': 0.8738327565421639, 'subject102': 0.9177374237943017, 'subject103': 0.48336924530515724, 'subject105': 0.603395638723015, 'subject107': 0.3881080500764967, 'subject120': 0.508716474379422, 'subject206': 0.8563382157591416, 'subject210': 0.8969054627560974}\n",
      "Subtask task2b: - run 0\n"
     ]
    },
    {
     "name": "stderr",
     "output_type": "stream",
     "text": [
      "[codecarbon WARNING @ 10:06:42] Already started tracking\n",
      "[codecarbon INFO @ 10:06:42] Energy consumed for RAM : 0.000003 kWh. RAM Power : 0.1838850975036621 W\n",
      "[codecarbon DEBUG @ 10:06:42] RAM : 0.18 W during 0.58 s [measurement time: 0.0070]\n",
      "[codecarbon INFO @ 10:06:42] Energy consumed for all GPUs : 0.000014 kWh. All GPUs Power : 1.0070000000000001 W\n",
      "[codecarbon DEBUG @ 10:06:42] GPU : 1.02 W during 0.60 s [measurement time: 0.0070]\n",
      "[codecarbon INFO @ 10:06:42] Energy consumed for all CPUs : 0.000369 kWh. All CPUs Power : 27.0 W\n",
      "[codecarbon DEBUG @ 10:06:42] CPU : 27.00 W during 0.61 s [measurement time: 0.0020]\n",
      "[codecarbon INFO @ 10:06:42] 0.000385 kWh of electricity used since the begining.\n",
      "[codecarbon DEBUG @ 10:06:42] last_duration=0.6080009937286377\n",
      "------------------------\n",
      "[codecarbon DEBUG @ 10:06:42] We apply an energy mix of 363 g.CO2eq/kWh for Chile\n",
      "[codecarbon DEBUG @ 10:06:42] EmissionsData(timestamp='2023-04-25T10:06:42', project_name='codecarbon', run_id='cbcdde9b-da5f-4b0a-8c6b-7636ca066156', duration=49.35839366912842, emissions=0.0001397688855519222, emissions_rate=0.0028317146317373316, cpu_power=27.0, gpu_power=1.0070000000000001, ram_power=0.1838850975036621, cpu_energy=0.0003688273036479949, gpu_energy=1.3547130881018113e-05, ram_energy=2.595732852935744e-06, energy_consumed=0.00038497016738194863, country_name='Chile', country_iso_code='CHL', region='santiago metropolitan', cloud_provider='', cloud_region='', os='Windows-10-10.0.19045-SP0', python_version='3.10.10', cpu_count=12, cpu_model='AMD Ryzen 5 4600H with Radeon Graphics', gpu_count=1, gpu_model='1 x NVIDIA GeForce GTX 1650', longitude=-70.5937, latitude=-33.4653, ram_total_size=15.372379302978516, tracking_mode='process', on_cloud='N')\n"
     ]
    },
    {
     "name": "stdout",
     "output_type": "stream",
     "text": [
      "------------------- Processing round 78\n",
      "las decisiones son: {'subject1': 0, 'subject10': 1, 'subject100': 1, 'subject102': 1, 'subject103': 0, 'subject105': 1, 'subject107': 0, 'subject120': 1, 'subject206': 1, 'subject210': 1}\n",
      "Subtask task2a: - run 0\n",
      "las decisiones son: {'subject1': 0.13049750143124303, 'subject10': 0.9835408608682419, 'subject100': 0.8738327565421639, 'subject102': 0.9182281166411334, 'subject103': 0.4475067616697236, 'subject105': 0.5986867628170561, 'subject107': 0.4027900751428721, 'subject120': 0.508716474379422, 'subject206': 0.8353109609522463, 'subject210': 0.8969054627560974}\n",
      "Subtask task2b: - run 0\n"
     ]
    },
    {
     "name": "stderr",
     "output_type": "stream",
     "text": [
      "[codecarbon WARNING @ 10:06:42] Already started tracking\n",
      "[codecarbon INFO @ 10:06:42] Energy consumed for RAM : 0.000003 kWh. RAM Power : 0.19106626510620117 W\n",
      "[codecarbon DEBUG @ 10:06:42] RAM : 0.19 W during 0.59 s [measurement time: 0.0070]\n",
      "[codecarbon INFO @ 10:06:43] Energy consumed for all GPUs : 0.000014 kWh. All GPUs Power : 1.0090000000000001 W\n",
      "[codecarbon DEBUG @ 10:06:43] GPU : 1.01 W during 0.61 s [measurement time: 0.0080]\n",
      "[codecarbon INFO @ 10:06:43] Energy consumed for all CPUs : 0.000373 kWh. All CPUs Power : 27.0 W\n",
      "[codecarbon DEBUG @ 10:06:43] CPU : 27.00 W during 0.62 s [measurement time: 0.0010]\n",
      "[codecarbon INFO @ 10:06:43] 0.000390 kWh of electricity used since the begining.\n",
      "[codecarbon DEBUG @ 10:06:43] last_duration=0.620661735534668\n",
      "------------------------\n",
      "[codecarbon DEBUG @ 10:06:43] We apply an energy mix of 363 g.CO2eq/kWh for Chile\n",
      "[codecarbon DEBUG @ 10:06:43] EmissionsData(timestamp='2023-04-25T10:06:43', project_name='codecarbon', run_id='cbcdde9b-da5f-4b0a-8c6b-7636ca066156', duration=49.98006629943848, emissions=0.00014153207020972084, emissions_rate=0.0028317703574417016, cpu_power=27.0, gpu_power=1.0090000000000001, ram_power=0.19106626510620117, cpu_energy=0.0003734822666645049, gpu_energy=1.3717165369457673e-05, ram_energy=2.6271344682744293e-06, energy_consumed=0.0003898265665022369, country_name='Chile', country_iso_code='CHL', region='santiago metropolitan', cloud_provider='', cloud_region='', os='Windows-10-10.0.19045-SP0', python_version='3.10.10', cpu_count=12, cpu_model='AMD Ryzen 5 4600H with Radeon Graphics', gpu_count=1, gpu_model='1 x NVIDIA GeForce GTX 1650', longitude=-70.5937, latitude=-33.4653, ram_total_size=15.372379302978516, tracking_mode='process', on_cloud='N')\n"
     ]
    },
    {
     "name": "stdout",
     "output_type": "stream",
     "text": [
      "------------------- Processing round 79\n",
      "las decisiones son: {'subject1': 0, 'subject10': 1, 'subject100': 1, 'subject102': 1, 'subject103': 0, 'subject105': 1, 'subject107': 1, 'subject120': 1, 'subject206': 1, 'subject210': 1}\n",
      "Subtask task2a: - run 0\n",
      "las decisiones son: {'subject1': 0.13049750143124303, 'subject10': 0.9835408608682419, 'subject100': 0.8738327565421639, 'subject102': 0.9182385215344391, 'subject103': 0.44017111239729223, 'subject105': 0.5951137728397742, 'subject107': 0.5631314464153183, 'subject120': 0.508716474379422, 'subject206': 0.8311593998890038, 'subject210': 0.8969054627560974}\n",
      "Subtask task2b: - run 0\n"
     ]
    },
    {
     "name": "stderr",
     "output_type": "stream",
     "text": [
      "[codecarbon WARNING @ 10:06:43] Already started tracking\n",
      "[codecarbon INFO @ 10:06:43] Energy consumed for RAM : 0.000003 kWh. RAM Power : 0.19834184646606448 W\n",
      "[codecarbon DEBUG @ 10:06:43] RAM : 0.20 W during 0.58 s [measurement time: 0.0072]\n",
      "[codecarbon INFO @ 10:06:43] Energy consumed for all GPUs : 0.000014 kWh. All GPUs Power : 1.036 W\n",
      "[codecarbon DEBUG @ 10:06:43] GPU : 1.04 W during 0.59 s [measurement time: 0.0070]\n",
      "[codecarbon INFO @ 10:06:43] Energy consumed for all CPUs : 0.000378 kWh. All CPUs Power : 27.0 W\n",
      "[codecarbon DEBUG @ 10:06:43] CPU : 27.00 W during 0.60 s [measurement time: 0.0000]\n",
      "[codecarbon INFO @ 10:06:43] 0.000395 kWh of electricity used since the begining.\n",
      "[codecarbon DEBUG @ 10:06:43] last_duration=0.6021864414215088\n",
      "------------------------\n",
      "[codecarbon DEBUG @ 10:06:43] We apply an energy mix of 363 g.CO2eq/kWh for Chile\n",
      "[codecarbon DEBUG @ 10:06:43] EmissionsData(timestamp='2023-04-25T10:06:43', project_name='codecarbon', run_id='cbcdde9b-da5f-4b0a-8c6b-7636ca066156', duration=50.584242820739746, emissions=0.00014324500087131687, emissions_rate=0.002831810715818125, cpu_power=27.0, gpu_power=1.036, ram_power=0.19834184646606448, cpu_energy=0.0003779986649751662, gpu_energy=1.3887006035380897e-05, ram_energy=2.658878331034581e-06, energy_consumed=0.00039454454934158154, country_name='Chile', country_iso_code='CHL', region='santiago metropolitan', cloud_provider='', cloud_region='', os='Windows-10-10.0.19045-SP0', python_version='3.10.10', cpu_count=12, cpu_model='AMD Ryzen 5 4600H with Radeon Graphics', gpu_count=1, gpu_model='1 x NVIDIA GeForce GTX 1650', longitude=-70.5937, latitude=-33.4653, ram_total_size=15.372379302978516, tracking_mode='process', on_cloud='N')\n"
     ]
    },
    {
     "name": "stdout",
     "output_type": "stream",
     "text": [
      "------------------- Processing round 80\n",
      "las decisiones son: {'subject1': 0, 'subject10': 1, 'subject100': 1, 'subject102': 1, 'subject103': 0, 'subject105': 1, 'subject107': 1, 'subject120': 1, 'subject206': 1, 'subject210': 1}\n",
      "Subtask task2a: - run 0\n",
      "las decisiones son: {'subject1': 0.13049750143124303, 'subject10': 0.9835408608682419, 'subject100': 0.8738327565421639, 'subject102': 0.9117539049888276, 'subject103': 0.42220469480899797, 'subject105': 0.5951137728397742, 'subject107': 0.634323996317762, 'subject120': 0.508716474379422, 'subject206': 0.8249859765786893, 'subject210': 0.8969054627560974}\n",
      "Subtask task2b: - run 0\n"
     ]
    },
    {
     "name": "stderr",
     "output_type": "stream",
     "text": [
      "[codecarbon WARNING @ 10:06:44] Already started tracking\n",
      "[codecarbon INFO @ 10:06:44] Energy consumed for RAM : 0.000003 kWh. RAM Power : 0.19832611083984375 W\n",
      "[codecarbon DEBUG @ 10:06:44] RAM : 0.20 W during 0.58 s [measurement time: 0.0070]\n",
      "[codecarbon INFO @ 10:06:44] Energy consumed for all GPUs : 0.000014 kWh. All GPUs Power : 1.0030000000000001 W\n",
      "[codecarbon DEBUG @ 10:06:44] GPU : 1.00 W during 0.59 s [measurement time: 0.0070]\n",
      "[codecarbon INFO @ 10:06:44] Energy consumed for all CPUs : 0.000383 kWh. All CPUs Power : 27.0 W\n",
      "[codecarbon DEBUG @ 10:06:44] CPU : 27.00 W during 0.60 s [measurement time: 0.0010]\n",
      "[codecarbon INFO @ 10:06:44] 0.000399 kWh of electricity used since the begining.\n",
      "[codecarbon DEBUG @ 10:06:44] last_duration=0.6030988693237305\n",
      "------------------------\n",
      "[codecarbon DEBUG @ 10:06:44] We apply an energy mix of 363 g.CO2eq/kWh for Chile\n",
      "[codecarbon DEBUG @ 10:06:44] EmissionsData(timestamp='2023-04-25T10:06:44', project_name='codecarbon', run_id='cbcdde9b-da5f-4b0a-8c6b-7636ca066156', duration=51.18934607505798, emissions=0.0001449584431266848, emissions_rate=0.002831808847765606, cpu_power=27.0, gpu_power=1.0030000000000001, ram_power=0.19832611083984375, cpu_energy=0.00038252190649509414, gpu_energy=1.40514191822211e-05, ram_energy=2.690615603635251e-06, energy_consumed=0.00039926394128095034, country_name='Chile', country_iso_code='CHL', region='santiago metropolitan', cloud_provider='', cloud_region='', os='Windows-10-10.0.19045-SP0', python_version='3.10.10', cpu_count=12, cpu_model='AMD Ryzen 5 4600H with Radeon Graphics', gpu_count=1, gpu_model='1 x NVIDIA GeForce GTX 1650', longitude=-70.5937, latitude=-33.4653, ram_total_size=15.372379302978516, tracking_mode='process', on_cloud='N')\n"
     ]
    },
    {
     "name": "stdout",
     "output_type": "stream",
     "text": [
      "------------------- Processing round 81\n",
      "las decisiones son: {'subject1': 0, 'subject10': 1, 'subject100': 1, 'subject102': 1, 'subject103': 0, 'subject105': 1, 'subject107': 1, 'subject120': 1, 'subject206': 1, 'subject210': 1}\n",
      "Subtask task2a: - run 0\n",
      "las decisiones son: {'subject1': 0.13049750143124303, 'subject10': 0.9835408608682419, 'subject100': 0.8738327565421639, 'subject102': 0.9158639260058408, 'subject103': 0.4513773041911459, 'subject105': 0.5943914219339633, 'subject107': 0.6266629202308417, 'subject120': 0.508716474379422, 'subject206': 0.8178306642517947, 'subject210': 0.8969054627560974}\n",
      "Subtask task2b: - run 0\n"
     ]
    },
    {
     "name": "stderr",
     "output_type": "stream",
     "text": [
      "[codecarbon WARNING @ 10:06:44] Already started tracking\n",
      "[codecarbon INFO @ 10:06:44] Energy consumed for RAM : 0.000003 kWh. RAM Power : 0.20537281036376956 W\n",
      "[codecarbon DEBUG @ 10:06:44] RAM : 0.21 W during 0.58 s [measurement time: 0.0069]\n",
      "[codecarbon INFO @ 10:06:44] Energy consumed for all GPUs : 0.000014 kWh. All GPUs Power : 1.0030000000000001 W\n",
      "[codecarbon DEBUG @ 10:06:44] GPU : 1.00 W during 0.60 s [measurement time: 0.0070]\n",
      "[codecarbon INFO @ 10:06:44] Energy consumed for all CPUs : 0.000387 kWh. All CPUs Power : 27.0 W\n",
      "[codecarbon DEBUG @ 10:06:44] CPU : 27.00 W during 0.61 s [measurement time: 0.0020]\n",
      "[codecarbon INFO @ 10:06:44] 0.000404 kWh of electricity used since the begining.\n",
      "[codecarbon DEBUG @ 10:06:44] last_duration=0.6095731258392334\n",
      "------------------------\n",
      "[codecarbon DEBUG @ 10:06:44] We apply an energy mix of 363 g.CO2eq/kWh for Chile\n",
      "[codecarbon DEBUG @ 10:06:44] EmissionsData(timestamp='2023-04-25T10:06:44', project_name='codecarbon', run_id='cbcdde9b-da5f-4b0a-8c6b-7636ca066156', duration=51.801915407180786, emissions=0.00014669081492982262, emissions_rate=0.0028317643040181545, cpu_power=27.0, gpu_power=1.0030000000000001, ram_power=0.20537281036376956, cpu_energy=0.0003870937049388884, gpu_energy=1.4217909139990812e-05, ram_energy=2.723857434914028e-06, energy_consumed=0.0004040354715137931, country_name='Chile', country_iso_code='CHL', region='santiago metropolitan', cloud_provider='', cloud_region='', os='Windows-10-10.0.19045-SP0', python_version='3.10.10', cpu_count=12, cpu_model='AMD Ryzen 5 4600H with Radeon Graphics', gpu_count=1, gpu_model='1 x NVIDIA GeForce GTX 1650', longitude=-70.5937, latitude=-33.4653, ram_total_size=15.372379302978516, tracking_mode='process', on_cloud='N')\n"
     ]
    },
    {
     "name": "stdout",
     "output_type": "stream",
     "text": [
      "------------------- Processing round 82\n",
      "las decisiones son: {'subject1': 0, 'subject10': 1, 'subject100': 1, 'subject102': 1, 'subject103': 0, 'subject105': 1, 'subject107': 1, 'subject120': 1, 'subject206': 1, 'subject210': 1}\n",
      "Subtask task2a: - run 0\n",
      "las decisiones son: {'subject1': 0.13049750143124303, 'subject10': 0.9835408608682419, 'subject100': 0.8738327565421639, 'subject102': 0.9256802480128484, 'subject103': 0.36536476408979757, 'subject105': 0.5669845769404821, 'subject107': 0.5822871731997677, 'subject120': 0.508716474379422, 'subject206': 0.8138393964784335, 'subject210': 0.8969054627560974}\n",
      "Subtask task2b: - run 0\n"
     ]
    },
    {
     "name": "stderr",
     "output_type": "stream",
     "text": [
      "[codecarbon WARNING @ 10:06:45] Already started tracking\n",
      "[codecarbon INFO @ 10:06:45] Energy consumed for RAM : 0.000003 kWh. RAM Power : 0.21712589263916016 W\n",
      "[codecarbon DEBUG @ 10:06:45] RAM : 0.22 W during 0.57 s [measurement time: 0.0075]\n",
      "[codecarbon INFO @ 10:06:45] Energy consumed for all GPUs : 0.000014 kWh. All GPUs Power : 1.0090000000000001 W\n",
      "[codecarbon DEBUG @ 10:06:45] GPU : 1.01 W during 0.59 s [measurement time: 0.0070]\n",
      "[codecarbon INFO @ 10:06:45] Energy consumed for all CPUs : 0.000392 kWh. All CPUs Power : 27.0 W\n",
      "[codecarbon DEBUG @ 10:06:45] CPU : 27.00 W during 0.60 s [measurement time: 0.0010]\n",
      "[codecarbon INFO @ 10:06:45] 0.000409 kWh of electricity used since the begining.\n",
      "[codecarbon DEBUG @ 10:06:45] last_duration=0.5974330902099609\n",
      "------------------------\n",
      "[codecarbon DEBUG @ 10:06:45] We apply an energy mix of 363 g.CO2eq/kWh for Chile\n",
      "[codecarbon DEBUG @ 10:06:45] EmissionsData(timestamp='2023-04-25T10:06:45', project_name='codecarbon', run_id='cbcdde9b-da5f-4b0a-8c6b-7636ca066156', duration=52.40134787559509, emissions=0.000148389666611679, emissions_rate=0.002831791024993626, cpu_power=27.0, gpu_power=1.0090000000000001, ram_power=0.21712589263916016, cpu_energy=0.00039157445311546307, gpu_energy=1.4381992133326005e-05, ram_energy=2.758230894409242e-06, energy_consumed=0.0004087146761431982, country_name='Chile', country_iso_code='CHL', region='santiago metropolitan', cloud_provider='', cloud_region='', os='Windows-10-10.0.19045-SP0', python_version='3.10.10', cpu_count=12, cpu_model='AMD Ryzen 5 4600H with Radeon Graphics', gpu_count=1, gpu_model='1 x NVIDIA GeForce GTX 1650', longitude=-70.5937, latitude=-33.4653, ram_total_size=15.372379302978516, tracking_mode='process', on_cloud='N')\n"
     ]
    },
    {
     "name": "stdout",
     "output_type": "stream",
     "text": [
      "------------------- Processing round 83\n",
      "las decisiones son: {'subject1': 0, 'subject10': 1, 'subject100': 1, 'subject102': 1, 'subject103': 0, 'subject105': 1, 'subject107': 1, 'subject120': 1, 'subject206': 1, 'subject210': 1}\n",
      "Subtask task2a: - run 0\n",
      "las decisiones son: {'subject1': 0.13049750143124303, 'subject10': 0.9835408608682419, 'subject100': 0.8738327565421639, 'subject102': 0.9250796438223337, 'subject103': 0.3707663344368583, 'subject105': 0.5781244412308122, 'subject107': 0.5887565377895174, 'subject120': 0.508716474379422, 'subject206': 0.8248783920252646, 'subject210': 0.8969054627560974}\n",
      "Subtask task2b: - run 0\n"
     ]
    },
    {
     "name": "stderr",
     "output_type": "stream",
     "text": [
      "[codecarbon WARNING @ 10:06:46] Already started tracking\n",
      "[codecarbon INFO @ 10:06:46] Energy consumed for RAM : 0.000003 kWh. RAM Power : 0.21705293655395508 W\n",
      "[codecarbon DEBUG @ 10:06:46] RAM : 0.22 W during 0.59 s [measurement time: 0.0070]\n",
      "[codecarbon INFO @ 10:06:46] Energy consumed for all GPUs : 0.000015 kWh. All GPUs Power : 1.0030000000000001 W\n",
      "[codecarbon DEBUG @ 10:06:46] GPU : 1.00 W during 0.61 s [measurement time: 0.0070]\n",
      "[codecarbon INFO @ 10:06:46] Energy consumed for all CPUs : 0.000396 kWh. All CPUs Power : 27.0 W\n",
      "[codecarbon DEBUG @ 10:06:46] CPU : 27.00 W during 0.62 s [measurement time: 0.0010]\n",
      "[codecarbon INFO @ 10:06:46] 0.000414 kWh of electricity used since the begining.\n",
      "[codecarbon DEBUG @ 10:06:46] last_duration=0.6200108528137207\n",
      "------------------------\n",
      "[codecarbon DEBUG @ 10:06:46] We apply an energy mix of 363 g.CO2eq/kWh for Chile\n",
      "[codecarbon DEBUG @ 10:06:46] EmissionsData(timestamp='2023-04-25T10:06:46', project_name='codecarbon', run_id='cbcdde9b-da5f-4b0a-8c6b-7636ca066156', duration=53.022350549697876, emissions=0.00015015232738691342, emissions_rate=0.002831868557886274, cpu_power=27.0, gpu_power=1.0030000000000001, ram_power=0.21705293655395508, cpu_energy=0.00039622453451156596, gpu_energy=1.4551113227539597e-05, ram_energy=2.7939845769207255e-06, energy_consumed=0.00041356963231602617, country_name='Chile', country_iso_code='CHL', region='santiago metropolitan', cloud_provider='', cloud_region='', os='Windows-10-10.0.19045-SP0', python_version='3.10.10', cpu_count=12, cpu_model='AMD Ryzen 5 4600H with Radeon Graphics', gpu_count=1, gpu_model='1 x NVIDIA GeForce GTX 1650', longitude=-70.5937, latitude=-33.4653, ram_total_size=15.372379302978516, tracking_mode='process', on_cloud='N')\n"
     ]
    },
    {
     "name": "stdout",
     "output_type": "stream",
     "text": [
      "------------------- Processing round 84\n",
      "las decisiones son: {'subject1': 0, 'subject10': 1, 'subject100': 1, 'subject102': 1, 'subject103': 0, 'subject105': 1, 'subject107': 1, 'subject120': 1, 'subject206': 1, 'subject210': 1}\n",
      "Subtask task2a: - run 0\n",
      "las decisiones son: {'subject1': 0.13049750143124303, 'subject10': 0.9835408608682419, 'subject100': 0.8738327565421639, 'subject102': 0.9228031682933842, 'subject103': 0.4385549693656154, 'subject105': 0.5347611982022766, 'subject107': 0.546035230183561, 'subject120': 0.508716474379422, 'subject206': 0.7916555172560963, 'subject210': 0.8969054627560974}\n",
      "Subtask task2b: - run 0\n"
     ]
    },
    {
     "name": "stderr",
     "output_type": "stream",
     "text": [
      "[codecarbon WARNING @ 10:06:46] Already started tracking\n",
      "[codecarbon INFO @ 10:06:46] Energy consumed for RAM : 0.000003 kWh. RAM Power : 0.22994613647460938 W\n",
      "[codecarbon DEBUG @ 10:06:46] RAM : 0.23 W during 0.59 s [measurement time: 0.0070]\n",
      "[codecarbon INFO @ 10:06:46] Energy consumed for all GPUs : 0.000015 kWh. All GPUs Power : 1.025 W\n",
      "[codecarbon DEBUG @ 10:06:46] GPU : 1.02 W during 0.60 s [measurement time: 0.0070]\n",
      "[codecarbon INFO @ 10:06:46] Energy consumed for all CPUs : 0.000401 kWh. All CPUs Power : 27.0 W\n",
      "[codecarbon DEBUG @ 10:06:46] CPU : 27.00 W during 0.61 s [measurement time: 0.0010]\n",
      "[codecarbon INFO @ 10:06:46] 0.000418 kWh of electricity used since the begining.\n",
      "[codecarbon DEBUG @ 10:06:46] last_duration=0.6141557693481445\n",
      "------------------------\n",
      "[codecarbon DEBUG @ 10:06:46] We apply an energy mix of 363 g.CO2eq/kWh for Chile\n",
      "[codecarbon DEBUG @ 10:06:46] EmissionsData(timestamp='2023-04-25T10:06:46', project_name='codecarbon', run_id='cbcdde9b-da5f-4b0a-8c6b-7636ca066156', duration=53.63950800895691, emissions=0.00015190027121548654, emissions_rate=0.0028318729394408637, cpu_power=27.0, gpu_power=1.025, ram_power=0.22994613647460938, cpu_energy=0.00040083070278167706, gpu_energy=1.4721989978883006e-05, ram_energy=2.8313603444912396e-06, energy_consumed=0.0004183840531050512, country_name='Chile', country_iso_code='CHL', region='santiago metropolitan', cloud_provider='', cloud_region='', os='Windows-10-10.0.19045-SP0', python_version='3.10.10', cpu_count=12, cpu_model='AMD Ryzen 5 4600H with Radeon Graphics', gpu_count=1, gpu_model='1 x NVIDIA GeForce GTX 1650', longitude=-70.5937, latitude=-33.4653, ram_total_size=15.372379302978516, tracking_mode='process', on_cloud='N')\n"
     ]
    },
    {
     "name": "stdout",
     "output_type": "stream",
     "text": [
      "------------------- Processing round 85\n",
      "las decisiones son: {'subject1': 0, 'subject10': 1, 'subject100': 1, 'subject102': 1, 'subject103': 0, 'subject105': 1, 'subject107': 1, 'subject120': 1, 'subject206': 1, 'subject210': 1}\n",
      "Subtask task2a: - run 0\n",
      "las decisiones son: {'subject1': 0.13049750143124303, 'subject10': 0.9835408608682419, 'subject100': 0.8738327565421639, 'subject102': 0.9252569583091972, 'subject103': 0.42133553742560576, 'subject105': 0.5293452078055119, 'subject107': 0.5538810220679659, 'subject120': 0.508716474379422, 'subject206': 0.7915185842146965, 'subject210': 0.8969054627560974}\n",
      "Subtask task2b: - run 0\n"
     ]
    },
    {
     "name": "stderr",
     "output_type": "stream",
     "text": [
      "[codecarbon WARNING @ 10:06:47] Already started tracking\n",
      "[codecarbon INFO @ 10:06:47] Energy consumed for RAM : 0.000003 kWh. RAM Power : 0.2425675392150879 W\n",
      "[codecarbon DEBUG @ 10:06:47] RAM : 0.24 W during 0.57 s [measurement time: 0.0070]\n",
      "[codecarbon INFO @ 10:06:47] Energy consumed for all GPUs : 0.000015 kWh. All GPUs Power : 1.0050000000000001 W\n",
      "[codecarbon DEBUG @ 10:06:47] GPU : 1.01 W during 0.59 s [measurement time: 0.0070]\n",
      "[codecarbon INFO @ 10:06:47] Energy consumed for all CPUs : 0.000405 kWh. All CPUs Power : 27.0 W\n",
      "[codecarbon DEBUG @ 10:06:47] CPU : 27.00 W during 0.60 s [measurement time: 0.0010]\n",
      "[codecarbon INFO @ 10:06:47] 0.000423 kWh of electricity used since the begining.\n",
      "[codecarbon DEBUG @ 10:06:47] last_duration=0.5991470813751221\n",
      "------------------------\n",
      "[codecarbon DEBUG @ 10:06:47] We apply an energy mix of 363 g.CO2eq/kWh for Chile\n",
      "[codecarbon DEBUG @ 10:06:47] EmissionsData(timestamp='2023-04-25T10:06:47', project_name='codecarbon', run_id='cbcdde9b-da5f-4b0a-8c6b-7636ca066156', duration=54.24164938926697, emissions=0.0001536052680903957, emissions_rate=0.0028318694180562705, cpu_power=27.0, gpu_power=1.0050000000000001, ram_power=0.2425675392150879, cpu_energy=0.0004053243058919905, gpu_energy=1.4885899253222681e-05, ram_energy=2.869978502251721e-06, energy_consumed=0.0004230801836474648, country_name='Chile', country_iso_code='CHL', region='santiago metropolitan', cloud_provider='', cloud_region='', os='Windows-10-10.0.19045-SP0', python_version='3.10.10', cpu_count=12, cpu_model='AMD Ryzen 5 4600H with Radeon Graphics', gpu_count=1, gpu_model='1 x NVIDIA GeForce GTX 1650', longitude=-70.5937, latitude=-33.4653, ram_total_size=15.372379302978516, tracking_mode='process', on_cloud='N')\n"
     ]
    },
    {
     "name": "stdout",
     "output_type": "stream",
     "text": [
      "------------------- Processing round 86\n",
      "las decisiones son: {'subject1': 0, 'subject10': 1, 'subject100': 1, 'subject102': 1, 'subject103': 0, 'subject105': 1, 'subject107': 0, 'subject120': 1, 'subject206': 1, 'subject210': 1}\n",
      "Subtask task2a: - run 0\n",
      "las decisiones son: {'subject1': 0.13049750143124303, 'subject10': 0.9835408608682419, 'subject100': 0.8738327565421639, 'subject102': 0.930715463799658, 'subject103': 0.43930777622088657, 'subject105': 0.5362134570799982, 'subject107': 0.4689060733059371, 'subject120': 0.508716474379422, 'subject206': 0.8213141852246081, 'subject210': 0.8969054627560974}\n",
      "Subtask task2b: - run 0\n"
     ]
    },
    {
     "name": "stderr",
     "output_type": "stream",
     "text": [
      "[codecarbon WARNING @ 10:06:47] Already started tracking\n",
      "[codecarbon INFO @ 10:06:47] Energy consumed for RAM : 0.000003 kWh. RAM Power : 0.24241304397583008 W\n",
      "[codecarbon DEBUG @ 10:06:47] RAM : 0.24 W during 0.59 s [measurement time: 0.0072]\n",
      "[codecarbon INFO @ 10:06:47] Energy consumed for all GPUs : 0.000015 kWh. All GPUs Power : 1.002 W\n",
      "[codecarbon DEBUG @ 10:06:47] GPU : 1.00 W during 0.60 s [measurement time: 0.0070]\n",
      "[codecarbon INFO @ 10:06:47] Energy consumed for all CPUs : 0.000410 kWh. All CPUs Power : 27.0 W\n",
      "[codecarbon DEBUG @ 10:06:47] CPU : 27.00 W during 0.61 s [measurement time: 0.0010]\n",
      "[codecarbon INFO @ 10:06:47] 0.000428 kWh of electricity used since the begining.\n",
      "[codecarbon DEBUG @ 10:06:47] last_duration=0.6129043102264404\n",
      "------------------------\n",
      "[codecarbon DEBUG @ 10:06:47] We apply an energy mix of 363 g.CO2eq/kWh for Chile\n",
      "[codecarbon DEBUG @ 10:06:47] EmissionsData(timestamp='2023-04-25T10:06:47', project_name='codecarbon', run_id='cbcdde9b-da5f-4b0a-8c6b-7636ca066156', duration=54.855539083480835, emissions=0.00015534913912174369, emissions_rate=0.0028319681424573847, cpu_power=27.0, gpu_power=1.002, ram_power=0.24241304397583008, cpu_energy=0.0004099210882186888, gpu_energy=1.505286823663447e-05, ram_energy=2.9094301380588183e-06, energy_consumed=0.00042788338659338203, country_name='Chile', country_iso_code='CHL', region='santiago metropolitan', cloud_provider='', cloud_region='', os='Windows-10-10.0.19045-SP0', python_version='3.10.10', cpu_count=12, cpu_model='AMD Ryzen 5 4600H with Radeon Graphics', gpu_count=1, gpu_model='1 x NVIDIA GeForce GTX 1650', longitude=-70.5937, latitude=-33.4653, ram_total_size=15.372379302978516, tracking_mode='process', on_cloud='N')\n"
     ]
    },
    {
     "name": "stdout",
     "output_type": "stream",
     "text": [
      "------------------- Processing round 87\n",
      "las decisiones son: {'subject1': 0, 'subject10': 1, 'subject100': 1, 'subject102': 1, 'subject103': 0, 'subject105': 1, 'subject107': 0, 'subject120': 1, 'subject206': 1, 'subject210': 1}\n",
      "Subtask task2a: - run 0\n",
      "las decisiones son: {'subject1': 0.13049750143124303, 'subject10': 0.9835408608682419, 'subject100': 0.8738327565421639, 'subject102': 0.9364374103577621, 'subject103': 0.43930777622088657, 'subject105': 0.5401268417904302, 'subject107': 0.46918063471764615, 'subject120': 0.508716474379422, 'subject206': 0.8161964633404797, 'subject210': 0.8969054627560974}\n",
      "Subtask task2b: - run 0\n"
     ]
    },
    {
     "name": "stderr",
     "output_type": "stream",
     "text": [
      "[codecarbon WARNING @ 10:06:48] Already started tracking\n",
      "[codecarbon INFO @ 10:06:48] Energy consumed for RAM : 0.000003 kWh. RAM Power : 0.2551703453063965 W\n",
      "[codecarbon DEBUG @ 10:06:48] RAM : 0.26 W during 0.58 s [measurement time: 0.0070]\n",
      "[codecarbon INFO @ 10:06:48] Energy consumed for all GPUs : 0.000015 kWh. All GPUs Power : 1.0050000000000001 W\n",
      "[codecarbon DEBUG @ 10:06:48] GPU : 1.01 W during 0.59 s [measurement time: 0.0060]\n",
      "[codecarbon INFO @ 10:06:48] Energy consumed for all CPUs : 0.000414 kWh. All CPUs Power : 27.0 W\n",
      "[codecarbon DEBUG @ 10:06:48] CPU : 27.00 W during 0.60 s [measurement time: 0.0010]\n",
      "[codecarbon INFO @ 10:06:48] 0.000433 kWh of electricity used since the begining.\n",
      "[codecarbon DEBUG @ 10:06:48] last_duration=0.6005983352661133\n",
      "------------------------\n",
      "[codecarbon DEBUG @ 10:06:48] We apply an energy mix of 363 g.CO2eq/kWh for Chile\n",
      "[codecarbon DEBUG @ 10:06:48] EmissionsData(timestamp='2023-04-25T10:06:48', project_name='codecarbon', run_id='cbcdde9b-da5f-4b0a-8c6b-7636ca066156', duration=55.46014881134033, emissions=0.00015705912892927256, emissions_rate=0.002831927650672974, cpu_power=27.0, gpu_power=1.0050000000000001, ram_power=0.2551703453063965, cpu_energy=0.00041442557573318465, gpu_energy=1.5217463928990898e-05, ram_energy=2.9502296767570135e-06, energy_consumed=0.0004325932693389325, country_name='Chile', country_iso_code='CHL', region='santiago metropolitan', cloud_provider='', cloud_region='', os='Windows-10-10.0.19045-SP0', python_version='3.10.10', cpu_count=12, cpu_model='AMD Ryzen 5 4600H with Radeon Graphics', gpu_count=1, gpu_model='1 x NVIDIA GeForce GTX 1650', longitude=-70.5937, latitude=-33.4653, ram_total_size=15.372379302978516, tracking_mode='process', on_cloud='N')\n"
     ]
    },
    {
     "name": "stdout",
     "output_type": "stream",
     "text": [
      "------------------- Processing round 88\n",
      "las decisiones son: {'subject1': 0, 'subject10': 1, 'subject100': 1, 'subject102': 1, 'subject103': 0, 'subject105': 1, 'subject107': 0, 'subject120': 1, 'subject206': 1, 'subject210': 1}\n",
      "Subtask task2a: - run 0\n",
      "las decisiones son: {'subject1': 0.13049750143124303, 'subject10': 0.9835408608682419, 'subject100': 0.8738327565421639, 'subject102': 0.9507360523554202, 'subject103': 0.44590205164237806, 'subject105': 0.563476180701045, 'subject107': 0.49029420488827224, 'subject120': 0.508716474379422, 'subject206': 0.8180036198135738, 'subject210': 0.8969054627560974}\n",
      "Subtask task2b: - run 0\n"
     ]
    },
    {
     "name": "stderr",
     "output_type": "stream",
     "text": [
      "[codecarbon WARNING @ 10:06:49] Already started tracking\n",
      "[codecarbon INFO @ 10:06:49] Energy consumed for RAM : 0.000003 kWh. RAM Power : 0.2675185203552246 W\n",
      "[codecarbon DEBUG @ 10:06:49] RAM : 0.27 W during 0.58 s [measurement time: 0.0090]\n",
      "[codecarbon INFO @ 10:06:49] Energy consumed for all GPUs : 0.000015 kWh. All GPUs Power : 1.0110000000000001 W\n",
      "[codecarbon DEBUG @ 10:06:49] GPU : 1.01 W during 0.60 s [measurement time: 0.0070]\n",
      "[codecarbon INFO @ 10:06:49] Energy consumed for all CPUs : 0.000419 kWh. All CPUs Power : 27.0 W\n",
      "[codecarbon DEBUG @ 10:06:49] CPU : 27.00 W during 0.61 s [measurement time: 0.0010]\n",
      "[codecarbon INFO @ 10:06:49] 0.000437 kWh of electricity used since the begining.\n",
      "[codecarbon DEBUG @ 10:06:49] last_duration=0.612863302230835\n",
      "------------------------\n",
      "[codecarbon DEBUG @ 10:06:49] We apply an energy mix of 363 g.CO2eq/kWh for Chile\n",
      "[codecarbon DEBUG @ 10:06:49] EmissionsData(timestamp='2023-04-25T10:06:49', project_name='codecarbon', run_id='cbcdde9b-da5f-4b0a-8c6b-7636ca066156', duration=56.076009035110474, emissions=0.00015880495937438036, emissions_rate=0.002831959016108813, cpu_power=27.0, gpu_power=1.0110000000000001, ram_power=0.2675185203552246, cpu_energy=0.0004190220504999159, gpu_energy=1.5386144013537306e-05, ram_energy=2.993674650967553e-06, energy_consumed=0.0004374018691644207, country_name='Chile', country_iso_code='CHL', region='santiago metropolitan', cloud_provider='', cloud_region='', os='Windows-10-10.0.19045-SP0', python_version='3.10.10', cpu_count=12, cpu_model='AMD Ryzen 5 4600H with Radeon Graphics', gpu_count=1, gpu_model='1 x NVIDIA GeForce GTX 1650', longitude=-70.5937, latitude=-33.4653, ram_total_size=15.372379302978516, tracking_mode='process', on_cloud='N')\n"
     ]
    },
    {
     "name": "stdout",
     "output_type": "stream",
     "text": [
      "------------------- Processing round 89\n",
      "las decisiones son: {'subject1': 0, 'subject10': 1, 'subject100': 1, 'subject102': 1, 'subject103': 0, 'subject105': 1, 'subject107': 1, 'subject120': 1, 'subject206': 1, 'subject210': 1}\n",
      "Subtask task2a: - run 0\n",
      "las decisiones son: {'subject1': 0.13049750143124303, 'subject10': 0.9835408608682419, 'subject100': 0.8738327565421639, 'subject102': 0.9517504999771026, 'subject103': 0.4562653706024162, 'subject105': 0.616103386917478, 'subject107': 0.5240316554570973, 'subject120': 0.508716474379422, 'subject206': 0.8048508659111397, 'subject210': 0.8969054627560974}\n",
      "Subtask task2b: - run 0\n"
     ]
    },
    {
     "name": "stderr",
     "output_type": "stream",
     "text": [
      "[codecarbon WARNING @ 10:06:49] Already started tracking\n",
      "[codecarbon INFO @ 10:06:49] Energy consumed for RAM : 0.000003 kWh. RAM Power : 0.26740407943725586 W\n",
      "[codecarbon DEBUG @ 10:06:49] RAM : 0.27 W during 0.59 s [measurement time: 0.0070]\n",
      "[codecarbon INFO @ 10:06:49] Energy consumed for all GPUs : 0.000016 kWh. All GPUs Power : 1.0070000000000001 W\n",
      "[codecarbon DEBUG @ 10:06:49] GPU : 1.01 W during 0.60 s [measurement time: 0.0080]\n",
      "[codecarbon INFO @ 10:06:49] Energy consumed for all CPUs : 0.000424 kWh. All CPUs Power : 27.0 W\n",
      "[codecarbon DEBUG @ 10:06:49] CPU : 27.00 W during 0.62 s [measurement time: 0.0010]\n",
      "[codecarbon INFO @ 10:06:49] 0.000442 kWh of electricity used since the begining.\n",
      "[codecarbon DEBUG @ 10:06:49] last_duration=0.6161441802978516\n",
      "------------------------\n",
      "[codecarbon DEBUG @ 10:06:49] We apply an energy mix of 363 g.CO2eq/kWh for Chile\n",
      "[codecarbon DEBUG @ 10:06:49] EmissionsData(timestamp='2023-04-25T10:06:49', project_name='codecarbon', run_id='cbcdde9b-da5f-4b0a-8c6b-7636ca066156', duration=56.69414782524109, emissions=0.00016055984857217873, emissions_rate=0.0028320356638413934, cpu_power=27.0, gpu_power=1.0070000000000001, ram_power=0.26740407943725586, cpu_energy=0.00042364313185214977, gpu_energy=1.5554853439529744e-05, ram_energy=3.0374345270622403e-06, energy_consumed=0.0004422354198187417, country_name='Chile', country_iso_code='CHL', region='santiago metropolitan', cloud_provider='', cloud_region='', os='Windows-10-10.0.19045-SP0', python_version='3.10.10', cpu_count=12, cpu_model='AMD Ryzen 5 4600H with Radeon Graphics', gpu_count=1, gpu_model='1 x NVIDIA GeForce GTX 1650', longitude=-70.5937, latitude=-33.4653, ram_total_size=15.372379302978516, tracking_mode='process', on_cloud='N')\n"
     ]
    },
    {
     "name": "stdout",
     "output_type": "stream",
     "text": [
      "------------------- Processing round 90\n",
      "las decisiones son: {'subject1': 0, 'subject10': 1, 'subject100': 1, 'subject102': 1, 'subject103': 0, 'subject105': 1, 'subject107': 1, 'subject120': 1, 'subject206': 1, 'subject210': 1}\n",
      "Subtask task2a: - run 0\n",
      "las decisiones son: {'subject1': 0.13049750143124303, 'subject10': 0.9835408608682419, 'subject100': 0.8738327565421639, 'subject102': 0.9537581018164779, 'subject103': 0.4794218007509446, 'subject105': 0.6043804519138507, 'subject107': 0.568355575044247, 'subject120': 0.508716474379422, 'subject206': 0.8010991846016936, 'subject210': 0.8969054627560974}\n",
      "Subtask task2b: - run 0\n"
     ]
    },
    {
     "name": "stderr",
     "output_type": "stream",
     "text": [
      "[codecarbon WARNING @ 10:06:50] Already started tracking\n",
      "[codecarbon INFO @ 10:06:50] Energy consumed for RAM : 0.000003 kWh. RAM Power : 0.17195892333984375 W\n",
      "[codecarbon DEBUG @ 10:06:50] RAM : 0.17 W during 0.79 s [measurement time: 0.0080]\n",
      "[codecarbon INFO @ 10:06:50] Energy consumed for all GPUs : 0.000016 kWh. All GPUs Power : 1.0190000000000001 W\n",
      "[codecarbon DEBUG @ 10:06:50] GPU : 1.02 W during 0.80 s [measurement time: 0.0070]\n",
      "[codecarbon INFO @ 10:06:50] Energy consumed for all CPUs : 0.000430 kWh. All CPUs Power : 27.0 W\n",
      "[codecarbon DEBUG @ 10:06:50] CPU : 27.00 W during 0.82 s [measurement time: 0.0010]\n",
      "[codecarbon INFO @ 10:06:50] 0.000449 kWh of electricity used since the begining.\n",
      "[codecarbon DEBUG @ 10:06:50] last_duration=0.8181817531585693\n",
      "------------------------\n",
      "[codecarbon DEBUG @ 10:06:50] We apply an energy mix of 363 g.CO2eq/kWh for Chile\n",
      "[codecarbon DEBUG @ 10:06:50] EmissionsData(timestamp='2023-04-25T10:06:50', project_name='codecarbon', run_id='cbcdde9b-da5f-4b0a-8c6b-7636ca066156', duration=57.513328552246094, emissions=0.0001628840543586966, emissions_rate=0.002832109677163441, cpu_power=27.0, gpu_power=1.0190000000000001, ram_power=0.17195892333984375, cpu_energy=0.000429779495000839, gpu_energy=1.5782480624914175e-05, ram_energy=3.0750827775181234e-06, energy_consumed=0.00044863705840327125, country_name='Chile', country_iso_code='CHL', region='santiago metropolitan', cloud_provider='', cloud_region='', os='Windows-10-10.0.19045-SP0', python_version='3.10.10', cpu_count=12, cpu_model='AMD Ryzen 5 4600H with Radeon Graphics', gpu_count=1, gpu_model='1 x NVIDIA GeForce GTX 1650', longitude=-70.5937, latitude=-33.4653, ram_total_size=15.372379302978516, tracking_mode='process', on_cloud='N')\n"
     ]
    },
    {
     "name": "stdout",
     "output_type": "stream",
     "text": [
      "------------------- Processing round 91\n",
      "las decisiones son: {'subject1': 0, 'subject10': 1, 'subject100': 1, 'subject102': 1, 'subject103': 0, 'subject105': 1, 'subject107': 1, 'subject120': 1, 'subject206': 1, 'subject210': 1}\n",
      "Subtask task2a: - run 0\n",
      "las decisiones son: {'subject1': 0.13049750143124303, 'subject10': 0.9835408608682419, 'subject100': 0.8738327565421639, 'subject102': 0.9501441709546132, 'subject103': 0.4600722032438338, 'subject105': 0.6036820100574425, 'subject107': 0.5894345996201839, 'subject120': 0.508716474379422, 'subject206': 0.771664428244918, 'subject210': 0.8969054627560974}\n",
      "Subtask task2b: - run 0\n"
     ]
    },
    {
     "name": "stderr",
     "output_type": "stream",
     "text": [
      "[codecarbon WARNING @ 10:06:51] Already started tracking\n",
      "[codecarbon INFO @ 10:06:51] Energy consumed for RAM : 0.000003 kWh. RAM Power : 0.17866802215576172 W\n",
      "[codecarbon DEBUG @ 10:06:51] RAM : 0.18 W during 0.60 s [measurement time: 0.0080]\n",
      "[codecarbon INFO @ 10:06:51] Energy consumed for all GPUs : 0.000016 kWh. All GPUs Power : 1.01 W\n",
      "[codecarbon DEBUG @ 10:06:51] GPU : 1.01 W during 0.61 s [measurement time: 0.0080]\n",
      "[codecarbon INFO @ 10:06:51] Energy consumed for all CPUs : 0.000434 kWh. All CPUs Power : 27.0 W\n",
      "[codecarbon DEBUG @ 10:06:51] CPU : 27.00 W during 0.63 s [measurement time: 0.0000]\n",
      "[codecarbon INFO @ 10:06:51] 0.000454 kWh of electricity used since the begining.\n",
      "[codecarbon DEBUG @ 10:06:51] last_duration=0.6252057552337646\n",
      "------------------------\n",
      "[codecarbon DEBUG @ 10:06:51] We apply an energy mix of 363 g.CO2eq/kWh for Chile\n",
      "[codecarbon DEBUG @ 10:06:51] EmissionsData(timestamp='2023-04-25T10:06:51', project_name='codecarbon', run_id='cbcdde9b-da5f-4b0a-8c6b-7636ca066156', duration=58.14053010940552, emissions=0.00016465947753455275, emissions_rate=0.0028320945341348967, cpu_power=27.0, gpu_power=1.01, ram_power=0.17866802215576172, cpu_energy=0.00043446853816509227, gpu_energy=1.5953956206904524e-05, ram_energy=3.1046721156609647e-06, energy_consumed=0.00045352716648765765, country_name='Chile', country_iso_code='CHL', region='santiago metropolitan', cloud_provider='', cloud_region='', os='Windows-10-10.0.19045-SP0', python_version='3.10.10', cpu_count=12, cpu_model='AMD Ryzen 5 4600H with Radeon Graphics', gpu_count=1, gpu_model='1 x NVIDIA GeForce GTX 1650', longitude=-70.5937, latitude=-33.4653, ram_total_size=15.372379302978516, tracking_mode='process', on_cloud='N')\n"
     ]
    },
    {
     "name": "stdout",
     "output_type": "stream",
     "text": [
      "------------------- Processing round 92\n",
      "las decisiones son: {'subject1': 0, 'subject10': 1, 'subject100': 1, 'subject102': 1, 'subject103': 0, 'subject105': 1, 'subject107': 1, 'subject120': 1, 'subject206': 1, 'subject210': 1}\n",
      "Subtask task2a: - run 0\n",
      "las decisiones son: {'subject1': 0.13049750143124303, 'subject10': 0.9835408608682419, 'subject100': 0.8738327565421639, 'subject102': 0.9507262835394702, 'subject103': 0.4765151613014132, 'subject105': 0.6700620270068024, 'subject107': 0.5967221174688294, 'subject120': 0.508716474379422, 'subject206': 0.7752301895487506, 'subject210': 0.8969054627560974}\n",
      "Subtask task2b: - run 0\n"
     ]
    },
    {
     "name": "stderr",
     "output_type": "stream",
     "text": [
      "[codecarbon WARNING @ 10:06:51] Already started tracking\n",
      "[codecarbon INFO @ 10:06:51] Energy consumed for RAM : 0.000003 kWh. RAM Power : 0.17908143997192386 W\n",
      "[codecarbon DEBUG @ 10:06:51] RAM : 0.18 W during 0.60 s [measurement time: 0.0070]\n",
      "[codecarbon INFO @ 10:06:51] Energy consumed for all GPUs : 0.000016 kWh. All GPUs Power : 1.014 W\n",
      "[codecarbon DEBUG @ 10:06:51] GPU : 1.03 W during 0.61 s [measurement time: 0.0090]\n",
      "[codecarbon INFO @ 10:06:51] Energy consumed for all CPUs : 0.000439 kWh. All CPUs Power : 27.0 W\n",
      "[codecarbon DEBUG @ 10:06:51] CPU : 27.00 W during 0.63 s [measurement time: 0.0020]\n",
      "[codecarbon INFO @ 10:06:51] 0.000458 kWh of electricity used since the begining.\n",
      "[codecarbon DEBUG @ 10:06:51] last_duration=0.6267919540405273\n",
      "------------------------\n",
      "[codecarbon DEBUG @ 10:06:51] We apply an energy mix of 363 g.CO2eq/kWh for Chile\n",
      "[codecarbon DEBUG @ 10:06:51] EmissionsData(timestamp='2023-04-25T10:06:51', project_name='codecarbon', run_id='cbcdde9b-da5f-4b0a-8c6b-7636ca066156', duration=58.770331382751465, emissions=0.00016643980377648257, emissions_rate=0.0028320378643522685, cpu_power=27.0, gpu_power=1.014, ram_power=0.17908143997192386, cpu_energy=0.0004391694778203962, gpu_energy=1.6126842213339282e-05, ram_energy=3.1344592189792775e-06, energy_consumed=0.00045843077925271467, country_name='Chile', country_iso_code='CHL', region='santiago metropolitan', cloud_provider='', cloud_region='', os='Windows-10-10.0.19045-SP0', python_version='3.10.10', cpu_count=12, cpu_model='AMD Ryzen 5 4600H with Radeon Graphics', gpu_count=1, gpu_model='1 x NVIDIA GeForce GTX 1650', longitude=-70.5937, latitude=-33.4653, ram_total_size=15.372379302978516, tracking_mode='process', on_cloud='N')\n"
     ]
    },
    {
     "name": "stdout",
     "output_type": "stream",
     "text": [
      "------------------- Processing round 93\n",
      "las decisiones son: {'subject1': 0, 'subject10': 1, 'subject100': 1, 'subject102': 1, 'subject103': 0, 'subject105': 1, 'subject107': 1, 'subject120': 1, 'subject206': 1, 'subject210': 1}\n",
      "Subtask task2a: - run 0\n",
      "las decisiones son: {'subject1': 0.13049750143124303, 'subject10': 0.9835408608682419, 'subject100': 0.8738327565421639, 'subject102': 0.9544200702386287, 'subject103': 0.4298640753356203, 'subject105': 0.6714713654475737, 'subject107': 0.6009757425366743, 'subject120': 0.508716474379422, 'subject206': 0.7603318683025831, 'subject210': 0.8969054627560974}\n",
      "Subtask task2b: - run 0\n"
     ]
    },
    {
     "name": "stderr",
     "output_type": "stream",
     "text": [
      "[codecarbon WARNING @ 10:06:52] Already started tracking\n",
      "[codecarbon INFO @ 10:06:52] Energy consumed for RAM : 0.000003 kWh. RAM Power : 0.18608808517456055 W\n",
      "[codecarbon DEBUG @ 10:06:52] RAM : 0.19 W during 0.59 s [measurement time: 0.0070]\n",
      "[codecarbon INFO @ 10:06:52] Energy consumed for all GPUs : 0.000016 kWh. All GPUs Power : 1.0110000000000001 W\n",
      "[codecarbon DEBUG @ 10:06:52] GPU : 1.01 W during 0.60 s [measurement time: 0.0070]\n",
      "[codecarbon INFO @ 10:06:52] Energy consumed for all CPUs : 0.000444 kWh. All CPUs Power : 27.0 W\n",
      "[codecarbon DEBUG @ 10:06:52] CPU : 27.00 W during 0.61 s [measurement time: 0.0000]\n",
      "[codecarbon INFO @ 10:06:52] 0.000463 kWh of electricity used since the begining.\n",
      "[codecarbon DEBUG @ 10:06:52] last_duration=0.6121351718902588\n",
      "------------------------\n",
      "[codecarbon DEBUG @ 10:06:52] We apply an energy mix of 363 g.CO2eq/kWh for Chile\n",
      "[codecarbon DEBUG @ 10:06:52] EmissionsData(timestamp='2023-04-25T10:06:52', project_name='codecarbon', run_id='cbcdde9b-da5f-4b0a-8c6b-7636ca066156', duration=59.384461641311646, emissions=0.00016817870464990695, emissions_rate=0.0028320321512001556, cpu_power=27.0, gpu_power=1.0110000000000001, ram_power=0.18608808517456055, cpu_energy=0.00044376049160957317, gpu_energy=1.6295096726285092e-05, ram_energy=3.1647043887522836e-06, energy_consumed=0.0004632202927246105, country_name='Chile', country_iso_code='CHL', region='santiago metropolitan', cloud_provider='', cloud_region='', os='Windows-10-10.0.19045-SP0', python_version='3.10.10', cpu_count=12, cpu_model='AMD Ryzen 5 4600H with Radeon Graphics', gpu_count=1, gpu_model='1 x NVIDIA GeForce GTX 1650', longitude=-70.5937, latitude=-33.4653, ram_total_size=15.372379302978516, tracking_mode='process', on_cloud='N')\n"
     ]
    },
    {
     "name": "stdout",
     "output_type": "stream",
     "text": [
      "------------------- Processing round 94\n",
      "las decisiones son: {'subject1': 0, 'subject10': 1, 'subject100': 1, 'subject102': 1, 'subject103': 0, 'subject105': 1, 'subject107': 1, 'subject120': 1, 'subject206': 1, 'subject210': 1}\n",
      "Subtask task2a: - run 0\n",
      "las decisiones son: {'subject1': 0.13049750143124303, 'subject10': 0.9835408608682419, 'subject100': 0.8738327565421639, 'subject102': 0.9543424175812644, 'subject103': 0.4104267559656811, 'subject105': 0.685378172848367, 'subject107': 0.6001965926927996, 'subject120': 0.508716474379422, 'subject206': 0.7806403754861369, 'subject210': 0.8969054627560974}\n",
      "Subtask task2b: - run 0\n"
     ]
    },
    {
     "name": "stderr",
     "output_type": "stream",
     "text": [
      "[codecarbon WARNING @ 10:06:52] Already started tracking\n",
      "[codecarbon INFO @ 10:06:53] Energy consumed for RAM : 0.000003 kWh. RAM Power : 0.19331073760986328 W\n",
      "[codecarbon DEBUG @ 10:06:53] RAM : 0.19 W during 0.58 s [measurement time: 0.0070]\n",
      "[codecarbon INFO @ 10:06:53] Energy consumed for all GPUs : 0.000016 kWh. All GPUs Power : 1.0030000000000001 W\n",
      "[codecarbon DEBUG @ 10:06:53] GPU : 1.00 W during 0.59 s [measurement time: 0.0070]\n",
      "[codecarbon INFO @ 10:06:53] Energy consumed for all CPUs : 0.000448 kWh. All CPUs Power : 27.0 W\n",
      "[codecarbon DEBUG @ 10:06:53] CPU : 27.00 W during 0.60 s [measurement time: 0.0000]\n",
      "[codecarbon INFO @ 10:06:53] 0.000468 kWh of electricity used since the begining.\n",
      "[codecarbon DEBUG @ 10:06:53] last_duration=0.6025145053863525\n",
      "------------------------\n",
      "[codecarbon DEBUG @ 10:06:53] We apply an energy mix of 363 g.CO2eq/kWh for Chile\n",
      "[codecarbon DEBUG @ 10:06:53] EmissionsData(timestamp='2023-04-25T10:06:53', project_name='codecarbon', run_id='cbcdde9b-da5f-4b0a-8c6b-7636ca066156', duration=59.98897647857666, emissions=0.00016989019163669226, emissions_rate=0.0028320235084751556, cpu_power=27.0, gpu_power=1.0030000000000001, ram_power=0.19331073760986328, cpu_energy=0.0004482793503999708, gpu_energy=1.6459341018067473e-05, ram_energy=3.1956077835718585e-06, energy_consumed=0.00046793429920161003, country_name='Chile', country_iso_code='CHL', region='santiago metropolitan', cloud_provider='', cloud_region='', os='Windows-10-10.0.19045-SP0', python_version='3.10.10', cpu_count=12, cpu_model='AMD Ryzen 5 4600H with Radeon Graphics', gpu_count=1, gpu_model='1 x NVIDIA GeForce GTX 1650', longitude=-70.5937, latitude=-33.4653, ram_total_size=15.372379302978516, tracking_mode='process', on_cloud='N')\n"
     ]
    },
    {
     "name": "stdout",
     "output_type": "stream",
     "text": [
      "------------------- Processing round 95\n",
      "las decisiones son: {'subject1': 0, 'subject10': 1, 'subject100': 1, 'subject102': 1, 'subject103': 0, 'subject105': 1, 'subject107': 1, 'subject120': 1, 'subject206': 1, 'subject210': 1}\n",
      "Subtask task2a: - run 0\n",
      "las decisiones son: {'subject1': 0.13049750143124303, 'subject10': 0.9835408608682419, 'subject100': 0.8738327565421639, 'subject102': 0.9581875949906842, 'subject103': 0.4152398683444323, 'subject105': 0.6825005537935078, 'subject107': 0.6288944656049528, 'subject120': 0.508716474379422, 'subject206': 0.7818057531357618, 'subject210': 0.8969054627560974}\n",
      "Subtask task2b: - run 0\n"
     ]
    },
    {
     "name": "stderr",
     "output_type": "stream",
     "text": [
      "[codecarbon WARNING @ 10:06:53] Already started tracking\n",
      "[codecarbon INFO @ 10:06:53] Energy consumed for RAM : 0.000003 kWh. RAM Power : 0.193202018737793 W\n",
      "[codecarbon DEBUG @ 10:06:53] RAM : 0.19 W during 0.60 s [measurement time: 0.0070]\n",
      "[codecarbon INFO @ 10:06:53] Energy consumed for all GPUs : 0.000017 kWh. All GPUs Power : 1.034 W\n",
      "[codecarbon DEBUG @ 10:06:53] GPU : 1.03 W during 0.61 s [measurement time: 0.0070]\n",
      "[codecarbon INFO @ 10:06:53] Energy consumed for all CPUs : 0.000453 kWh. All CPUs Power : 27.0 W\n",
      "[codecarbon DEBUG @ 10:06:53] CPU : 27.00 W during 0.62 s [measurement time: 0.0010]\n",
      "[codecarbon INFO @ 10:06:53] 0.000473 kWh of electricity used since the begining.\n",
      "[codecarbon DEBUG @ 10:06:53] last_duration=0.6238677501678467\n",
      "------------------------\n",
      "[codecarbon DEBUG @ 10:06:53] We apply an energy mix of 363 g.CO2eq/kWh for Chile\n",
      "[codecarbon DEBUG @ 10:06:53] EmissionsData(timestamp='2023-04-25T10:06:53', project_name='codecarbon', run_id='cbcdde9b-da5f-4b0a-8c6b-7636ca066156', duration=60.61484384536743, emissions=0.0001716644259596412, emissions_rate=0.002832052597505139, cpu_power=27.0, gpu_power=1.034, ram_power=0.193202018737793, cpu_energy=0.00045295835852622964, gpu_energy=1.6635081022977836e-05, ram_energy=3.2276932390288946e-06, energy_consumed=0.00047282113278823625, country_name='Chile', country_iso_code='CHL', region='santiago metropolitan', cloud_provider='', cloud_region='', os='Windows-10-10.0.19045-SP0', python_version='3.10.10', cpu_count=12, cpu_model='AMD Ryzen 5 4600H with Radeon Graphics', gpu_count=1, gpu_model='1 x NVIDIA GeForce GTX 1650', longitude=-70.5937, latitude=-33.4653, ram_total_size=15.372379302978516, tracking_mode='process', on_cloud='N')\n"
     ]
    },
    {
     "name": "stdout",
     "output_type": "stream",
     "text": [
      "------------------- Processing round 96\n",
      "las decisiones son: {'subject1': 0, 'subject10': 1, 'subject100': 1, 'subject102': 1, 'subject103': 0, 'subject105': 1, 'subject107': 1, 'subject120': 1, 'subject206': 1, 'subject210': 1}\n",
      "Subtask task2a: - run 0\n",
      "las decisiones son: {'subject1': 0.13049750143124303, 'subject10': 0.9835408608682419, 'subject100': 0.8738327565421639, 'subject102': 0.9617647200837012, 'subject103': 0.4359215627211499, 'subject105': 0.6826111680675102, 'subject107': 0.6205275875540913, 'subject120': 0.508716474379422, 'subject206': 0.7770302951464507, 'subject210': 0.8969054627560974}\n",
      "Subtask task2b: - run 0\n"
     ]
    },
    {
     "name": "stderr",
     "output_type": "stream",
     "text": [
      "[codecarbon WARNING @ 10:06:54] Already started tracking\n",
      "[codecarbon INFO @ 10:06:54] Energy consumed for RAM : 0.000003 kWh. RAM Power : 0.20035457611083987 W\n",
      "[codecarbon DEBUG @ 10:06:54] RAM : 0.20 W during 0.58 s [measurement time: 0.0070]\n",
      "[codecarbon INFO @ 10:06:54] Energy consumed for all GPUs : 0.000017 kWh. All GPUs Power : 1.0030000000000001 W\n",
      "[codecarbon DEBUG @ 10:06:54] GPU : 1.00 W during 0.60 s [measurement time: 0.0080]\n",
      "[codecarbon INFO @ 10:06:54] Energy consumed for all CPUs : 0.000458 kWh. All CPUs Power : 27.0 W\n",
      "[codecarbon DEBUG @ 10:06:54] CPU : 27.00 W during 0.61 s [measurement time: 0.0010]\n",
      "[codecarbon INFO @ 10:06:54] 0.000478 kWh of electricity used since the begining.\n",
      "[codecarbon DEBUG @ 10:06:54] last_duration=0.6119506359100342\n",
      "------------------------\n",
      "[codecarbon DEBUG @ 10:06:54] We apply an energy mix of 363 g.CO2eq/kWh for Chile\n",
      "[codecarbon DEBUG @ 10:06:54] EmissionsData(timestamp='2023-04-25T10:06:54', project_name='codecarbon', run_id='cbcdde9b-da5f-4b0a-8c6b-7636ca066156', duration=61.229575634002686, emissions=0.00017340316145734357, emissions_rate=0.0028320163852490823, cpu_power=27.0, gpu_power=1.0030000000000001, ram_power=0.20035457611083987, cpu_energy=0.0004575479882955549, gpu_energy=1.6801953860587552e-05, ram_energy=3.2602486040468645e-06, energy_consumed=0.0004776101907601892, country_name='Chile', country_iso_code='CHL', region='santiago metropolitan', cloud_provider='', cloud_region='', os='Windows-10-10.0.19045-SP0', python_version='3.10.10', cpu_count=12, cpu_model='AMD Ryzen 5 4600H with Radeon Graphics', gpu_count=1, gpu_model='1 x NVIDIA GeForce GTX 1650', longitude=-70.5937, latitude=-33.4653, ram_total_size=15.372379302978516, tracking_mode='process', on_cloud='N')\n"
     ]
    },
    {
     "name": "stdout",
     "output_type": "stream",
     "text": [
      "------------------- Processing round 97\n",
      "las decisiones son: {'subject1': 0, 'subject10': 1, 'subject100': 1, 'subject102': 1, 'subject103': 0, 'subject105': 1, 'subject107': 1, 'subject120': 1, 'subject206': 1, 'subject210': 1}\n",
      "Subtask task2a: - run 0\n",
      "las decisiones son: {'subject1': 0.13049750143124303, 'subject10': 0.9835408608682419, 'subject100': 0.8738327565421639, 'subject102': 0.9697900902347381, 'subject103': 0.39612967121240805, 'subject105': 0.6740442259002608, 'subject107': 0.6467264239817494, 'subject120': 0.508716474379422, 'subject206': 0.7831320820325, 'subject210': 0.8969054627560974}\n",
      "Subtask task2b: - run 0\n"
     ]
    },
    {
     "name": "stderr",
     "output_type": "stream",
     "text": [
      "[codecarbon WARNING @ 10:06:54] Already started tracking\n",
      "[codecarbon INFO @ 10:06:54] Energy consumed for RAM : 0.000003 kWh. RAM Power : 0.20755720138549805 W\n",
      "[codecarbon DEBUG @ 10:06:54] RAM : 0.21 W during 0.58 s [measurement time: 0.0070]\n",
      "[codecarbon INFO @ 10:06:54] Energy consumed for all GPUs : 0.000017 kWh. All GPUs Power : 1.0040000000000002 W\n",
      "[codecarbon DEBUG @ 10:06:54] GPU : 1.00 W during 0.59 s [measurement time: 0.0070]\n",
      "[codecarbon INFO @ 10:06:54] Energy consumed for all CPUs : 0.000462 kWh. All CPUs Power : 27.0 W\n",
      "[codecarbon DEBUG @ 10:06:54] CPU : 27.00 W during 0.60 s [measurement time: 0.0010]\n",
      "[codecarbon INFO @ 10:06:54] 0.000482 kWh of electricity used since the begining.\n",
      "[codecarbon DEBUG @ 10:06:54] last_duration=0.6033024787902832\n",
      "------------------------\n",
      "[codecarbon DEBUG @ 10:06:54] We apply an energy mix of 363 g.CO2eq/kWh for Chile\n",
      "[codecarbon DEBUG @ 10:06:54] EmissionsData(timestamp='2023-04-25T10:06:54', project_name='codecarbon', run_id='cbcdde9b-da5f-4b0a-8c6b-7636ca066156', duration=61.83488655090332, emissions=0.00017511777849348663, emissions_rate=0.002832022313962318, cpu_power=27.0, gpu_power=1.0040000000000002, ram_power=0.20755720138549805, cpu_energy=0.00046207275688648204, gpu_energy=1.696658565196727e-05, ram_energy=3.2934758995197435e-06, energy_consumed=0.00048233281843796896, country_name='Chile', country_iso_code='CHL', region='santiago metropolitan', cloud_provider='', cloud_region='', os='Windows-10-10.0.19045-SP0', python_version='3.10.10', cpu_count=12, cpu_model='AMD Ryzen 5 4600H with Radeon Graphics', gpu_count=1, gpu_model='1 x NVIDIA GeForce GTX 1650', longitude=-70.5937, latitude=-33.4653, ram_total_size=15.372379302978516, tracking_mode='process', on_cloud='N')\n"
     ]
    },
    {
     "name": "stdout",
     "output_type": "stream",
     "text": [
      "------------------- Processing round 98\n",
      "las decisiones son: {'subject1': 0, 'subject10': 1, 'subject100': 1, 'subject102': 1, 'subject103': 0, 'subject105': 1, 'subject107': 1, 'subject120': 1, 'subject206': 1, 'subject210': 1}\n",
      "Subtask task2a: - run 0\n",
      "las decisiones son: {'subject1': 0.13049750143124303, 'subject10': 0.9835408608682419, 'subject100': 0.8738327565421639, 'subject102': 0.9726582096578827, 'subject103': 0.39132578489817116, 'subject105': 0.6741326257951119, 'subject107': 0.6669896905658136, 'subject120': 0.508716474379422, 'subject206': 0.8350004670076884, 'subject210': 0.8969054627560974}\n",
      "Subtask task2b: - run 0\n"
     ]
    },
    {
     "name": "stderr",
     "output_type": "stream",
     "text": [
      "[codecarbon WARNING @ 10:06:55] Already started tracking\n",
      "[codecarbon INFO @ 10:06:55] Energy consumed for RAM : 0.000003 kWh. RAM Power : 0.20765447616577148 W\n",
      "[codecarbon DEBUG @ 10:06:55] RAM : 0.21 W during 0.60 s [measurement time: 0.0070]\n",
      "[codecarbon INFO @ 10:06:55] Energy consumed for all GPUs : 0.000017 kWh. All GPUs Power : 1.0070000000000001 W\n",
      "[codecarbon DEBUG @ 10:06:55] GPU : 1.01 W during 0.61 s [measurement time: 0.0070]\n",
      "[codecarbon INFO @ 10:06:55] Energy consumed for all CPUs : 0.000467 kWh. All CPUs Power : 27.0 W\n",
      "[codecarbon DEBUG @ 10:06:55] CPU : 27.00 W during 0.63 s [measurement time: 0.0000]\n",
      "[codecarbon INFO @ 10:06:55] 0.000487 kWh of electricity used since the begining.\n",
      "[codecarbon DEBUG @ 10:06:55] last_duration=0.6287996768951416\n",
      "------------------------\n",
      "[codecarbon DEBUG @ 10:06:55] We apply an energy mix of 363 g.CO2eq/kWh for Chile\n",
      "[codecarbon DEBUG @ 10:06:55] EmissionsData(timestamp='2023-04-25T10:06:55', project_name='codecarbon', run_id='cbcdde9b-da5f-4b0a-8c6b-7636ca066156', duration=62.46567702293396, emissions=0.00017690500724436173, emissions_rate=0.002832035378075098, cpu_power=27.0, gpu_power=1.0070000000000001, ram_power=0.20765447616577148, cpu_energy=0.0004667887544631956, gpu_energy=1.7138557867209128e-05, ram_energy=3.32813068639903e-06, energy_consumed=0.0004872554430168036, country_name='Chile', country_iso_code='CHL', region='santiago metropolitan', cloud_provider='', cloud_region='', os='Windows-10-10.0.19045-SP0', python_version='3.10.10', cpu_count=12, cpu_model='AMD Ryzen 5 4600H with Radeon Graphics', gpu_count=1, gpu_model='1 x NVIDIA GeForce GTX 1650', longitude=-70.5937, latitude=-33.4653, ram_total_size=15.372379302978516, tracking_mode='process', on_cloud='N')\n"
     ]
    },
    {
     "name": "stdout",
     "output_type": "stream",
     "text": [
      "------------------- Processing round 99\n",
      "las decisiones son: {'subject1': 0, 'subject10': 1, 'subject100': 1, 'subject102': 1, 'subject103': 0, 'subject105': 1, 'subject107': 1, 'subject120': 1, 'subject206': 1, 'subject210': 1}\n",
      "Subtask task2a: - run 0\n",
      "las decisiones son: {'subject1': 0.13049750143124303, 'subject10': 0.9835408608682419, 'subject100': 0.8738327565421639, 'subject102': 0.9748369475984364, 'subject103': 0.39814896304319314, 'subject105': 0.6697009943514338, 'subject107': 0.682676791459777, 'subject120': 0.508716474379422, 'subject206': 0.8477330464768575, 'subject210': 0.8969054627560974}\n",
      "Subtask task2b: - run 0\n",
      "All rounds processed\n"
     ]
    }
   ],
   "source": [
    "## corremos la task\n",
    "number_runs = 1 # Max: 3 en el servidor real, NO cambiar aquí ya que no hay lógica para entregar diferentes resultados según el run\n",
    "client_task = Client_taskX(TASK, SUBTASKS, TOKEN, number_runs, tracker)\n",
    "client_task.pipelines = PIPELINES_PER_SUBTASK\n",
    "client_task.run_taskX(3, 0.1)"
   ]
  }
 ],
 "metadata": {
  "kernelspec": {
   "display_name": "Python 3 (ipykernel)",
   "language": "python",
   "name": "python3"
  },
  "language_info": {
   "codemirror_mode": {
    "name": "ipython",
    "version": 3
   },
   "file_extension": ".py",
   "mimetype": "text/x-python",
   "name": "python",
   "nbconvert_exporter": "python",
   "pygments_lexer": "ipython3",
   "version": "3.10.10"
  }
 },
 "nbformat": 4,
 "nbformat_minor": 5
}
